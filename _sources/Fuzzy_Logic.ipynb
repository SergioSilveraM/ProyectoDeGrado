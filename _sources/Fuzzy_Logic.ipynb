{
 "cells": [
  {
   "cell_type": "markdown",
   "metadata": {},
   "source": [
    "# Implementación de Logica Difusa para predicción del estado de motores a bordo de buques"
   ]
  },
  {
   "cell_type": "markdown",
   "metadata": {},
   "source": [
    "## ***Definición de Niveles y Conjuntos Difusos***"
   ]
  },
  {
   "cell_type": "code",
   "execution_count": 1,
   "metadata": {},
   "outputs": [
    {
     "data": {
      "text/html": [
       "\n",
       "<style>\n",
       "  table {\n",
       "    font-family: Arial, sans-serif;\n",
       "    border-collapse: collapse;\n",
       "    width: 100%;\n",
       "  }\n",
       "  th, td {\n",
       "    border: 2px solid #8B4513; /* Color café */\n",
       "    text-align: center;\n",
       "    padding: 10px;\n",
       "  }\n",
       "  th {\n",
       "    background-color: #8B4513; /* Fondo café oscuro */\n",
       "    color: white; /* Texto blanco para contraste */\n",
       "  }\n",
       "  tr:nth-child(even) {\n",
       "    background-color: #f5f5dc; /* Beige claro */\n",
       "    color: #000000; /* Texto negro */\n",
       "  }\n",
       "  tr:nth-child(odd) {\n",
       "    background-color: #ffffff; /* Blanco */\n",
       "    color: #000000; /* Texto negro */\n",
       "  }\n",
       "  td.variable {\n",
       "    background-color: #deb887; /* Café claro */\n",
       "    color: #000000; /* Texto negro */\n",
       "    font-weight: bold;\n",
       "    text-align: center;\n",
       "    vertical-align: middle;\n",
       "  }\n",
       "</style>\n",
       "\n",
       "<h2 style=\"font-family: Arial; color: #8B4513;\">Definición de Niveles Difusos</h2>\n",
       "\n",
       "<table>\n",
       "  <thead>\n",
       "    <tr>\n",
       "      <th>Variable</th>\n",
       "      <th>Rango</th>\n",
       "      <th>Conjunto Difuso</th>\n",
       "    </tr>\n",
       "  </thead>\n",
       "  <tbody>\n",
       "    <tr>\n",
       "      <td class=\"variable\" rowspan=\"3\">Presión</td>\n",
       "      <td>9-11</td>\n",
       "      <td>Normal</td>\n",
       "    </tr>\n",
       "    <tr>\n",
       "      <td>11-12</td>\n",
       "      <td>Alta</td>\n",
       "    </tr>\n",
       "    <tr>\n",
       "      <td>12-15</td>\n",
       "      <td>Muy Alta</td>\n",
       "    </tr>\n",
       "    <tr>\n",
       "      <td class=\"variable\" rowspan=\"3\">Amperaje</td>\n",
       "      <td>15-20</td>\n",
       "      <td>Normal</td>\n",
       "    </tr>\n",
       "    <tr>\n",
       "      <td>18-25</td>\n",
       "      <td>Alto</td>\n",
       "    </tr>\n",
       "    <tr>\n",
       "      <td>24-28</td>\n",
       "      <td>Muy Alto</td>\n",
       "    </tr>\n",
       "    <tr>\n",
       "      <td class=\"variable\" rowspan=\"3\">Vibraciones</td>\n",
       "      <td>0.1-0.35</td>\n",
       "      <td>Normales</td>\n",
       "    </tr>\n",
       "    <tr>\n",
       "      <td>0.32-0.42</td>\n",
       "      <td>Altas</td>\n",
       "    </tr>\n",
       "    <tr>\n",
       "      <td>0.42-0.5</td>\n",
       "      <td>Muy Altas</td>\n",
       "    </tr>\n",
       "    <tr>\n",
       "      <td class=\"variable\" rowspan=\"3\">Temperatura</td>\n",
       "      <td>50-80</td>\n",
       "      <td>Normal</td>\n",
       "    </tr>\n",
       "    <tr>\n",
       "      <td>77-90</td>\n",
       "      <td>Alta</td>\n",
       "    </tr>\n",
       "    <tr>\n",
       "      <td>85-110</td>\n",
       "      <td>Muy Alta</td>\n",
       "    </tr>\n",
       "    <tr>\n",
       "      <td class=\"variable\" rowspan=\"3\">Alineación</td>\n",
       "      <td>85-100</td>\n",
       "      <td>Ideal</td>\n",
       "    </tr>\n",
       "    <tr>\n",
       "      <td>75-88</td>\n",
       "      <td>Mala</td>\n",
       "    </tr>\n",
       "    <tr>\n",
       "      <td>0-78</td>\n",
       "      <td>Muy Mala</td>\n",
       "    </tr>\n",
       "    <tr>\n",
       "      <td class=\"variable\" rowspan=\"3\">Estado del Equipo</td>\n",
       "      <td>0-4</td>\n",
       "      <td>Normal</td>\n",
       "    </tr>\n",
       "    <tr>\n",
       "      <td>3-8</td>\n",
       "      <td>Alerta</td>\n",
       "    </tr>\n",
       "    <tr>\n",
       "      <td>7-10</td>\n",
       "      <td>Crítico</td>\n",
       "    </tr>\n",
       "  </tbody>\n",
       "</table>\n"
      ],
      "text/plain": [
       "<IPython.core.display.HTML object>"
      ]
     },
     "metadata": {},
     "output_type": "display_data"
    }
   ],
   "source": [
    "from IPython.display import display, HTML\n",
    "\n",
    "html_code = \"\"\"\n",
    "<style>\n",
    "  table {\n",
    "    font-family: Arial, sans-serif;\n",
    "    border-collapse: collapse;\n",
    "    width: 100%;\n",
    "  }\n",
    "  th, td {\n",
    "    border: 2px solid #8B4513; /* Color café */\n",
    "    text-align: center;\n",
    "    padding: 10px;\n",
    "  }\n",
    "  th {\n",
    "    background-color: #8B4513; /* Fondo café oscuro */\n",
    "    color: white; /* Texto blanco para contraste */\n",
    "  }\n",
    "  tr:nth-child(even) {\n",
    "    background-color: #f5f5dc; /* Beige claro */\n",
    "    color: #000000; /* Texto negro */\n",
    "  }\n",
    "  tr:nth-child(odd) {\n",
    "    background-color: #ffffff; /* Blanco */\n",
    "    color: #000000; /* Texto negro */\n",
    "  }\n",
    "  td.variable {\n",
    "    background-color: #deb887; /* Café claro */\n",
    "    color: #000000; /* Texto negro */\n",
    "    font-weight: bold;\n",
    "    text-align: center;\n",
    "    vertical-align: middle;\n",
    "  }\n",
    "</style>\n",
    "\n",
    "<h2 style=\"font-family: Arial; color: #8B4513;\">Definición de Niveles Difusos</h2>\n",
    "\n",
    "<table>\n",
    "  <thead>\n",
    "    <tr>\n",
    "      <th>Variable</th>\n",
    "      <th>Rango</th>\n",
    "      <th>Conjunto Difuso</th>\n",
    "    </tr>\n",
    "  </thead>\n",
    "  <tbody>\n",
    "    <tr>\n",
    "      <td class=\"variable\" rowspan=\"3\">Presión</td>\n",
    "      <td>9-11</td>\n",
    "      <td>Normal</td>\n",
    "    </tr>\n",
    "    <tr>\n",
    "      <td>11-12</td>\n",
    "      <td>Alta</td>\n",
    "    </tr>\n",
    "    <tr>\n",
    "      <td>12-15</td>\n",
    "      <td>Muy Alta</td>\n",
    "    </tr>\n",
    "    <tr>\n",
    "      <td class=\"variable\" rowspan=\"3\">Amperaje</td>\n",
    "      <td>15-20</td>\n",
    "      <td>Normal</td>\n",
    "    </tr>\n",
    "    <tr>\n",
    "      <td>18-25</td>\n",
    "      <td>Alto</td>\n",
    "    </tr>\n",
    "    <tr>\n",
    "      <td>24-28</td>\n",
    "      <td>Muy Alto</td>\n",
    "    </tr>\n",
    "    <tr>\n",
    "      <td class=\"variable\" rowspan=\"3\">Vibraciones</td>\n",
    "      <td>0.1-0.35</td>\n",
    "      <td>Normales</td>\n",
    "    </tr>\n",
    "    <tr>\n",
    "      <td>0.32-0.42</td>\n",
    "      <td>Altas</td>\n",
    "    </tr>\n",
    "    <tr>\n",
    "      <td>0.42-0.5</td>\n",
    "      <td>Muy Altas</td>\n",
    "    </tr>\n",
    "    <tr>\n",
    "      <td class=\"variable\" rowspan=\"3\">Temperatura</td>\n",
    "      <td>50-80</td>\n",
    "      <td>Normal</td>\n",
    "    </tr>\n",
    "    <tr>\n",
    "      <td>77-90</td>\n",
    "      <td>Alta</td>\n",
    "    </tr>\n",
    "    <tr>\n",
    "      <td>85-110</td>\n",
    "      <td>Muy Alta</td>\n",
    "    </tr>\n",
    "    <tr>\n",
    "      <td class=\"variable\" rowspan=\"3\">Alineación</td>\n",
    "      <td>85-100</td>\n",
    "      <td>Ideal</td>\n",
    "    </tr>\n",
    "    <tr>\n",
    "      <td>75-88</td>\n",
    "      <td>Mala</td>\n",
    "    </tr>\n",
    "    <tr>\n",
    "      <td>0-78</td>\n",
    "      <td>Muy Mala</td>\n",
    "    </tr>\n",
    "    <tr>\n",
    "      <td class=\"variable\" rowspan=\"3\">Estado del Equipo</td>\n",
    "      <td>0-4</td>\n",
    "      <td>Normal</td>\n",
    "    </tr>\n",
    "    <tr>\n",
    "      <td>3-8</td>\n",
    "      <td>Alerta</td>\n",
    "    </tr>\n",
    "    <tr>\n",
    "      <td>7-10</td>\n",
    "      <td>Crítico</td>\n",
    "    </tr>\n",
    "  </tbody>\n",
    "</table>\n",
    "\"\"\"\n",
    "display(HTML(html_code))\n"
   ]
  },
  {
   "cell_type": "markdown",
   "metadata": {},
   "source": [
    "## ***EDA***"
   ]
  },
  {
   "cell_type": "code",
   "execution_count": 2,
   "metadata": {},
   "outputs": [],
   "source": [
    "import pandas as pd\n",
    "import numpy as np\n",
    "import matplotlib.pyplot as plt\n",
    "import plotly.express as px\n",
    "import plotly.graph_objects as go\n",
    "import skfuzzy as fuzz\n",
    "from skfuzzy import control as ctrl\n",
    "from sklearn import metrics\n",
    "import pandas as pd\n",
    "import plotly.express as px\n",
    "import seaborn as sns\n",
    "import numpy as np\n",
    "import pandas as pd\n",
    "from sklearn.metrics import confusion_matrix, classification_report\n",
    "import plotly.graph_objects as go\n"
   ]
  },
  {
   "cell_type": "code",
   "execution_count": 3,
   "metadata": {},
   "outputs": [],
   "source": [
    "df = pd.read_csv('../Datos/Datos.csv')"
   ]
  },
  {
   "cell_type": "code",
   "execution_count": 4,
   "metadata": {},
   "outputs": [
    {
     "data": {
      "text/plain": [
       "'Dimensiones del dataset:'"
      ]
     },
     "metadata": {},
     "output_type": "display_data"
    },
    {
     "data": {
      "text/plain": [
       "(475, 6)"
      ]
     },
     "metadata": {},
     "output_type": "display_data"
    }
   ],
   "source": [
    "display(\"Dimensiones del dataset:\", df.shape)"
   ]
  },
  {
   "cell_type": "code",
   "execution_count": 5,
   "metadata": {},
   "outputs": [
    {
     "data": {
      "text/plain": [
       "'Primeras filas del dataset:'"
      ]
     },
     "metadata": {},
     "output_type": "display_data"
    },
    {
     "data": {
      "text/html": [
       "<div>\n",
       "<style scoped>\n",
       "    .dataframe tbody tr th:only-of-type {\n",
       "        vertical-align: middle;\n",
       "    }\n",
       "\n",
       "    .dataframe tbody tr th {\n",
       "        vertical-align: top;\n",
       "    }\n",
       "\n",
       "    .dataframe thead th {\n",
       "        text-align: right;\n",
       "    }\n",
       "</style>\n",
       "<table border=\"1\" class=\"dataframe\">\n",
       "  <thead>\n",
       "    <tr style=\"text-align: right;\">\n",
       "      <th></th>\n",
       "      <th>presion</th>\n",
       "      <th>amperaje</th>\n",
       "      <th>vibraciones</th>\n",
       "      <th>temperatura</th>\n",
       "      <th>alineacion</th>\n",
       "      <th>estado</th>\n",
       "    </tr>\n",
       "  </thead>\n",
       "  <tbody>\n",
       "    <tr>\n",
       "      <th>0</th>\n",
       "      <td>9.3</td>\n",
       "      <td>18.5</td>\n",
       "      <td>0.2</td>\n",
       "      <td>51.6</td>\n",
       "      <td>94.0</td>\n",
       "      <td>3</td>\n",
       "    </tr>\n",
       "    <tr>\n",
       "      <th>1</th>\n",
       "      <td>10.7</td>\n",
       "      <td>16.6</td>\n",
       "      <td>0.3</td>\n",
       "      <td>68.7</td>\n",
       "      <td>97.2</td>\n",
       "      <td>4</td>\n",
       "    </tr>\n",
       "    <tr>\n",
       "      <th>2</th>\n",
       "      <td>10.8</td>\n",
       "      <td>17.4</td>\n",
       "      <td>0.2</td>\n",
       "      <td>64.1</td>\n",
       "      <td>92.8</td>\n",
       "      <td>4</td>\n",
       "    </tr>\n",
       "    <tr>\n",
       "      <th>3</th>\n",
       "      <td>10.4</td>\n",
       "      <td>18.5</td>\n",
       "      <td>0.3</td>\n",
       "      <td>52.8</td>\n",
       "      <td>85.1</td>\n",
       "      <td>3</td>\n",
       "    </tr>\n",
       "    <tr>\n",
       "      <th>4</th>\n",
       "      <td>9.4</td>\n",
       "      <td>15.5</td>\n",
       "      <td>0.2</td>\n",
       "      <td>67.6</td>\n",
       "      <td>98.2</td>\n",
       "      <td>2</td>\n",
       "    </tr>\n",
       "  </tbody>\n",
       "</table>\n",
       "</div>"
      ],
      "text/plain": [
       "   presion  amperaje  vibraciones  temperatura  alineacion  estado\n",
       "0      9.3      18.5          0.2         51.6        94.0       3\n",
       "1     10.7      16.6          0.3         68.7        97.2       4\n",
       "2     10.8      17.4          0.2         64.1        92.8       4\n",
       "3     10.4      18.5          0.3         52.8        85.1       3\n",
       "4      9.4      15.5          0.2         67.6        98.2       2"
      ]
     },
     "metadata": {},
     "output_type": "display_data"
    }
   ],
   "source": [
    "display(\"Primeras filas del dataset:\")\n",
    "display(df.head())\n"
   ]
  },
  {
   "cell_type": "code",
   "execution_count": 6,
   "metadata": {},
   "outputs": [
    {
     "data": {
      "text/plain": [
       "'Estadísticas generales del dataset:'"
      ]
     },
     "metadata": {},
     "output_type": "display_data"
    },
    {
     "data": {
      "text/html": [
       "<div>\n",
       "<style scoped>\n",
       "    .dataframe tbody tr th:only-of-type {\n",
       "        vertical-align: middle;\n",
       "    }\n",
       "\n",
       "    .dataframe tbody tr th {\n",
       "        vertical-align: top;\n",
       "    }\n",
       "\n",
       "    .dataframe thead th {\n",
       "        text-align: right;\n",
       "    }\n",
       "</style>\n",
       "<table border=\"1\" class=\"dataframe\">\n",
       "  <thead>\n",
       "    <tr style=\"text-align: right;\">\n",
       "      <th></th>\n",
       "      <th>presion</th>\n",
       "      <th>amperaje</th>\n",
       "      <th>vibraciones</th>\n",
       "      <th>temperatura</th>\n",
       "      <th>alineacion</th>\n",
       "      <th>estado</th>\n",
       "    </tr>\n",
       "  </thead>\n",
       "  <tbody>\n",
       "    <tr>\n",
       "      <th>count</th>\n",
       "      <td>475.000000</td>\n",
       "      <td>475.000000</td>\n",
       "      <td>475.000000</td>\n",
       "      <td>475.000000</td>\n",
       "      <td>475.000000</td>\n",
       "      <td>475.000000</td>\n",
       "    </tr>\n",
       "    <tr>\n",
       "      <th>mean</th>\n",
       "      <td>11.128000</td>\n",
       "      <td>20.126947</td>\n",
       "      <td>0.306737</td>\n",
       "      <td>76.169053</td>\n",
       "      <td>79.137474</td>\n",
       "      <td>4.189474</td>\n",
       "    </tr>\n",
       "    <tr>\n",
       "      <th>std</th>\n",
       "      <td>1.577156</td>\n",
       "      <td>3.626629</td>\n",
       "      <td>0.117628</td>\n",
       "      <td>14.761902</td>\n",
       "      <td>22.360719</td>\n",
       "      <td>2.970654</td>\n",
       "    </tr>\n",
       "    <tr>\n",
       "      <th>min</th>\n",
       "      <td>9.000000</td>\n",
       "      <td>15.000000</td>\n",
       "      <td>0.100000</td>\n",
       "      <td>50.000000</td>\n",
       "      <td>0.900000</td>\n",
       "      <td>0.000000</td>\n",
       "    </tr>\n",
       "    <tr>\n",
       "      <th>25%</th>\n",
       "      <td>9.900000</td>\n",
       "      <td>17.150000</td>\n",
       "      <td>0.200000</td>\n",
       "      <td>64.050000</td>\n",
       "      <td>78.050000</td>\n",
       "      <td>2.000000</td>\n",
       "    </tr>\n",
       "    <tr>\n",
       "      <th>50%</th>\n",
       "      <td>10.600000</td>\n",
       "      <td>19.200000</td>\n",
       "      <td>0.300000</td>\n",
       "      <td>77.300000</td>\n",
       "      <td>86.400000</td>\n",
       "      <td>4.000000</td>\n",
       "    </tr>\n",
       "    <tr>\n",
       "      <th>75%</th>\n",
       "      <td>12.250000</td>\n",
       "      <td>23.550000</td>\n",
       "      <td>0.400000</td>\n",
       "      <td>86.050000</td>\n",
       "      <td>92.350000</td>\n",
       "      <td>7.000000</td>\n",
       "    </tr>\n",
       "    <tr>\n",
       "      <th>max</th>\n",
       "      <td>15.000000</td>\n",
       "      <td>27.900000</td>\n",
       "      <td>0.500000</td>\n",
       "      <td>110.000000</td>\n",
       "      <td>99.900000</td>\n",
       "      <td>10.000000</td>\n",
       "    </tr>\n",
       "  </tbody>\n",
       "</table>\n",
       "</div>"
      ],
      "text/plain": [
       "          presion    amperaje  vibraciones  temperatura  alineacion  \\\n",
       "count  475.000000  475.000000   475.000000   475.000000  475.000000   \n",
       "mean    11.128000   20.126947     0.306737    76.169053   79.137474   \n",
       "std      1.577156    3.626629     0.117628    14.761902   22.360719   \n",
       "min      9.000000   15.000000     0.100000    50.000000    0.900000   \n",
       "25%      9.900000   17.150000     0.200000    64.050000   78.050000   \n",
       "50%     10.600000   19.200000     0.300000    77.300000   86.400000   \n",
       "75%     12.250000   23.550000     0.400000    86.050000   92.350000   \n",
       "max     15.000000   27.900000     0.500000   110.000000   99.900000   \n",
       "\n",
       "           estado  \n",
       "count  475.000000  \n",
       "mean     4.189474  \n",
       "std      2.970654  \n",
       "min      0.000000  \n",
       "25%      2.000000  \n",
       "50%      4.000000  \n",
       "75%      7.000000  \n",
       "max     10.000000  "
      ]
     },
     "metadata": {},
     "output_type": "display_data"
    }
   ],
   "source": [
    "# Estadísticas generales\n",
    "display(\"Estadísticas generales del dataset:\")\n",
    "display(df.describe())\n"
   ]
  },
  {
   "cell_type": "markdown",
   "metadata": {},
   "source": [
    "1. **Presión (`presion`)**:\n",
    "   - **Media**: 11.13, lo que indica que la mayoría de las lecturas están en un rango moderado (cercano a los niveles \"Normal\" o \"Alta\").\n",
    "   - **Desviación estándar**: 1.58, lo que muestra una dispersión moderada en los datos.\n",
    "   - **Rango**:\n",
    "     - **Mínimo**: 9.00 (límites del conjunto \"Normal\").\n",
    "     - **Máximo**: 15.00 (cercano a \"Muy Alta\").\n",
    "     - **Percentil 25%**: 9.90.\n",
    "     - **Percentil 75%**: 12.25 (transición entre \"Alta\" y \"Muy Alta\").\n",
    "   - **Observación**: La mayoría de las lecturas se concentran entre valores normales y ligeramente altos (9.90 - 12.25).\n",
    "\n",
    "2. **Amperaje (`amperaje`)**:\n",
    "   - **Media**: 20.13, lo que corresponde al rango \"Normal\".\n",
    "   - **Desviación estándar**: 3.63, mostrando una dispersión moderada.\n",
    "   - **Rango**:\n",
    "     - **Mínimo**: 15.00 (límite inferior de \"Normal\").\n",
    "     - **Máximo**: 27.90 (dentro de \"Muy Alto\").\n",
    "     - **Percentil 25%**: 17.15 (transición a \"Alto\").\n",
    "     - **Percentil 75%**: 23.55 (límite superior de \"Alto\").\n",
    "   - **Observación**: Aunque la media está en el rango normal, existe un rango amplio hacia valores altos.\n",
    "\n",
    "3. **Vibraciones (`vibraciones`)**:\n",
    "   - **Media**: 0.31, lo que está dentro del rango \"Normales\".\n",
    "   - **Desviación estándar**: 0.12, mostrando baja variabilidad.\n",
    "   - **Rango**:\n",
    "     - **Mínimo**: 0.10 (extremo inferior de \"Normales\").\n",
    "     - **Máximo**: 0.50 (cercano a \"Muy Altas\").\n",
    "     - **Percentil 25%**: 0.20 (dentro de \"Normales\").\n",
    "     - **Percentil 75%**: 0.40 (entre \"Altas\" y \"Muy Altas\").\n",
    "   - **Observación**: La mayoría de los valores se concentran en el rango \"Normales\" con algunas excepciones altas.\n",
    "\n",
    "4. **Temperatura (`temperatura`)**:\n",
    "   - **Media**: 76.17°C, dentro del rango \"Normal\".\n",
    "   - **Desviación estándar**: 14.76, indicando una dispersión significativa.\n",
    "   - **Rango**:\n",
    "     - **Mínimo**: 50.00°C (límite inferior de \"Normal\").\n",
    "     - **Máximo**: 110.00°C (límite superior de \"Muy Alta\").\n",
    "     - **Percentil 25%**: 64.05°C (dentro de \"Normal\").\n",
    "     - **Percentil 75%**: 86.05°C (transición entre \"Alta\" y \"Muy Alta\").\n",
    "   - **Observación**: Aunque la mayoría de los valores están en el rango \"Normal\", hay algunos casos extremos hacia \"Muy Alta\".\n",
    "\n",
    "5. **Alineación (`alineacion`)**:\n",
    "   - **Media**: 79.14, lo que corresponde al rango \"Ideal\".\n",
    "   - **Desviación estándar**: 22.36, mostrando alta variabilidad.\n",
    "   - **Rango**:\n",
    "     - **Mínimo**: 0.90 (muy desalineado, \"Muy Mala\").\n",
    "     - **Máximo**: 99.90 (dentro de \"Ideal\").\n",
    "     - **Percentil 25%**: 78.05 (cercano a \"Ideal\").\n",
    "     - **Percentil 75%**: 92.35 (en el rango \"Ideal\").\n",
    "   - **Observación**: La mayoría de los valores son \"Ideal\", pero hay casos extremos que indican \"Muy Mala\".\n",
    "\n",
    "6. **Estado (`estado`)**:\n",
    "   - **Media**: 4.19, dentro del rango \"Normal\" o \"Alerta\".\n",
    "   - **Desviación estándar**: 2.97, lo que indica dispersión significativa.\n",
    "   - **Rango**:\n",
    "     - **Mínimo**: 0.00 (equipo en buen estado, \"Normal\").\n",
    "     - **Máximo**: 10.00 (equipo en estado crítico).\n",
    "     - **Percentil 25%**: 2.00 (\"Normal\").\n",
    "     - **Percentil 75%**: 7.00 (\"Alerta\" y transición a \"Crítico\").\n",
    "   - **Observación**: Aunque la media está en \"Normal\", hay una alta dispersión hacia niveles críticos.\n",
    "\n",
    "\n",
    "* ***Observaciones Generales:***\n",
    "  - Las variables tienen rangos y desviaciones consistentes con los niveles difusos definidos.\n",
    "  - **Presión, temperatura y amperaje** tienen distribuciones bien centradas en rangos normales o ligeramente altos.\n",
    "  - **Vibraciones y alineación** muestran casos más extremos, lo que podría influir en el estado crítico del equipo.\n",
    "  - **Estado** tiene una dispersión amplia, lo que sugiere la necesidad de reglas bien definidas para cubrir todas las combinaciones."
   ]
  },
  {
   "cell_type": "code",
   "execution_count": 7,
   "metadata": {},
   "outputs": [
    {
     "data": {
      "text/plain": [
       "'Tipos de datos en el dataset:'"
      ]
     },
     "metadata": {},
     "output_type": "display_data"
    },
    {
     "name": "stdout",
     "output_type": "stream",
     "text": [
      "<class 'pandas.core.frame.DataFrame'>\n",
      "RangeIndex: 475 entries, 0 to 474\n",
      "Data columns (total 6 columns):\n",
      " #   Column       Non-Null Count  Dtype  \n",
      "---  ------       --------------  -----  \n",
      " 0   presion      475 non-null    float64\n",
      " 1   amperaje     475 non-null    float64\n",
      " 2   vibraciones  475 non-null    float64\n",
      " 3   temperatura  475 non-null    float64\n",
      " 4   alineacion   475 non-null    float64\n",
      " 5   estado       475 non-null    int64  \n",
      "dtypes: float64(5), int64(1)\n",
      "memory usage: 22.4 KB\n"
     ]
    }
   ],
   "source": [
    "# Tipos de datos\n",
    "display(\"Tipos de datos en el dataset:\")\n",
    "df.info()"
   ]
  },
  {
   "cell_type": "markdown",
   "metadata": {},
   "source": [
    "El Dataset contiene en su mayoria datos de tipo `float`  y sin valores nulos"
   ]
  },
  {
   "cell_type": "code",
   "execution_count": 8,
   "metadata": {},
   "outputs": [
    {
     "data": {
      "application/vnd.plotly.v1+json": {
       "config": {
        "plotlyServerURL": "https://plot.ly"
       },
       "data": [
        {
         "alignmentgroup": "True",
         "bingroup": "x",
         "hovertemplate": "Presión=%{x}<br>count=%{y}<extra></extra>",
         "legendgroup": "",
         "marker": {
          "color": "#636efa",
          "pattern": {
           "shape": ""
          }
         },
         "name": "",
         "nbinsx": 20,
         "offsetgroup": "",
         "orientation": "v",
         "showlegend": false,
         "type": "histogram",
         "x": [
          9.3,
          10.7,
          10.8,
          10.4,
          9.4,
          10.7,
          9.4,
          10.6,
          10.7,
          9.8,
          9.2,
          10.3,
          9.6,
          10.5,
          10.9,
          10.4,
          9.5,
          9.3,
          9.2,
          10.4,
          9.5,
          10.3,
          10.6,
          9.4,
          10,
          10.1,
          9.4,
          9.4,
          9.5,
          10.6,
          10.6,
          9.8,
          10.6,
          9.1,
          9.7,
          10.7,
          9.4,
          9.3,
          9.7,
          9.4,
          9.8,
          10.6,
          9.7,
          10.7,
          9.1,
          10.9,
          10.2,
          10.5,
          9.2,
          10.2,
          9.1,
          10.3,
          9.2,
          10.2,
          10.4,
          9.5,
          10.7,
          9.5,
          10.9,
          9.1,
          10.6,
          10.1,
          10.2,
          10.5,
          10,
          10.3,
          10.7,
          10.1,
          9.9,
          10.6,
          9.8,
          10.2,
          10,
          10.4,
          10.4,
          10.3,
          9.5,
          10.2,
          9.1,
          11,
          10.8,
          9.3,
          10.5,
          10.6,
          9.8,
          10.5,
          9.9,
          10.1,
          9.4,
          9.8,
          10,
          10.2,
          10.8,
          11,
          10.4,
          10.3,
          9.9,
          9.7,
          10.6,
          10.9,
          9.1,
          10.4,
          9.6,
          9.7,
          9.2,
          10.2,
          9.9,
          10.1,
          9.4,
          10.9,
          9.1,
          9.9,
          10.6,
          9.4,
          9.3,
          9.4,
          9.4,
          10.6,
          9.7,
          9.4,
          9.4,
          10.5,
          10.9,
          10,
          11,
          9.5,
          9.5,
          10.4,
          9.3,
          9.6,
          9.8,
          9.6,
          9.5,
          9.7,
          10.4,
          10.9,
          9.1,
          10.1,
          9.6,
          9.7,
          10.9,
          9.4,
          9.9,
          10.2,
          10.1,
          9,
          10.3,
          9.5,
          9.5,
          9.2,
          10.8,
          10,
          10.6,
          10.8,
          9.5,
          9.3,
          10.6,
          9.4,
          10.5,
          9.9,
          9.8,
          9.4,
          11,
          9.9,
          9.5,
          10.7,
          10.4,
          9.6,
          10.2,
          9.6,
          10.1,
          10.4,
          10.7,
          10.6,
          10.3,
          9.6,
          10.5,
          9.7,
          9.7,
          10.2,
          10,
          10.5,
          10.4,
          10.1,
          9.1,
          10.8,
          10,
          10.1,
          10.5,
          10.3,
          10.6,
          10.8,
          9.7,
          9.8,
          9.8,
          9.2,
          9.7,
          10.7,
          9.5,
          9.1,
          10.5,
          10.2,
          9.8,
          10.3,
          10.8,
          9.3,
          9.7,
          9.1,
          9.2,
          10.2,
          10.7,
          9.3,
          9.7,
          10.9,
          10.8,
          9.5,
          9.7,
          9.5,
          9,
          10.9,
          9.7,
          9.7,
          10.4,
          9.6,
          10.5,
          10.7,
          10.4,
          9.3,
          9.2,
          10.3,
          10.5,
          9.7,
          9.8,
          9.6,
          9.3,
          10.9,
          10.1,
          9.9,
          9.9,
          9.1,
          10.7,
          10.8,
          10.3,
          10.9,
          11,
          9.8,
          9.3,
          10.5,
          10.4,
          9.1,
          9.2,
          12.1,
          10.5,
          10.9,
          12.4,
          11.2,
          11.1,
          12.1,
          10.8,
          11.7,
          11.7,
          12.1,
          11.3,
          10.1,
          10.3,
          10,
          11.2,
          12.8,
          12.2,
          11.7,
          11.1,
          10.7,
          11.1,
          12,
          10.6,
          11.1,
          11,
          10.9,
          12.6,
          11.9,
          10.4,
          12.9,
          12.9,
          10.1,
          12.8,
          11.6,
          12.9,
          12.2,
          11.6,
          12.6,
          10.5,
          10.5,
          10.9,
          11.5,
          12.3,
          11.2,
          12.1,
          12.4,
          10.4,
          11.5,
          10.8,
          11.4,
          12.4,
          11.4,
          12,
          12.6,
          12,
          10.8,
          11.2,
          11,
          12.1,
          12.7,
          10.1,
          10.7,
          11.1,
          11.4,
          11.3,
          10.1,
          12.6,
          12.5,
          11.8,
          10.8,
          12.8,
          10.2,
          13,
          10.8,
          12.6,
          12.4,
          12.8,
          12,
          12.3,
          12,
          11.6,
          10,
          11.7,
          10.7,
          11.2,
          11.2,
          10.8,
          12.8,
          11.8,
          10.4,
          12.8,
          11.8,
          10.1,
          11.7,
          11,
          12.3,
          12.8,
          10.8,
          10.9,
          11.7,
          13,
          11.6,
          12.4,
          12.6,
          10.3,
          10.5,
          12.9,
          10.3,
          11.4,
          12.7,
          11.2,
          10.5,
          10.5,
          10.3,
          12.7,
          12.1,
          11.9,
          10.7,
          10.4,
          11.9,
          10.6,
          12.8,
          10.6,
          10,
          10.7,
          11.6,
          12,
          11.4,
          12.5,
          10.2,
          10.8,
          11.9,
          13.5,
          12.7,
          12.6,
          14.9,
          12.9,
          14.1,
          14.6,
          14.4,
          14.3,
          12.1,
          13.9,
          13.5,
          14.1,
          13.8,
          14.1,
          12.3,
          14.3,
          14.1,
          14.4,
          14.4,
          14.4,
          12.6,
          13.5,
          12.2,
          14.5,
          12.8,
          14.5,
          13.7,
          12.7,
          14.9,
          12.7,
          13.9,
          12.7,
          13,
          14.4,
          13.3,
          12.9,
          12.8,
          14.7,
          14.9,
          14.7,
          12.8,
          14.2,
          13.2,
          13.3,
          14.5,
          14.5,
          14.8,
          12.6,
          13,
          12.3,
          12.3,
          12.3,
          14.9,
          13.5,
          13,
          14.8,
          12.6,
          12.7,
          14.2,
          12.1,
          14.7,
          14.1,
          15,
          14.7,
          14.9,
          14.1,
          13.1,
          14,
          12.3,
          13.1,
          14.3,
          14.8,
          13.5,
          13.6,
          13.6,
          14.6,
          12.7,
          14.8,
          14.6,
          13.3,
          13,
          14.7,
          14.5,
          13.8,
          14.7,
          14.4,
          12.2,
          12.2,
          14.6,
          12.3
         ],
         "xaxis": "x",
         "yaxis": "y"
        }
       ],
       "layout": {
        "barmode": "relative",
        "legend": {
         "tracegroupgap": 0
        },
        "template": {
         "data": {
          "bar": [
           {
            "error_x": {
             "color": "#2a3f5f"
            },
            "error_y": {
             "color": "#2a3f5f"
            },
            "marker": {
             "line": {
              "color": "white",
              "width": 0.5
             },
             "pattern": {
              "fillmode": "overlay",
              "size": 10,
              "solidity": 0.2
             }
            },
            "type": "bar"
           }
          ],
          "barpolar": [
           {
            "marker": {
             "line": {
              "color": "white",
              "width": 0.5
             },
             "pattern": {
              "fillmode": "overlay",
              "size": 10,
              "solidity": 0.2
             }
            },
            "type": "barpolar"
           }
          ],
          "carpet": [
           {
            "aaxis": {
             "endlinecolor": "#2a3f5f",
             "gridcolor": "#C8D4E3",
             "linecolor": "#C8D4E3",
             "minorgridcolor": "#C8D4E3",
             "startlinecolor": "#2a3f5f"
            },
            "baxis": {
             "endlinecolor": "#2a3f5f",
             "gridcolor": "#C8D4E3",
             "linecolor": "#C8D4E3",
             "minorgridcolor": "#C8D4E3",
             "startlinecolor": "#2a3f5f"
            },
            "type": "carpet"
           }
          ],
          "choropleth": [
           {
            "colorbar": {
             "outlinewidth": 0,
             "ticks": ""
            },
            "type": "choropleth"
           }
          ],
          "contour": [
           {
            "colorbar": {
             "outlinewidth": 0,
             "ticks": ""
            },
            "colorscale": [
             [
              0,
              "#0d0887"
             ],
             [
              0.1111111111111111,
              "#46039f"
             ],
             [
              0.2222222222222222,
              "#7201a8"
             ],
             [
              0.3333333333333333,
              "#9c179e"
             ],
             [
              0.4444444444444444,
              "#bd3786"
             ],
             [
              0.5555555555555556,
              "#d8576b"
             ],
             [
              0.6666666666666666,
              "#ed7953"
             ],
             [
              0.7777777777777778,
              "#fb9f3a"
             ],
             [
              0.8888888888888888,
              "#fdca26"
             ],
             [
              1,
              "#f0f921"
             ]
            ],
            "type": "contour"
           }
          ],
          "contourcarpet": [
           {
            "colorbar": {
             "outlinewidth": 0,
             "ticks": ""
            },
            "type": "contourcarpet"
           }
          ],
          "heatmap": [
           {
            "colorbar": {
             "outlinewidth": 0,
             "ticks": ""
            },
            "colorscale": [
             [
              0,
              "#0d0887"
             ],
             [
              0.1111111111111111,
              "#46039f"
             ],
             [
              0.2222222222222222,
              "#7201a8"
             ],
             [
              0.3333333333333333,
              "#9c179e"
             ],
             [
              0.4444444444444444,
              "#bd3786"
             ],
             [
              0.5555555555555556,
              "#d8576b"
             ],
             [
              0.6666666666666666,
              "#ed7953"
             ],
             [
              0.7777777777777778,
              "#fb9f3a"
             ],
             [
              0.8888888888888888,
              "#fdca26"
             ],
             [
              1,
              "#f0f921"
             ]
            ],
            "type": "heatmap"
           }
          ],
          "heatmapgl": [
           {
            "colorbar": {
             "outlinewidth": 0,
             "ticks": ""
            },
            "colorscale": [
             [
              0,
              "#0d0887"
             ],
             [
              0.1111111111111111,
              "#46039f"
             ],
             [
              0.2222222222222222,
              "#7201a8"
             ],
             [
              0.3333333333333333,
              "#9c179e"
             ],
             [
              0.4444444444444444,
              "#bd3786"
             ],
             [
              0.5555555555555556,
              "#d8576b"
             ],
             [
              0.6666666666666666,
              "#ed7953"
             ],
             [
              0.7777777777777778,
              "#fb9f3a"
             ],
             [
              0.8888888888888888,
              "#fdca26"
             ],
             [
              1,
              "#f0f921"
             ]
            ],
            "type": "heatmapgl"
           }
          ],
          "histogram": [
           {
            "marker": {
             "pattern": {
              "fillmode": "overlay",
              "size": 10,
              "solidity": 0.2
             }
            },
            "type": "histogram"
           }
          ],
          "histogram2d": [
           {
            "colorbar": {
             "outlinewidth": 0,
             "ticks": ""
            },
            "colorscale": [
             [
              0,
              "#0d0887"
             ],
             [
              0.1111111111111111,
              "#46039f"
             ],
             [
              0.2222222222222222,
              "#7201a8"
             ],
             [
              0.3333333333333333,
              "#9c179e"
             ],
             [
              0.4444444444444444,
              "#bd3786"
             ],
             [
              0.5555555555555556,
              "#d8576b"
             ],
             [
              0.6666666666666666,
              "#ed7953"
             ],
             [
              0.7777777777777778,
              "#fb9f3a"
             ],
             [
              0.8888888888888888,
              "#fdca26"
             ],
             [
              1,
              "#f0f921"
             ]
            ],
            "type": "histogram2d"
           }
          ],
          "histogram2dcontour": [
           {
            "colorbar": {
             "outlinewidth": 0,
             "ticks": ""
            },
            "colorscale": [
             [
              0,
              "#0d0887"
             ],
             [
              0.1111111111111111,
              "#46039f"
             ],
             [
              0.2222222222222222,
              "#7201a8"
             ],
             [
              0.3333333333333333,
              "#9c179e"
             ],
             [
              0.4444444444444444,
              "#bd3786"
             ],
             [
              0.5555555555555556,
              "#d8576b"
             ],
             [
              0.6666666666666666,
              "#ed7953"
             ],
             [
              0.7777777777777778,
              "#fb9f3a"
             ],
             [
              0.8888888888888888,
              "#fdca26"
             ],
             [
              1,
              "#f0f921"
             ]
            ],
            "type": "histogram2dcontour"
           }
          ],
          "mesh3d": [
           {
            "colorbar": {
             "outlinewidth": 0,
             "ticks": ""
            },
            "type": "mesh3d"
           }
          ],
          "parcoords": [
           {
            "line": {
             "colorbar": {
              "outlinewidth": 0,
              "ticks": ""
             }
            },
            "type": "parcoords"
           }
          ],
          "pie": [
           {
            "automargin": true,
            "type": "pie"
           }
          ],
          "scatter": [
           {
            "fillpattern": {
             "fillmode": "overlay",
             "size": 10,
             "solidity": 0.2
            },
            "type": "scatter"
           }
          ],
          "scatter3d": [
           {
            "line": {
             "colorbar": {
              "outlinewidth": 0,
              "ticks": ""
             }
            },
            "marker": {
             "colorbar": {
              "outlinewidth": 0,
              "ticks": ""
             }
            },
            "type": "scatter3d"
           }
          ],
          "scattercarpet": [
           {
            "marker": {
             "colorbar": {
              "outlinewidth": 0,
              "ticks": ""
             }
            },
            "type": "scattercarpet"
           }
          ],
          "scattergeo": [
           {
            "marker": {
             "colorbar": {
              "outlinewidth": 0,
              "ticks": ""
             }
            },
            "type": "scattergeo"
           }
          ],
          "scattergl": [
           {
            "marker": {
             "colorbar": {
              "outlinewidth": 0,
              "ticks": ""
             }
            },
            "type": "scattergl"
           }
          ],
          "scattermapbox": [
           {
            "marker": {
             "colorbar": {
              "outlinewidth": 0,
              "ticks": ""
             }
            },
            "type": "scattermapbox"
           }
          ],
          "scatterpolar": [
           {
            "marker": {
             "colorbar": {
              "outlinewidth": 0,
              "ticks": ""
             }
            },
            "type": "scatterpolar"
           }
          ],
          "scatterpolargl": [
           {
            "marker": {
             "colorbar": {
              "outlinewidth": 0,
              "ticks": ""
             }
            },
            "type": "scatterpolargl"
           }
          ],
          "scatterternary": [
           {
            "marker": {
             "colorbar": {
              "outlinewidth": 0,
              "ticks": ""
             }
            },
            "type": "scatterternary"
           }
          ],
          "surface": [
           {
            "colorbar": {
             "outlinewidth": 0,
             "ticks": ""
            },
            "colorscale": [
             [
              0,
              "#0d0887"
             ],
             [
              0.1111111111111111,
              "#46039f"
             ],
             [
              0.2222222222222222,
              "#7201a8"
             ],
             [
              0.3333333333333333,
              "#9c179e"
             ],
             [
              0.4444444444444444,
              "#bd3786"
             ],
             [
              0.5555555555555556,
              "#d8576b"
             ],
             [
              0.6666666666666666,
              "#ed7953"
             ],
             [
              0.7777777777777778,
              "#fb9f3a"
             ],
             [
              0.8888888888888888,
              "#fdca26"
             ],
             [
              1,
              "#f0f921"
             ]
            ],
            "type": "surface"
           }
          ],
          "table": [
           {
            "cells": {
             "fill": {
              "color": "#EBF0F8"
             },
             "line": {
              "color": "white"
             }
            },
            "header": {
             "fill": {
              "color": "#C8D4E3"
             },
             "line": {
              "color": "white"
             }
            },
            "type": "table"
           }
          ]
         },
         "layout": {
          "annotationdefaults": {
           "arrowcolor": "#2a3f5f",
           "arrowhead": 0,
           "arrowwidth": 1
          },
          "autotypenumbers": "strict",
          "coloraxis": {
           "colorbar": {
            "outlinewidth": 0,
            "ticks": ""
           }
          },
          "colorscale": {
           "diverging": [
            [
             0,
             "#8e0152"
            ],
            [
             0.1,
             "#c51b7d"
            ],
            [
             0.2,
             "#de77ae"
            ],
            [
             0.3,
             "#f1b6da"
            ],
            [
             0.4,
             "#fde0ef"
            ],
            [
             0.5,
             "#f7f7f7"
            ],
            [
             0.6,
             "#e6f5d0"
            ],
            [
             0.7,
             "#b8e186"
            ],
            [
             0.8,
             "#7fbc41"
            ],
            [
             0.9,
             "#4d9221"
            ],
            [
             1,
             "#276419"
            ]
           ],
           "sequential": [
            [
             0,
             "#0d0887"
            ],
            [
             0.1111111111111111,
             "#46039f"
            ],
            [
             0.2222222222222222,
             "#7201a8"
            ],
            [
             0.3333333333333333,
             "#9c179e"
            ],
            [
             0.4444444444444444,
             "#bd3786"
            ],
            [
             0.5555555555555556,
             "#d8576b"
            ],
            [
             0.6666666666666666,
             "#ed7953"
            ],
            [
             0.7777777777777778,
             "#fb9f3a"
            ],
            [
             0.8888888888888888,
             "#fdca26"
            ],
            [
             1,
             "#f0f921"
            ]
           ],
           "sequentialminus": [
            [
             0,
             "#0d0887"
            ],
            [
             0.1111111111111111,
             "#46039f"
            ],
            [
             0.2222222222222222,
             "#7201a8"
            ],
            [
             0.3333333333333333,
             "#9c179e"
            ],
            [
             0.4444444444444444,
             "#bd3786"
            ],
            [
             0.5555555555555556,
             "#d8576b"
            ],
            [
             0.6666666666666666,
             "#ed7953"
            ],
            [
             0.7777777777777778,
             "#fb9f3a"
            ],
            [
             0.8888888888888888,
             "#fdca26"
            ],
            [
             1,
             "#f0f921"
            ]
           ]
          },
          "colorway": [
           "#636efa",
           "#EF553B",
           "#00cc96",
           "#ab63fa",
           "#FFA15A",
           "#19d3f3",
           "#FF6692",
           "#B6E880",
           "#FF97FF",
           "#FECB52"
          ],
          "font": {
           "color": "#2a3f5f"
          },
          "geo": {
           "bgcolor": "white",
           "lakecolor": "white",
           "landcolor": "white",
           "showlakes": true,
           "showland": true,
           "subunitcolor": "#C8D4E3"
          },
          "hoverlabel": {
           "align": "left"
          },
          "hovermode": "closest",
          "mapbox": {
           "style": "light"
          },
          "paper_bgcolor": "white",
          "plot_bgcolor": "white",
          "polar": {
           "angularaxis": {
            "gridcolor": "#EBF0F8",
            "linecolor": "#EBF0F8",
            "ticks": ""
           },
           "bgcolor": "white",
           "radialaxis": {
            "gridcolor": "#EBF0F8",
            "linecolor": "#EBF0F8",
            "ticks": ""
           }
          },
          "scene": {
           "xaxis": {
            "backgroundcolor": "white",
            "gridcolor": "#DFE8F3",
            "gridwidth": 2,
            "linecolor": "#EBF0F8",
            "showbackground": true,
            "ticks": "",
            "zerolinecolor": "#EBF0F8"
           },
           "yaxis": {
            "backgroundcolor": "white",
            "gridcolor": "#DFE8F3",
            "gridwidth": 2,
            "linecolor": "#EBF0F8",
            "showbackground": true,
            "ticks": "",
            "zerolinecolor": "#EBF0F8"
           },
           "zaxis": {
            "backgroundcolor": "white",
            "gridcolor": "#DFE8F3",
            "gridwidth": 2,
            "linecolor": "#EBF0F8",
            "showbackground": true,
            "ticks": "",
            "zerolinecolor": "#EBF0F8"
           }
          },
          "shapedefaults": {
           "line": {
            "color": "#2a3f5f"
           }
          },
          "ternary": {
           "aaxis": {
            "gridcolor": "#DFE8F3",
            "linecolor": "#A2B1C6",
            "ticks": ""
           },
           "baxis": {
            "gridcolor": "#DFE8F3",
            "linecolor": "#A2B1C6",
            "ticks": ""
           },
           "bgcolor": "white",
           "caxis": {
            "gridcolor": "#DFE8F3",
            "linecolor": "#A2B1C6",
            "ticks": ""
           }
          },
          "title": {
           "x": 0.05
          },
          "xaxis": {
           "automargin": true,
           "gridcolor": "#EBF0F8",
           "linecolor": "#EBF0F8",
           "ticks": "",
           "title": {
            "standoff": 15
           },
           "zerolinecolor": "#EBF0F8",
           "zerolinewidth": 2
          },
          "yaxis": {
           "automargin": true,
           "gridcolor": "#EBF0F8",
           "linecolor": "#EBF0F8",
           "ticks": "",
           "title": {
            "standoff": 15
           },
           "zerolinecolor": "#EBF0F8",
           "zerolinewidth": 2
          }
         }
        },
        "title": {
         "text": "Distribución de la Presión"
        },
        "xaxis": {
         "anchor": "y",
         "domain": [
          0,
          1
         ],
         "title": {
          "text": "Presión"
         }
        },
        "yaxis": {
         "anchor": "x",
         "domain": [
          0,
          1
         ],
         "title": {
          "text": "count"
         }
        }
       }
      }
     },
     "metadata": {},
     "output_type": "display_data"
    }
   ],
   "source": [
    "fig_presion = px.histogram(df, x=\"presion\", nbins=20, title=\"Distribución de la Presión\",\n",
    "                           labels={\"presion\": \"Presión\"}, template=\"plotly_white\")\n",
    "fig_presion.show()"
   ]
  },
  {
   "cell_type": "markdown",
   "metadata": {},
   "source": [
    "La distribución de la presión muestra una tendencia central predominante entre los valores de **9 a 12**, lo que corresponde a los niveles difusos \"Normal\" y \"Alta\". Sin embargo, presenta un **sesgo positivo**, con una cola más larga hacia la derecha, indicando que existen valores atípicos o menos frecuentes en el rango superior (14-15), asociados al nivel \"Muy Alta\". La curtosis parece ser **platocúrtica**, ya que la distribución no presenta un pico pronunciado, sino que está relativamente dispersa en su rango principal. Esto implica que la mayoría de los datos se concentran en valores moderados, con una menor proporción en los extremos. Estos patrones reflejan una variabilidad controlada en la presión, con posibles casos críticos que podrían influir en la toma de decisiones en un sistema difuso."
   ]
  },
  {
   "cell_type": "code",
   "execution_count": 9,
   "metadata": {},
   "outputs": [
    {
     "data": {
      "application/vnd.plotly.v1+json": {
       "config": {
        "plotlyServerURL": "https://plot.ly"
       },
       "data": [
        {
         "alignmentgroup": "True",
         "bingroup": "x",
         "hovertemplate": "Amperaje=%{x}<br>count=%{y}<extra></extra>",
         "legendgroup": "",
         "marker": {
          "color": "#636efa",
          "pattern": {
           "shape": ""
          }
         },
         "name": "",
         "nbinsx": 20,
         "offsetgroup": "",
         "orientation": "v",
         "showlegend": false,
         "type": "histogram",
         "x": [
          18.5,
          16.6,
          17.4,
          18.5,
          15.5,
          19.2,
          16.1,
          17,
          16.6,
          17.2,
          15.4,
          16.2,
          15.6,
          17.1,
          19,
          17.6,
          16.3,
          17.1,
          17.2,
          18.7,
          18.3,
          19.5,
          16,
          19.9,
          17.8,
          18.6,
          19.6,
          16.4,
          16.2,
          15.4,
          15.2,
          15.7,
          18.6,
          17.5,
          19.9,
          15.1,
          19.2,
          19.6,
          19.4,
          19.2,
          19.9,
          15.7,
          16.4,
          18.5,
          19.5,
          15.1,
          15.2,
          15.7,
          17.1,
          17.6,
          16,
          15.7,
          19.4,
          16.9,
          16.2,
          16,
          15.8,
          17.9,
          18,
          18.8,
          15,
          19.1,
          16.7,
          17.1,
          18.2,
          19.7,
          16.3,
          18,
          18,
          18.2,
          15.9,
          15.2,
          18.8,
          18.9,
          17.1,
          18.6,
          19.9,
          17,
          17.2,
          15.9,
          16,
          16.4,
          17.7,
          18.9,
          17.1,
          16.7,
          15.2,
          16.3,
          15.9,
          15.9,
          15.4,
          17.2,
          18.2,
          19.5,
          19.7,
          16.8,
          15.2,
          18.2,
          19.8,
          19.2,
          16.2,
          15.2,
          19.1,
          16.2,
          16.7,
          18.9,
          17.3,
          19.2,
          17.9,
          15.3,
          17.8,
          15.5,
          15.6,
          15.1,
          17.3,
          18.1,
          19,
          16,
          19.6,
          18.5,
          18.2,
          19.7,
          17.4,
          17.8,
          16.9,
          19.7,
          16.3,
          18.2,
          18.8,
          17.2,
          19.9,
          15.8,
          17.6,
          16.3,
          18.4,
          19,
          19.6,
          15.1,
          19.4,
          19.6,
          16.5,
          15.5,
          16.1,
          16.2,
          18.1,
          15.3,
          19.2,
          16.9,
          19.8,
          19.4,
          17.7,
          17.6,
          19,
          18.6,
          18.6,
          16.5,
          17.1,
          16.1,
          18.5,
          19.6,
          17.1,
          20,
          17,
          17.6,
          17.6,
          18.9,
          19.4,
          15.2,
          18.6,
          15.8,
          16,
          16.1,
          15.8,
          17.7,
          19.5,
          17,
          17.4,
          18.8,
          16.2,
          17.6,
          17.2,
          17,
          15.3,
          18.8,
          18.3,
          15.4,
          15.4,
          16.1,
          16.6,
          18.6,
          16.3,
          15.7,
          16.8,
          18,
          18,
          19.8,
          18.3,
          15.4,
          19.3,
          15.2,
          18.2,
          19.5,
          19.8,
          16.4,
          16.7,
          15.9,
          19.9,
          19.9,
          18.4,
          19.9,
          19,
          19.9,
          19.6,
          18.4,
          18.3,
          17,
          15.8,
          19.9,
          15.5,
          15.8,
          16.2,
          16.4,
          17.4,
          15.1,
          17.6,
          15,
          17.7,
          19.5,
          19.6,
          15.8,
          16.2,
          15.7,
          15.9,
          19.4,
          15.1,
          16.4,
          19.6,
          17.3,
          16.3,
          16,
          19.5,
          16.6,
          17.1,
          18.1,
          15.2,
          17,
          15.6,
          15.3,
          16.8,
          17.8,
          19.8,
          23.9,
          21.5,
          18.8,
          22.6,
          19.5,
          22.4,
          18.6,
          18.5,
          21.9,
          23.9,
          24,
          23,
          23.8,
          20.4,
          24.9,
          18.9,
          22.1,
          24.7,
          22.1,
          19.4,
          19.8,
          23.3,
          19,
          22.3,
          20.2,
          24,
          20.1,
          24.3,
          22.2,
          23,
          19.9,
          19.2,
          19.1,
          19.5,
          18.8,
          23,
          18.2,
          22.8,
          18.1,
          18.9,
          22.1,
          20.2,
          21.9,
          24.8,
          21.8,
          19.2,
          20.7,
          21.3,
          19,
          23.6,
          19,
          21.7,
          22.5,
          19.9,
          20.6,
          22.8,
          19.9,
          19.2,
          19.3,
          19.8,
          20.1,
          18.1,
          18.9,
          21.7,
          18.9,
          24.4,
          20.6,
          23.9,
          20.6,
          22.4,
          22.1,
          23.9,
          23.5,
          20.5,
          21.7,
          24.8,
          18.2,
          22.4,
          23.6,
          24.9,
          19.8,
          18.8,
          19.1,
          24.5,
          22.9,
          21.6,
          19.5,
          22.2,
          23.8,
          24.5,
          22.5,
          23.7,
          18.6,
          24.8,
          20.9,
          18.2,
          24.8,
          22.5,
          20.7,
          21,
          20.4,
          18.9,
          19.3,
          19.6,
          24.6,
          23.4,
          23.3,
          22.7,
          24.4,
          18.3,
          19.7,
          23.9,
          22.5,
          18.2,
          19.8,
          21,
          18.9,
          19.1,
          18.8,
          19.6,
          22.2,
          24.7,
          24.5,
          19.9,
          20.9,
          18.8,
          18.4,
          19.6,
          23.9,
          22.9,
          19.5,
          19,
          23.2,
          26.1,
          24.6,
          26.4,
          27.4,
          24.8,
          26.4,
          24.1,
          26,
          25.2,
          26.2,
          24,
          25.2,
          24.1,
          24.6,
          26.4,
          25.2,
          27.7,
          24.6,
          26.3,
          24.4,
          27.5,
          25.1,
          24,
          25.9,
          24.3,
          26.3,
          27,
          24.8,
          25.7,
          26.9,
          26.5,
          26.6,
          26.6,
          26.4,
          27.7,
          26.3,
          26.9,
          24.8,
          27.4,
          24.3,
          24.4,
          24.7,
          26.4,
          24.9,
          24.6,
          27.6,
          26.4,
          27.7,
          27.2,
          26.8,
          26.5,
          24.5,
          25.9,
          27.8,
          24.8,
          27.9,
          24.2,
          24.5,
          24.1,
          25.4,
          24.8,
          24.6,
          26.1,
          25.4,
          25.8,
          26,
          26,
          24.8,
          25.1,
          25.4,
          24.4,
          27.5,
          25.8,
          27.3,
          24.9,
          26.1,
          26.4,
          24.9,
          26.3,
          27.1,
          26.1,
          27.9,
          25.9,
          25,
          24.1,
          26.4,
          27.6,
          26.6,
          26.4,
          27.5,
          25
         ],
         "xaxis": "x",
         "yaxis": "y"
        }
       ],
       "layout": {
        "barmode": "relative",
        "legend": {
         "tracegroupgap": 0
        },
        "template": {
         "data": {
          "bar": [
           {
            "error_x": {
             "color": "#2a3f5f"
            },
            "error_y": {
             "color": "#2a3f5f"
            },
            "marker": {
             "line": {
              "color": "white",
              "width": 0.5
             },
             "pattern": {
              "fillmode": "overlay",
              "size": 10,
              "solidity": 0.2
             }
            },
            "type": "bar"
           }
          ],
          "barpolar": [
           {
            "marker": {
             "line": {
              "color": "white",
              "width": 0.5
             },
             "pattern": {
              "fillmode": "overlay",
              "size": 10,
              "solidity": 0.2
             }
            },
            "type": "barpolar"
           }
          ],
          "carpet": [
           {
            "aaxis": {
             "endlinecolor": "#2a3f5f",
             "gridcolor": "#C8D4E3",
             "linecolor": "#C8D4E3",
             "minorgridcolor": "#C8D4E3",
             "startlinecolor": "#2a3f5f"
            },
            "baxis": {
             "endlinecolor": "#2a3f5f",
             "gridcolor": "#C8D4E3",
             "linecolor": "#C8D4E3",
             "minorgridcolor": "#C8D4E3",
             "startlinecolor": "#2a3f5f"
            },
            "type": "carpet"
           }
          ],
          "choropleth": [
           {
            "colorbar": {
             "outlinewidth": 0,
             "ticks": ""
            },
            "type": "choropleth"
           }
          ],
          "contour": [
           {
            "colorbar": {
             "outlinewidth": 0,
             "ticks": ""
            },
            "colorscale": [
             [
              0,
              "#0d0887"
             ],
             [
              0.1111111111111111,
              "#46039f"
             ],
             [
              0.2222222222222222,
              "#7201a8"
             ],
             [
              0.3333333333333333,
              "#9c179e"
             ],
             [
              0.4444444444444444,
              "#bd3786"
             ],
             [
              0.5555555555555556,
              "#d8576b"
             ],
             [
              0.6666666666666666,
              "#ed7953"
             ],
             [
              0.7777777777777778,
              "#fb9f3a"
             ],
             [
              0.8888888888888888,
              "#fdca26"
             ],
             [
              1,
              "#f0f921"
             ]
            ],
            "type": "contour"
           }
          ],
          "contourcarpet": [
           {
            "colorbar": {
             "outlinewidth": 0,
             "ticks": ""
            },
            "type": "contourcarpet"
           }
          ],
          "heatmap": [
           {
            "colorbar": {
             "outlinewidth": 0,
             "ticks": ""
            },
            "colorscale": [
             [
              0,
              "#0d0887"
             ],
             [
              0.1111111111111111,
              "#46039f"
             ],
             [
              0.2222222222222222,
              "#7201a8"
             ],
             [
              0.3333333333333333,
              "#9c179e"
             ],
             [
              0.4444444444444444,
              "#bd3786"
             ],
             [
              0.5555555555555556,
              "#d8576b"
             ],
             [
              0.6666666666666666,
              "#ed7953"
             ],
             [
              0.7777777777777778,
              "#fb9f3a"
             ],
             [
              0.8888888888888888,
              "#fdca26"
             ],
             [
              1,
              "#f0f921"
             ]
            ],
            "type": "heatmap"
           }
          ],
          "heatmapgl": [
           {
            "colorbar": {
             "outlinewidth": 0,
             "ticks": ""
            },
            "colorscale": [
             [
              0,
              "#0d0887"
             ],
             [
              0.1111111111111111,
              "#46039f"
             ],
             [
              0.2222222222222222,
              "#7201a8"
             ],
             [
              0.3333333333333333,
              "#9c179e"
             ],
             [
              0.4444444444444444,
              "#bd3786"
             ],
             [
              0.5555555555555556,
              "#d8576b"
             ],
             [
              0.6666666666666666,
              "#ed7953"
             ],
             [
              0.7777777777777778,
              "#fb9f3a"
             ],
             [
              0.8888888888888888,
              "#fdca26"
             ],
             [
              1,
              "#f0f921"
             ]
            ],
            "type": "heatmapgl"
           }
          ],
          "histogram": [
           {
            "marker": {
             "pattern": {
              "fillmode": "overlay",
              "size": 10,
              "solidity": 0.2
             }
            },
            "type": "histogram"
           }
          ],
          "histogram2d": [
           {
            "colorbar": {
             "outlinewidth": 0,
             "ticks": ""
            },
            "colorscale": [
             [
              0,
              "#0d0887"
             ],
             [
              0.1111111111111111,
              "#46039f"
             ],
             [
              0.2222222222222222,
              "#7201a8"
             ],
             [
              0.3333333333333333,
              "#9c179e"
             ],
             [
              0.4444444444444444,
              "#bd3786"
             ],
             [
              0.5555555555555556,
              "#d8576b"
             ],
             [
              0.6666666666666666,
              "#ed7953"
             ],
             [
              0.7777777777777778,
              "#fb9f3a"
             ],
             [
              0.8888888888888888,
              "#fdca26"
             ],
             [
              1,
              "#f0f921"
             ]
            ],
            "type": "histogram2d"
           }
          ],
          "histogram2dcontour": [
           {
            "colorbar": {
             "outlinewidth": 0,
             "ticks": ""
            },
            "colorscale": [
             [
              0,
              "#0d0887"
             ],
             [
              0.1111111111111111,
              "#46039f"
             ],
             [
              0.2222222222222222,
              "#7201a8"
             ],
             [
              0.3333333333333333,
              "#9c179e"
             ],
             [
              0.4444444444444444,
              "#bd3786"
             ],
             [
              0.5555555555555556,
              "#d8576b"
             ],
             [
              0.6666666666666666,
              "#ed7953"
             ],
             [
              0.7777777777777778,
              "#fb9f3a"
             ],
             [
              0.8888888888888888,
              "#fdca26"
             ],
             [
              1,
              "#f0f921"
             ]
            ],
            "type": "histogram2dcontour"
           }
          ],
          "mesh3d": [
           {
            "colorbar": {
             "outlinewidth": 0,
             "ticks": ""
            },
            "type": "mesh3d"
           }
          ],
          "parcoords": [
           {
            "line": {
             "colorbar": {
              "outlinewidth": 0,
              "ticks": ""
             }
            },
            "type": "parcoords"
           }
          ],
          "pie": [
           {
            "automargin": true,
            "type": "pie"
           }
          ],
          "scatter": [
           {
            "fillpattern": {
             "fillmode": "overlay",
             "size": 10,
             "solidity": 0.2
            },
            "type": "scatter"
           }
          ],
          "scatter3d": [
           {
            "line": {
             "colorbar": {
              "outlinewidth": 0,
              "ticks": ""
             }
            },
            "marker": {
             "colorbar": {
              "outlinewidth": 0,
              "ticks": ""
             }
            },
            "type": "scatter3d"
           }
          ],
          "scattercarpet": [
           {
            "marker": {
             "colorbar": {
              "outlinewidth": 0,
              "ticks": ""
             }
            },
            "type": "scattercarpet"
           }
          ],
          "scattergeo": [
           {
            "marker": {
             "colorbar": {
              "outlinewidth": 0,
              "ticks": ""
             }
            },
            "type": "scattergeo"
           }
          ],
          "scattergl": [
           {
            "marker": {
             "colorbar": {
              "outlinewidth": 0,
              "ticks": ""
             }
            },
            "type": "scattergl"
           }
          ],
          "scattermapbox": [
           {
            "marker": {
             "colorbar": {
              "outlinewidth": 0,
              "ticks": ""
             }
            },
            "type": "scattermapbox"
           }
          ],
          "scatterpolar": [
           {
            "marker": {
             "colorbar": {
              "outlinewidth": 0,
              "ticks": ""
             }
            },
            "type": "scatterpolar"
           }
          ],
          "scatterpolargl": [
           {
            "marker": {
             "colorbar": {
              "outlinewidth": 0,
              "ticks": ""
             }
            },
            "type": "scatterpolargl"
           }
          ],
          "scatterternary": [
           {
            "marker": {
             "colorbar": {
              "outlinewidth": 0,
              "ticks": ""
             }
            },
            "type": "scatterternary"
           }
          ],
          "surface": [
           {
            "colorbar": {
             "outlinewidth": 0,
             "ticks": ""
            },
            "colorscale": [
             [
              0,
              "#0d0887"
             ],
             [
              0.1111111111111111,
              "#46039f"
             ],
             [
              0.2222222222222222,
              "#7201a8"
             ],
             [
              0.3333333333333333,
              "#9c179e"
             ],
             [
              0.4444444444444444,
              "#bd3786"
             ],
             [
              0.5555555555555556,
              "#d8576b"
             ],
             [
              0.6666666666666666,
              "#ed7953"
             ],
             [
              0.7777777777777778,
              "#fb9f3a"
             ],
             [
              0.8888888888888888,
              "#fdca26"
             ],
             [
              1,
              "#f0f921"
             ]
            ],
            "type": "surface"
           }
          ],
          "table": [
           {
            "cells": {
             "fill": {
              "color": "#EBF0F8"
             },
             "line": {
              "color": "white"
             }
            },
            "header": {
             "fill": {
              "color": "#C8D4E3"
             },
             "line": {
              "color": "white"
             }
            },
            "type": "table"
           }
          ]
         },
         "layout": {
          "annotationdefaults": {
           "arrowcolor": "#2a3f5f",
           "arrowhead": 0,
           "arrowwidth": 1
          },
          "autotypenumbers": "strict",
          "coloraxis": {
           "colorbar": {
            "outlinewidth": 0,
            "ticks": ""
           }
          },
          "colorscale": {
           "diverging": [
            [
             0,
             "#8e0152"
            ],
            [
             0.1,
             "#c51b7d"
            ],
            [
             0.2,
             "#de77ae"
            ],
            [
             0.3,
             "#f1b6da"
            ],
            [
             0.4,
             "#fde0ef"
            ],
            [
             0.5,
             "#f7f7f7"
            ],
            [
             0.6,
             "#e6f5d0"
            ],
            [
             0.7,
             "#b8e186"
            ],
            [
             0.8,
             "#7fbc41"
            ],
            [
             0.9,
             "#4d9221"
            ],
            [
             1,
             "#276419"
            ]
           ],
           "sequential": [
            [
             0,
             "#0d0887"
            ],
            [
             0.1111111111111111,
             "#46039f"
            ],
            [
             0.2222222222222222,
             "#7201a8"
            ],
            [
             0.3333333333333333,
             "#9c179e"
            ],
            [
             0.4444444444444444,
             "#bd3786"
            ],
            [
             0.5555555555555556,
             "#d8576b"
            ],
            [
             0.6666666666666666,
             "#ed7953"
            ],
            [
             0.7777777777777778,
             "#fb9f3a"
            ],
            [
             0.8888888888888888,
             "#fdca26"
            ],
            [
             1,
             "#f0f921"
            ]
           ],
           "sequentialminus": [
            [
             0,
             "#0d0887"
            ],
            [
             0.1111111111111111,
             "#46039f"
            ],
            [
             0.2222222222222222,
             "#7201a8"
            ],
            [
             0.3333333333333333,
             "#9c179e"
            ],
            [
             0.4444444444444444,
             "#bd3786"
            ],
            [
             0.5555555555555556,
             "#d8576b"
            ],
            [
             0.6666666666666666,
             "#ed7953"
            ],
            [
             0.7777777777777778,
             "#fb9f3a"
            ],
            [
             0.8888888888888888,
             "#fdca26"
            ],
            [
             1,
             "#f0f921"
            ]
           ]
          },
          "colorway": [
           "#636efa",
           "#EF553B",
           "#00cc96",
           "#ab63fa",
           "#FFA15A",
           "#19d3f3",
           "#FF6692",
           "#B6E880",
           "#FF97FF",
           "#FECB52"
          ],
          "font": {
           "color": "#2a3f5f"
          },
          "geo": {
           "bgcolor": "white",
           "lakecolor": "white",
           "landcolor": "white",
           "showlakes": true,
           "showland": true,
           "subunitcolor": "#C8D4E3"
          },
          "hoverlabel": {
           "align": "left"
          },
          "hovermode": "closest",
          "mapbox": {
           "style": "light"
          },
          "paper_bgcolor": "white",
          "plot_bgcolor": "white",
          "polar": {
           "angularaxis": {
            "gridcolor": "#EBF0F8",
            "linecolor": "#EBF0F8",
            "ticks": ""
           },
           "bgcolor": "white",
           "radialaxis": {
            "gridcolor": "#EBF0F8",
            "linecolor": "#EBF0F8",
            "ticks": ""
           }
          },
          "scene": {
           "xaxis": {
            "backgroundcolor": "white",
            "gridcolor": "#DFE8F3",
            "gridwidth": 2,
            "linecolor": "#EBF0F8",
            "showbackground": true,
            "ticks": "",
            "zerolinecolor": "#EBF0F8"
           },
           "yaxis": {
            "backgroundcolor": "white",
            "gridcolor": "#DFE8F3",
            "gridwidth": 2,
            "linecolor": "#EBF0F8",
            "showbackground": true,
            "ticks": "",
            "zerolinecolor": "#EBF0F8"
           },
           "zaxis": {
            "backgroundcolor": "white",
            "gridcolor": "#DFE8F3",
            "gridwidth": 2,
            "linecolor": "#EBF0F8",
            "showbackground": true,
            "ticks": "",
            "zerolinecolor": "#EBF0F8"
           }
          },
          "shapedefaults": {
           "line": {
            "color": "#2a3f5f"
           }
          },
          "ternary": {
           "aaxis": {
            "gridcolor": "#DFE8F3",
            "linecolor": "#A2B1C6",
            "ticks": ""
           },
           "baxis": {
            "gridcolor": "#DFE8F3",
            "linecolor": "#A2B1C6",
            "ticks": ""
           },
           "bgcolor": "white",
           "caxis": {
            "gridcolor": "#DFE8F3",
            "linecolor": "#A2B1C6",
            "ticks": ""
           }
          },
          "title": {
           "x": 0.05
          },
          "xaxis": {
           "automargin": true,
           "gridcolor": "#EBF0F8",
           "linecolor": "#EBF0F8",
           "ticks": "",
           "title": {
            "standoff": 15
           },
           "zerolinecolor": "#EBF0F8",
           "zerolinewidth": 2
          },
          "yaxis": {
           "automargin": true,
           "gridcolor": "#EBF0F8",
           "linecolor": "#EBF0F8",
           "ticks": "",
           "title": {
            "standoff": 15
           },
           "zerolinecolor": "#EBF0F8",
           "zerolinewidth": 2
          }
         }
        },
        "title": {
         "text": "Distribución del Amperaje"
        },
        "xaxis": {
         "anchor": "y",
         "domain": [
          0,
          1
         ],
         "title": {
          "text": "Amperaje"
         }
        },
        "yaxis": {
         "anchor": "x",
         "domain": [
          0,
          1
         ],
         "title": {
          "text": "count"
         }
        }
       }
      }
     },
     "metadata": {},
     "output_type": "display_data"
    }
   ],
   "source": [
    "fig_amperaje = px.histogram(df, x=\"amperaje\", nbins=20, title=\"Distribución del Amperaje\",\n",
    "                            labels={\"amperaje\": \"Amperaje\"}, template=\"plotly_white\")\n",
    "fig_amperaje.show()\n"
   ]
  },
  {
   "cell_type": "markdown",
   "metadata": {},
   "source": [
    "La distribución del amperaje muestra una **tendencia bimodal**, con dos grupos principales de valores alrededor de **16-20** y **22.5-26**, lo que sugiere que los datos podrían pertenecer a dos subgrupos o condiciones operativas distintas. El rango predominante se encuentra entre **15 y 20**, lo que corresponde a los niveles \"Normal\" y \"Alto\".\n",
    "\n",
    "El **sesgo** parece ser **ligeramente positivo**, con una cola más larga hacia la derecha, indicando que algunos valores elevados de amperaje son menos frecuentes pero aún están presentes. La **curtosis** es **mesocúrtica**, ya que la distribución no es ni demasiado plana ni demasiado apuntada, reflejando una dispersión moderada.\n",
    "\n",
    "En general, el amperaje parece concentrarse en rangos normales y altos, con menos ocurrencias en los extremos más altos, lo que podría representar condiciones operativas exigentes o anómalas en los sistemas eléctricos. Estos patrones son cruciales para definir las reglas del sistema difuso, especialmente para identificar transiciones entre los niveles de riesgo en la operación del equipo."
   ]
  },
  {
   "cell_type": "code",
   "execution_count": 10,
   "metadata": {},
   "outputs": [
    {
     "data": {
      "application/vnd.plotly.v1+json": {
       "config": {
        "plotlyServerURL": "https://plot.ly"
       },
       "data": [
        {
         "alignmentgroup": "True",
         "bingroup": "x",
         "hovertemplate": "Vibraciones=%{x}<br>count=%{y}<extra></extra>",
         "legendgroup": "",
         "marker": {
          "color": "#636efa",
          "pattern": {
           "shape": ""
          }
         },
         "name": "",
         "nbinsx": 20,
         "offsetgroup": "",
         "orientation": "v",
         "showlegend": false,
         "type": "histogram",
         "x": [
          0.2,
          0.3,
          0.2,
          0.3,
          0.2,
          0.2,
          0.3,
          0.1,
          0.2,
          0.1,
          0.3,
          0.1,
          0.2,
          0.3,
          0.3,
          0.3,
          0.3,
          0.2,
          0.3,
          0.1,
          0.1,
          0.2,
          0.1,
          0.1,
          0.2,
          0.2,
          0.2,
          0.2,
          0.3,
          0.3,
          0.1,
          0.3,
          0.2,
          0.1,
          0.3,
          0.2,
          0.3,
          0.2,
          0.1,
          0.3,
          0.1,
          0.1,
          0.1,
          0.3,
          0.2,
          0.1,
          0.2,
          0.1,
          0.3,
          0.2,
          0.2,
          0.3,
          0.3,
          0.3,
          0.3,
          0.3,
          0.3,
          0.2,
          0.2,
          0.2,
          0.2,
          0.2,
          0.3,
          0.2,
          0.3,
          0.3,
          0.1,
          0.2,
          0.2,
          0.3,
          0.1,
          0.1,
          0.3,
          0.3,
          0.1,
          0.2,
          0.2,
          0.3,
          0.3,
          0.3,
          0.3,
          0.2,
          0.1,
          0.3,
          0.2,
          0.2,
          0.2,
          0.1,
          0.3,
          0.1,
          0.1,
          0.3,
          0.2,
          0.3,
          0.1,
          0.3,
          0.2,
          0.1,
          0.2,
          0.3,
          0.1,
          0.1,
          0.2,
          0.2,
          0.3,
          0.3,
          0.2,
          0.3,
          0.2,
          0.3,
          0.1,
          0.1,
          0.2,
          0.2,
          0.3,
          0.3,
          0.1,
          0.2,
          0.3,
          0.1,
          0.2,
          0.3,
          0.2,
          0.2,
          0.3,
          0.3,
          0.3,
          0.3,
          0.2,
          0.2,
          0.1,
          0.2,
          0.1,
          0.3,
          0.2,
          0.1,
          0.1,
          0.2,
          0.1,
          0.2,
          0.3,
          0.2,
          0.2,
          0.2,
          0.2,
          0.2,
          0.3,
          0.2,
          0.2,
          0.3,
          0.3,
          0.1,
          0.2,
          0.2,
          0.1,
          0.3,
          0.1,
          0.2,
          0.1,
          0.2,
          0.3,
          0.3,
          0.3,
          0.3,
          0.1,
          0.2,
          0.3,
          0.2,
          0.1,
          0.2,
          0.1,
          0.3,
          0.2,
          0.2,
          0.2,
          0.1,
          0.2,
          0.2,
          0.2,
          0.2,
          0.2,
          0.2,
          0.3,
          0.2,
          0.2,
          0.3,
          0.3,
          0.3,
          0.3,
          0.3,
          0.1,
          0.3,
          0.2,
          0.3,
          0.3,
          0.3,
          0.3,
          0.1,
          0.2,
          0.2,
          0.2,
          0.2,
          0.3,
          0.3,
          0.2,
          0.3,
          0.2,
          0.3,
          0.2,
          0.3,
          0.3,
          0.2,
          0.1,
          0.1,
          0.1,
          0.3,
          0.3,
          0.3,
          0.3,
          0.3,
          0.3,
          0.3,
          0.3,
          0.2,
          0.3,
          0.3,
          0.2,
          0.3,
          0.2,
          0.2,
          0.1,
          0.2,
          0.1,
          0.2,
          0.1,
          0.3,
          0.2,
          0.3,
          0.2,
          0.1,
          0.3,
          0.2,
          0.2,
          0.2,
          0.1,
          0.2,
          0.3,
          0.3,
          0.2,
          0.3,
          0.2,
          0.4,
          0.4,
          0.3,
          0.3,
          0.4,
          0.4,
          0.4,
          0.4,
          0.4,
          0.4,
          0.4,
          0.4,
          0.3,
          0.4,
          0.4,
          0.3,
          0.3,
          0.4,
          0.3,
          0.3,
          0.4,
          0.4,
          0.4,
          0.4,
          0.3,
          0.4,
          0.4,
          0.4,
          0.4,
          0.3,
          0.4,
          0.4,
          0.4,
          0.4,
          0.3,
          0.4,
          0.4,
          0.4,
          0.3,
          0.4,
          0.4,
          0.4,
          0.4,
          0.4,
          0.4,
          0.3,
          0.3,
          0.3,
          0.3,
          0.3,
          0.4,
          0.4,
          0.4,
          0.4,
          0.4,
          0.4,
          0.4,
          0.4,
          0.4,
          0.4,
          0.4,
          0.4,
          0.4,
          0.3,
          0.4,
          0.4,
          0.4,
          0.4,
          0.4,
          0.3,
          0.3,
          0.4,
          0.4,
          0.4,
          0.3,
          0.4,
          0.4,
          0.4,
          0.3,
          0.3,
          0.3,
          0.3,
          0.4,
          0.4,
          0.4,
          0.4,
          0.3,
          0.4,
          0.4,
          0.4,
          0.4,
          0.4,
          0.4,
          0.4,
          0.3,
          0.4,
          0.4,
          0.3,
          0.3,
          0.4,
          0.4,
          0.4,
          0.4,
          0.3,
          0.4,
          0.4,
          0.3,
          0.4,
          0.4,
          0.4,
          0.4,
          0.4,
          0.3,
          0.4,
          0.4,
          0.4,
          0.4,
          0.4,
          0.4,
          0.3,
          0.4,
          0.4,
          0.3,
          0.4,
          0.3,
          0.4,
          0.4,
          0.3,
          0.4,
          0.4,
          0.4,
          0.4,
          0.4,
          0.5,
          0.4,
          0.4,
          0.5,
          0.5,
          0.5,
          0.4,
          0.5,
          0.5,
          0.4,
          0.4,
          0.4,
          0.5,
          0.5,
          0.4,
          0.5,
          0.4,
          0.5,
          0.5,
          0.4,
          0.5,
          0.5,
          0.5,
          0.5,
          0.4,
          0.5,
          0.4,
          0.4,
          0.4,
          0.4,
          0.5,
          0.4,
          0.5,
          0.5,
          0.4,
          0.5,
          0.5,
          0.4,
          0.4,
          0.5,
          0.5,
          0.5,
          0.5,
          0.5,
          0.5,
          0.4,
          0.5,
          0.5,
          0.4,
          0.4,
          0.4,
          0.4,
          0.5,
          0.4,
          0.5,
          0.5,
          0.5,
          0.4,
          0.4,
          0.4,
          0.5,
          0.4,
          0.5,
          0.5,
          0.4,
          0.5,
          0.4,
          0.4,
          0.5,
          0.4,
          0.4,
          0.5,
          0.5,
          0.4,
          0.5,
          0.4,
          0.5,
          0.5,
          0.4,
          0.5,
          0.4,
          0.4,
          0.4,
          0.4,
          0.5,
          0.5,
          0.5,
          0.5,
          0.5,
          0.5,
          0.5
         ],
         "xaxis": "x",
         "yaxis": "y"
        }
       ],
       "layout": {
        "barmode": "relative",
        "legend": {
         "tracegroupgap": 0
        },
        "template": {
         "data": {
          "bar": [
           {
            "error_x": {
             "color": "#2a3f5f"
            },
            "error_y": {
             "color": "#2a3f5f"
            },
            "marker": {
             "line": {
              "color": "white",
              "width": 0.5
             },
             "pattern": {
              "fillmode": "overlay",
              "size": 10,
              "solidity": 0.2
             }
            },
            "type": "bar"
           }
          ],
          "barpolar": [
           {
            "marker": {
             "line": {
              "color": "white",
              "width": 0.5
             },
             "pattern": {
              "fillmode": "overlay",
              "size": 10,
              "solidity": 0.2
             }
            },
            "type": "barpolar"
           }
          ],
          "carpet": [
           {
            "aaxis": {
             "endlinecolor": "#2a3f5f",
             "gridcolor": "#C8D4E3",
             "linecolor": "#C8D4E3",
             "minorgridcolor": "#C8D4E3",
             "startlinecolor": "#2a3f5f"
            },
            "baxis": {
             "endlinecolor": "#2a3f5f",
             "gridcolor": "#C8D4E3",
             "linecolor": "#C8D4E3",
             "minorgridcolor": "#C8D4E3",
             "startlinecolor": "#2a3f5f"
            },
            "type": "carpet"
           }
          ],
          "choropleth": [
           {
            "colorbar": {
             "outlinewidth": 0,
             "ticks": ""
            },
            "type": "choropleth"
           }
          ],
          "contour": [
           {
            "colorbar": {
             "outlinewidth": 0,
             "ticks": ""
            },
            "colorscale": [
             [
              0,
              "#0d0887"
             ],
             [
              0.1111111111111111,
              "#46039f"
             ],
             [
              0.2222222222222222,
              "#7201a8"
             ],
             [
              0.3333333333333333,
              "#9c179e"
             ],
             [
              0.4444444444444444,
              "#bd3786"
             ],
             [
              0.5555555555555556,
              "#d8576b"
             ],
             [
              0.6666666666666666,
              "#ed7953"
             ],
             [
              0.7777777777777778,
              "#fb9f3a"
             ],
             [
              0.8888888888888888,
              "#fdca26"
             ],
             [
              1,
              "#f0f921"
             ]
            ],
            "type": "contour"
           }
          ],
          "contourcarpet": [
           {
            "colorbar": {
             "outlinewidth": 0,
             "ticks": ""
            },
            "type": "contourcarpet"
           }
          ],
          "heatmap": [
           {
            "colorbar": {
             "outlinewidth": 0,
             "ticks": ""
            },
            "colorscale": [
             [
              0,
              "#0d0887"
             ],
             [
              0.1111111111111111,
              "#46039f"
             ],
             [
              0.2222222222222222,
              "#7201a8"
             ],
             [
              0.3333333333333333,
              "#9c179e"
             ],
             [
              0.4444444444444444,
              "#bd3786"
             ],
             [
              0.5555555555555556,
              "#d8576b"
             ],
             [
              0.6666666666666666,
              "#ed7953"
             ],
             [
              0.7777777777777778,
              "#fb9f3a"
             ],
             [
              0.8888888888888888,
              "#fdca26"
             ],
             [
              1,
              "#f0f921"
             ]
            ],
            "type": "heatmap"
           }
          ],
          "heatmapgl": [
           {
            "colorbar": {
             "outlinewidth": 0,
             "ticks": ""
            },
            "colorscale": [
             [
              0,
              "#0d0887"
             ],
             [
              0.1111111111111111,
              "#46039f"
             ],
             [
              0.2222222222222222,
              "#7201a8"
             ],
             [
              0.3333333333333333,
              "#9c179e"
             ],
             [
              0.4444444444444444,
              "#bd3786"
             ],
             [
              0.5555555555555556,
              "#d8576b"
             ],
             [
              0.6666666666666666,
              "#ed7953"
             ],
             [
              0.7777777777777778,
              "#fb9f3a"
             ],
             [
              0.8888888888888888,
              "#fdca26"
             ],
             [
              1,
              "#f0f921"
             ]
            ],
            "type": "heatmapgl"
           }
          ],
          "histogram": [
           {
            "marker": {
             "pattern": {
              "fillmode": "overlay",
              "size": 10,
              "solidity": 0.2
             }
            },
            "type": "histogram"
           }
          ],
          "histogram2d": [
           {
            "colorbar": {
             "outlinewidth": 0,
             "ticks": ""
            },
            "colorscale": [
             [
              0,
              "#0d0887"
             ],
             [
              0.1111111111111111,
              "#46039f"
             ],
             [
              0.2222222222222222,
              "#7201a8"
             ],
             [
              0.3333333333333333,
              "#9c179e"
             ],
             [
              0.4444444444444444,
              "#bd3786"
             ],
             [
              0.5555555555555556,
              "#d8576b"
             ],
             [
              0.6666666666666666,
              "#ed7953"
             ],
             [
              0.7777777777777778,
              "#fb9f3a"
             ],
             [
              0.8888888888888888,
              "#fdca26"
             ],
             [
              1,
              "#f0f921"
             ]
            ],
            "type": "histogram2d"
           }
          ],
          "histogram2dcontour": [
           {
            "colorbar": {
             "outlinewidth": 0,
             "ticks": ""
            },
            "colorscale": [
             [
              0,
              "#0d0887"
             ],
             [
              0.1111111111111111,
              "#46039f"
             ],
             [
              0.2222222222222222,
              "#7201a8"
             ],
             [
              0.3333333333333333,
              "#9c179e"
             ],
             [
              0.4444444444444444,
              "#bd3786"
             ],
             [
              0.5555555555555556,
              "#d8576b"
             ],
             [
              0.6666666666666666,
              "#ed7953"
             ],
             [
              0.7777777777777778,
              "#fb9f3a"
             ],
             [
              0.8888888888888888,
              "#fdca26"
             ],
             [
              1,
              "#f0f921"
             ]
            ],
            "type": "histogram2dcontour"
           }
          ],
          "mesh3d": [
           {
            "colorbar": {
             "outlinewidth": 0,
             "ticks": ""
            },
            "type": "mesh3d"
           }
          ],
          "parcoords": [
           {
            "line": {
             "colorbar": {
              "outlinewidth": 0,
              "ticks": ""
             }
            },
            "type": "parcoords"
           }
          ],
          "pie": [
           {
            "automargin": true,
            "type": "pie"
           }
          ],
          "scatter": [
           {
            "fillpattern": {
             "fillmode": "overlay",
             "size": 10,
             "solidity": 0.2
            },
            "type": "scatter"
           }
          ],
          "scatter3d": [
           {
            "line": {
             "colorbar": {
              "outlinewidth": 0,
              "ticks": ""
             }
            },
            "marker": {
             "colorbar": {
              "outlinewidth": 0,
              "ticks": ""
             }
            },
            "type": "scatter3d"
           }
          ],
          "scattercarpet": [
           {
            "marker": {
             "colorbar": {
              "outlinewidth": 0,
              "ticks": ""
             }
            },
            "type": "scattercarpet"
           }
          ],
          "scattergeo": [
           {
            "marker": {
             "colorbar": {
              "outlinewidth": 0,
              "ticks": ""
             }
            },
            "type": "scattergeo"
           }
          ],
          "scattergl": [
           {
            "marker": {
             "colorbar": {
              "outlinewidth": 0,
              "ticks": ""
             }
            },
            "type": "scattergl"
           }
          ],
          "scattermapbox": [
           {
            "marker": {
             "colorbar": {
              "outlinewidth": 0,
              "ticks": ""
             }
            },
            "type": "scattermapbox"
           }
          ],
          "scatterpolar": [
           {
            "marker": {
             "colorbar": {
              "outlinewidth": 0,
              "ticks": ""
             }
            },
            "type": "scatterpolar"
           }
          ],
          "scatterpolargl": [
           {
            "marker": {
             "colorbar": {
              "outlinewidth": 0,
              "ticks": ""
             }
            },
            "type": "scatterpolargl"
           }
          ],
          "scatterternary": [
           {
            "marker": {
             "colorbar": {
              "outlinewidth": 0,
              "ticks": ""
             }
            },
            "type": "scatterternary"
           }
          ],
          "surface": [
           {
            "colorbar": {
             "outlinewidth": 0,
             "ticks": ""
            },
            "colorscale": [
             [
              0,
              "#0d0887"
             ],
             [
              0.1111111111111111,
              "#46039f"
             ],
             [
              0.2222222222222222,
              "#7201a8"
             ],
             [
              0.3333333333333333,
              "#9c179e"
             ],
             [
              0.4444444444444444,
              "#bd3786"
             ],
             [
              0.5555555555555556,
              "#d8576b"
             ],
             [
              0.6666666666666666,
              "#ed7953"
             ],
             [
              0.7777777777777778,
              "#fb9f3a"
             ],
             [
              0.8888888888888888,
              "#fdca26"
             ],
             [
              1,
              "#f0f921"
             ]
            ],
            "type": "surface"
           }
          ],
          "table": [
           {
            "cells": {
             "fill": {
              "color": "#EBF0F8"
             },
             "line": {
              "color": "white"
             }
            },
            "header": {
             "fill": {
              "color": "#C8D4E3"
             },
             "line": {
              "color": "white"
             }
            },
            "type": "table"
           }
          ]
         },
         "layout": {
          "annotationdefaults": {
           "arrowcolor": "#2a3f5f",
           "arrowhead": 0,
           "arrowwidth": 1
          },
          "autotypenumbers": "strict",
          "coloraxis": {
           "colorbar": {
            "outlinewidth": 0,
            "ticks": ""
           }
          },
          "colorscale": {
           "diverging": [
            [
             0,
             "#8e0152"
            ],
            [
             0.1,
             "#c51b7d"
            ],
            [
             0.2,
             "#de77ae"
            ],
            [
             0.3,
             "#f1b6da"
            ],
            [
             0.4,
             "#fde0ef"
            ],
            [
             0.5,
             "#f7f7f7"
            ],
            [
             0.6,
             "#e6f5d0"
            ],
            [
             0.7,
             "#b8e186"
            ],
            [
             0.8,
             "#7fbc41"
            ],
            [
             0.9,
             "#4d9221"
            ],
            [
             1,
             "#276419"
            ]
           ],
           "sequential": [
            [
             0,
             "#0d0887"
            ],
            [
             0.1111111111111111,
             "#46039f"
            ],
            [
             0.2222222222222222,
             "#7201a8"
            ],
            [
             0.3333333333333333,
             "#9c179e"
            ],
            [
             0.4444444444444444,
             "#bd3786"
            ],
            [
             0.5555555555555556,
             "#d8576b"
            ],
            [
             0.6666666666666666,
             "#ed7953"
            ],
            [
             0.7777777777777778,
             "#fb9f3a"
            ],
            [
             0.8888888888888888,
             "#fdca26"
            ],
            [
             1,
             "#f0f921"
            ]
           ],
           "sequentialminus": [
            [
             0,
             "#0d0887"
            ],
            [
             0.1111111111111111,
             "#46039f"
            ],
            [
             0.2222222222222222,
             "#7201a8"
            ],
            [
             0.3333333333333333,
             "#9c179e"
            ],
            [
             0.4444444444444444,
             "#bd3786"
            ],
            [
             0.5555555555555556,
             "#d8576b"
            ],
            [
             0.6666666666666666,
             "#ed7953"
            ],
            [
             0.7777777777777778,
             "#fb9f3a"
            ],
            [
             0.8888888888888888,
             "#fdca26"
            ],
            [
             1,
             "#f0f921"
            ]
           ]
          },
          "colorway": [
           "#636efa",
           "#EF553B",
           "#00cc96",
           "#ab63fa",
           "#FFA15A",
           "#19d3f3",
           "#FF6692",
           "#B6E880",
           "#FF97FF",
           "#FECB52"
          ],
          "font": {
           "color": "#2a3f5f"
          },
          "geo": {
           "bgcolor": "white",
           "lakecolor": "white",
           "landcolor": "white",
           "showlakes": true,
           "showland": true,
           "subunitcolor": "#C8D4E3"
          },
          "hoverlabel": {
           "align": "left"
          },
          "hovermode": "closest",
          "mapbox": {
           "style": "light"
          },
          "paper_bgcolor": "white",
          "plot_bgcolor": "white",
          "polar": {
           "angularaxis": {
            "gridcolor": "#EBF0F8",
            "linecolor": "#EBF0F8",
            "ticks": ""
           },
           "bgcolor": "white",
           "radialaxis": {
            "gridcolor": "#EBF0F8",
            "linecolor": "#EBF0F8",
            "ticks": ""
           }
          },
          "scene": {
           "xaxis": {
            "backgroundcolor": "white",
            "gridcolor": "#DFE8F3",
            "gridwidth": 2,
            "linecolor": "#EBF0F8",
            "showbackground": true,
            "ticks": "",
            "zerolinecolor": "#EBF0F8"
           },
           "yaxis": {
            "backgroundcolor": "white",
            "gridcolor": "#DFE8F3",
            "gridwidth": 2,
            "linecolor": "#EBF0F8",
            "showbackground": true,
            "ticks": "",
            "zerolinecolor": "#EBF0F8"
           },
           "zaxis": {
            "backgroundcolor": "white",
            "gridcolor": "#DFE8F3",
            "gridwidth": 2,
            "linecolor": "#EBF0F8",
            "showbackground": true,
            "ticks": "",
            "zerolinecolor": "#EBF0F8"
           }
          },
          "shapedefaults": {
           "line": {
            "color": "#2a3f5f"
           }
          },
          "ternary": {
           "aaxis": {
            "gridcolor": "#DFE8F3",
            "linecolor": "#A2B1C6",
            "ticks": ""
           },
           "baxis": {
            "gridcolor": "#DFE8F3",
            "linecolor": "#A2B1C6",
            "ticks": ""
           },
           "bgcolor": "white",
           "caxis": {
            "gridcolor": "#DFE8F3",
            "linecolor": "#A2B1C6",
            "ticks": ""
           }
          },
          "title": {
           "x": 0.05
          },
          "xaxis": {
           "automargin": true,
           "gridcolor": "#EBF0F8",
           "linecolor": "#EBF0F8",
           "ticks": "",
           "title": {
            "standoff": 15
           },
           "zerolinecolor": "#EBF0F8",
           "zerolinewidth": 2
          },
          "yaxis": {
           "automargin": true,
           "gridcolor": "#EBF0F8",
           "linecolor": "#EBF0F8",
           "ticks": "",
           "title": {
            "standoff": 15
           },
           "zerolinecolor": "#EBF0F8",
           "zerolinewidth": 2
          }
         }
        },
        "title": {
         "text": "Distribución de las Vibraciones"
        },
        "xaxis": {
         "anchor": "y",
         "domain": [
          0,
          1
         ],
         "title": {
          "text": "Vibraciones"
         }
        },
        "yaxis": {
         "anchor": "x",
         "domain": [
          0,
          1
         ],
         "title": {
          "text": "count"
         }
        }
       }
      }
     },
     "metadata": {},
     "output_type": "display_data"
    }
   ],
   "source": [
    "fig_vibraciones = px.histogram(df, x=\"vibraciones\", nbins=20, title=\"Distribución de las Vibraciones\",\n",
    "                               labels={\"vibraciones\": \"Vibraciones\"}, template=\"plotly_white\")\n",
    "fig_vibraciones.show()"
   ]
  },
  {
   "cell_type": "markdown",
   "metadata": {},
   "source": [
    "La distribución de las vibraciones es predominantemente uniforme, con la mayoría de los valores concentrados entre **0.2 y 0.4**, correspondientes a niveles \"Normales\" y \"Altas\". Los valores extremos en **0.1** y **0.5** son menos frecuentes, indicando que las vibraciones muy bajas o muy altas son casos excepcionales. La distribución es simétrica y mesocúrtica, mostrando un equilibrio en las frecuencias sin picos extremos. Esto sugiere que las reglas difusas deben enfocarse en los rangos normales y altos, prestando atención a los valores extremos que podrían indicar condiciones críticas."
   ]
  },
  {
   "cell_type": "code",
   "execution_count": 11,
   "metadata": {},
   "outputs": [
    {
     "data": {
      "application/vnd.plotly.v1+json": {
       "config": {
        "plotlyServerURL": "https://plot.ly"
       },
       "data": [
        {
         "alignmentgroup": "True",
         "bingroup": "x",
         "hovertemplate": "Temperatura (°C)=%{x}<br>count=%{y}<extra></extra>",
         "legendgroup": "",
         "marker": {
          "color": "#636efa",
          "pattern": {
           "shape": ""
          }
         },
         "name": "",
         "nbinsx": 20,
         "offsetgroup": "",
         "orientation": "v",
         "showlegend": false,
         "type": "histogram",
         "x": [
          51.6,
          68.7,
          64.1,
          52.8,
          67.6,
          61.3,
          75.9,
          67.2,
          74.5,
          71.9,
          51.9,
          75.9,
          72.9,
          69.3,
          53,
          71.4,
          50.8,
          73.1,
          57,
          72.4,
          54,
          59.3,
          74.5,
          50,
          57.4,
          70.6,
          57.2,
          64.7,
          54.2,
          58.5,
          59.4,
          76.7,
          52.3,
          57.9,
          55.1,
          63.8,
          62.6,
          66.1,
          50.1,
          63.1,
          55.8,
          68,
          74.6,
          78.9,
          59.1,
          70.9,
          62.6,
          63.8,
          68,
          75.7,
          78.7,
          74.9,
          74.3,
          73.6,
          57.8,
          68.1,
          74.3,
          59,
          69.9,
          53,
          55.4,
          64.1,
          68.6,
          54.6,
          66,
          67.7,
          76.2,
          59.7,
          80,
          52.7,
          61.3,
          63.6,
          53.5,
          76.5,
          56.4,
          55.2,
          64.7,
          58.8,
          70.7,
          74.1,
          58.9,
          62.7,
          62.6,
          75.3,
          71.3,
          79.2,
          57.4,
          64.4,
          54.4,
          67.1,
          59.5,
          67.5,
          75.8,
          59.7,
          64.3,
          53.4,
          50.8,
          78.2,
          61.7,
          53,
          53.7,
          69.3,
          70.5,
          59.4,
          77.3,
          71.9,
          73,
          72,
          76.8,
          76.8,
          57.9,
          56,
          76.4,
          71.5,
          63.4,
          64.7,
          74.6,
          51.2,
          51.9,
          52.6,
          77.4,
          61.6,
          50.9,
          68.4,
          57.8,
          69.8,
          73.2,
          77.6,
          76.7,
          56.3,
          61.1,
          52,
          69.7,
          71.5,
          72.5,
          57.3,
          74.4,
          63.4,
          53.5,
          71.9,
          69,
          68.3,
          50.6,
          75.4,
          68.3,
          79.6,
          70.8,
          55.7,
          76.7,
          74.7,
          77.1,
          61.7,
          63.5,
          50.7,
          59.7,
          62.7,
          59.6,
          73.1,
          57.9,
          52.4,
          64.3,
          54.8,
          52.3,
          54,
          65.2,
          76.9,
          62,
          55.9,
          56.7,
          60,
          78,
          57.2,
          63.8,
          59.4,
          51.9,
          69.5,
          69,
          67.2,
          75.7,
          63.1,
          57.1,
          54.6,
          78.2,
          69.1,
          67.6,
          71,
          54.8,
          75.7,
          71.4,
          76.3,
          54.8,
          78.2,
          68.3,
          69.8,
          73.6,
          56.7,
          76,
          53.6,
          61.7,
          67.3,
          59.6,
          57.7,
          79,
          71.1,
          76.1,
          54.3,
          51.7,
          77.6,
          54.9,
          54.8,
          63.8,
          56.6,
          79.9,
          58.1,
          78.2,
          64.4,
          51.1,
          79.6,
          54.2,
          62.2,
          74.4,
          53.6,
          64,
          68.8,
          78.7,
          65.1,
          64.8,
          64.4,
          75,
          50.1,
          50.5,
          66.8,
          58.7,
          74.1,
          60.6,
          57.3,
          65.2,
          67.6,
          53.5,
          50.7,
          74.9,
          75.8,
          67,
          71.3,
          72.9,
          55.7,
          75.4,
          79.7,
          54.2,
          77.7,
          71.7,
          87.5,
          83.4,
          85.1,
          81.8,
          85.6,
          83.4,
          80.8,
          82,
          87.2,
          86,
          77.2,
          79.5,
          77.3,
          84.3,
          84.3,
          79.8,
          85.1,
          86.5,
          84.4,
          79.1,
          81.6,
          85,
          82.3,
          82.7,
          78.3,
          85.9,
          77.7,
          83.7,
          78.3,
          81.2,
          88.9,
          78.3,
          77.2,
          87.6,
          83.6,
          81.3,
          88.4,
          80.2,
          81.1,
          78.5,
          89.7,
          84,
          80.7,
          86.6,
          81.7,
          86.3,
          82.5,
          88.1,
          88.9,
          85,
          86.4,
          84.5,
          88.3,
          80.1,
          86.2,
          78.4,
          82.5,
          87.3,
          80.2,
          79,
          84.7,
          81.4,
          88.1,
          77.1,
          86.8,
          87.8,
          83.7,
          85.3,
          83.2,
          82.6,
          88.8,
          80.9,
          83.7,
          88.7,
          82.9,
          87.2,
          81.2,
          88.5,
          79.2,
          85,
          89.1,
          89,
          77.6,
          87.5,
          77,
          84.4,
          79.3,
          77.1,
          82.9,
          81.6,
          79.9,
          83.3,
          82,
          85,
          85,
          79.1,
          80.5,
          87.5,
          80.1,
          84.8,
          86.1,
          84.7,
          81.5,
          80.1,
          84.4,
          82.1,
          81.6,
          83.7,
          86.2,
          89.9,
          85.7,
          77.7,
          77.5,
          88.7,
          86.3,
          86.6,
          83.8,
          89.9,
          78.1,
          89.1,
          83.2,
          82.4,
          78,
          83.4,
          81.1,
          83.1,
          85.2,
          81.9,
          85.4,
          79,
          80.4,
          80.6,
          81.4,
          105.7,
          86.5,
          85.8,
          91.1,
          94.1,
          94.3,
          96.5,
          110,
          96,
          94.4,
          99,
          103.8,
          88.7,
          94.7,
          88.6,
          85.5,
          93.7,
          97.9,
          89.4,
          108.3,
          98,
          92.3,
          85.8,
          103.6,
          88,
          88.6,
          94.6,
          103.7,
          85.7,
          98.1,
          92.7,
          86.3,
          107.8,
          101.5,
          106.8,
          105.4,
          107.7,
          97.4,
          86.4,
          96.2,
          91.3,
          103,
          85.2,
          92.6,
          97.3,
          92.5,
          108.6,
          96.6,
          102.9,
          89.4,
          99.4,
          95.1,
          88.4,
          99,
          108.2,
          108.3,
          109.6,
          97.3,
          91.9,
          108.1,
          87.5,
          90.4,
          92,
          99.1,
          95.7,
          97.3,
          108,
          98.9,
          86.7,
          106.6,
          107.6,
          88.6,
          107.7,
          85.7,
          94.8,
          91.2,
          104.4,
          99.8,
          94.6,
          97.2,
          99,
          95.3,
          92.3,
          96.5,
          99.3,
          99,
          98.6,
          94.7,
          107.8,
          93,
          106.9
         ],
         "xaxis": "x",
         "yaxis": "y"
        }
       ],
       "layout": {
        "barmode": "relative",
        "legend": {
         "tracegroupgap": 0
        },
        "template": {
         "data": {
          "bar": [
           {
            "error_x": {
             "color": "#2a3f5f"
            },
            "error_y": {
             "color": "#2a3f5f"
            },
            "marker": {
             "line": {
              "color": "white",
              "width": 0.5
             },
             "pattern": {
              "fillmode": "overlay",
              "size": 10,
              "solidity": 0.2
             }
            },
            "type": "bar"
           }
          ],
          "barpolar": [
           {
            "marker": {
             "line": {
              "color": "white",
              "width": 0.5
             },
             "pattern": {
              "fillmode": "overlay",
              "size": 10,
              "solidity": 0.2
             }
            },
            "type": "barpolar"
           }
          ],
          "carpet": [
           {
            "aaxis": {
             "endlinecolor": "#2a3f5f",
             "gridcolor": "#C8D4E3",
             "linecolor": "#C8D4E3",
             "minorgridcolor": "#C8D4E3",
             "startlinecolor": "#2a3f5f"
            },
            "baxis": {
             "endlinecolor": "#2a3f5f",
             "gridcolor": "#C8D4E3",
             "linecolor": "#C8D4E3",
             "minorgridcolor": "#C8D4E3",
             "startlinecolor": "#2a3f5f"
            },
            "type": "carpet"
           }
          ],
          "choropleth": [
           {
            "colorbar": {
             "outlinewidth": 0,
             "ticks": ""
            },
            "type": "choropleth"
           }
          ],
          "contour": [
           {
            "colorbar": {
             "outlinewidth": 0,
             "ticks": ""
            },
            "colorscale": [
             [
              0,
              "#0d0887"
             ],
             [
              0.1111111111111111,
              "#46039f"
             ],
             [
              0.2222222222222222,
              "#7201a8"
             ],
             [
              0.3333333333333333,
              "#9c179e"
             ],
             [
              0.4444444444444444,
              "#bd3786"
             ],
             [
              0.5555555555555556,
              "#d8576b"
             ],
             [
              0.6666666666666666,
              "#ed7953"
             ],
             [
              0.7777777777777778,
              "#fb9f3a"
             ],
             [
              0.8888888888888888,
              "#fdca26"
             ],
             [
              1,
              "#f0f921"
             ]
            ],
            "type": "contour"
           }
          ],
          "contourcarpet": [
           {
            "colorbar": {
             "outlinewidth": 0,
             "ticks": ""
            },
            "type": "contourcarpet"
           }
          ],
          "heatmap": [
           {
            "colorbar": {
             "outlinewidth": 0,
             "ticks": ""
            },
            "colorscale": [
             [
              0,
              "#0d0887"
             ],
             [
              0.1111111111111111,
              "#46039f"
             ],
             [
              0.2222222222222222,
              "#7201a8"
             ],
             [
              0.3333333333333333,
              "#9c179e"
             ],
             [
              0.4444444444444444,
              "#bd3786"
             ],
             [
              0.5555555555555556,
              "#d8576b"
             ],
             [
              0.6666666666666666,
              "#ed7953"
             ],
             [
              0.7777777777777778,
              "#fb9f3a"
             ],
             [
              0.8888888888888888,
              "#fdca26"
             ],
             [
              1,
              "#f0f921"
             ]
            ],
            "type": "heatmap"
           }
          ],
          "heatmapgl": [
           {
            "colorbar": {
             "outlinewidth": 0,
             "ticks": ""
            },
            "colorscale": [
             [
              0,
              "#0d0887"
             ],
             [
              0.1111111111111111,
              "#46039f"
             ],
             [
              0.2222222222222222,
              "#7201a8"
             ],
             [
              0.3333333333333333,
              "#9c179e"
             ],
             [
              0.4444444444444444,
              "#bd3786"
             ],
             [
              0.5555555555555556,
              "#d8576b"
             ],
             [
              0.6666666666666666,
              "#ed7953"
             ],
             [
              0.7777777777777778,
              "#fb9f3a"
             ],
             [
              0.8888888888888888,
              "#fdca26"
             ],
             [
              1,
              "#f0f921"
             ]
            ],
            "type": "heatmapgl"
           }
          ],
          "histogram": [
           {
            "marker": {
             "pattern": {
              "fillmode": "overlay",
              "size": 10,
              "solidity": 0.2
             }
            },
            "type": "histogram"
           }
          ],
          "histogram2d": [
           {
            "colorbar": {
             "outlinewidth": 0,
             "ticks": ""
            },
            "colorscale": [
             [
              0,
              "#0d0887"
             ],
             [
              0.1111111111111111,
              "#46039f"
             ],
             [
              0.2222222222222222,
              "#7201a8"
             ],
             [
              0.3333333333333333,
              "#9c179e"
             ],
             [
              0.4444444444444444,
              "#bd3786"
             ],
             [
              0.5555555555555556,
              "#d8576b"
             ],
             [
              0.6666666666666666,
              "#ed7953"
             ],
             [
              0.7777777777777778,
              "#fb9f3a"
             ],
             [
              0.8888888888888888,
              "#fdca26"
             ],
             [
              1,
              "#f0f921"
             ]
            ],
            "type": "histogram2d"
           }
          ],
          "histogram2dcontour": [
           {
            "colorbar": {
             "outlinewidth": 0,
             "ticks": ""
            },
            "colorscale": [
             [
              0,
              "#0d0887"
             ],
             [
              0.1111111111111111,
              "#46039f"
             ],
             [
              0.2222222222222222,
              "#7201a8"
             ],
             [
              0.3333333333333333,
              "#9c179e"
             ],
             [
              0.4444444444444444,
              "#bd3786"
             ],
             [
              0.5555555555555556,
              "#d8576b"
             ],
             [
              0.6666666666666666,
              "#ed7953"
             ],
             [
              0.7777777777777778,
              "#fb9f3a"
             ],
             [
              0.8888888888888888,
              "#fdca26"
             ],
             [
              1,
              "#f0f921"
             ]
            ],
            "type": "histogram2dcontour"
           }
          ],
          "mesh3d": [
           {
            "colorbar": {
             "outlinewidth": 0,
             "ticks": ""
            },
            "type": "mesh3d"
           }
          ],
          "parcoords": [
           {
            "line": {
             "colorbar": {
              "outlinewidth": 0,
              "ticks": ""
             }
            },
            "type": "parcoords"
           }
          ],
          "pie": [
           {
            "automargin": true,
            "type": "pie"
           }
          ],
          "scatter": [
           {
            "fillpattern": {
             "fillmode": "overlay",
             "size": 10,
             "solidity": 0.2
            },
            "type": "scatter"
           }
          ],
          "scatter3d": [
           {
            "line": {
             "colorbar": {
              "outlinewidth": 0,
              "ticks": ""
             }
            },
            "marker": {
             "colorbar": {
              "outlinewidth": 0,
              "ticks": ""
             }
            },
            "type": "scatter3d"
           }
          ],
          "scattercarpet": [
           {
            "marker": {
             "colorbar": {
              "outlinewidth": 0,
              "ticks": ""
             }
            },
            "type": "scattercarpet"
           }
          ],
          "scattergeo": [
           {
            "marker": {
             "colorbar": {
              "outlinewidth": 0,
              "ticks": ""
             }
            },
            "type": "scattergeo"
           }
          ],
          "scattergl": [
           {
            "marker": {
             "colorbar": {
              "outlinewidth": 0,
              "ticks": ""
             }
            },
            "type": "scattergl"
           }
          ],
          "scattermapbox": [
           {
            "marker": {
             "colorbar": {
              "outlinewidth": 0,
              "ticks": ""
             }
            },
            "type": "scattermapbox"
           }
          ],
          "scatterpolar": [
           {
            "marker": {
             "colorbar": {
              "outlinewidth": 0,
              "ticks": ""
             }
            },
            "type": "scatterpolar"
           }
          ],
          "scatterpolargl": [
           {
            "marker": {
             "colorbar": {
              "outlinewidth": 0,
              "ticks": ""
             }
            },
            "type": "scatterpolargl"
           }
          ],
          "scatterternary": [
           {
            "marker": {
             "colorbar": {
              "outlinewidth": 0,
              "ticks": ""
             }
            },
            "type": "scatterternary"
           }
          ],
          "surface": [
           {
            "colorbar": {
             "outlinewidth": 0,
             "ticks": ""
            },
            "colorscale": [
             [
              0,
              "#0d0887"
             ],
             [
              0.1111111111111111,
              "#46039f"
             ],
             [
              0.2222222222222222,
              "#7201a8"
             ],
             [
              0.3333333333333333,
              "#9c179e"
             ],
             [
              0.4444444444444444,
              "#bd3786"
             ],
             [
              0.5555555555555556,
              "#d8576b"
             ],
             [
              0.6666666666666666,
              "#ed7953"
             ],
             [
              0.7777777777777778,
              "#fb9f3a"
             ],
             [
              0.8888888888888888,
              "#fdca26"
             ],
             [
              1,
              "#f0f921"
             ]
            ],
            "type": "surface"
           }
          ],
          "table": [
           {
            "cells": {
             "fill": {
              "color": "#EBF0F8"
             },
             "line": {
              "color": "white"
             }
            },
            "header": {
             "fill": {
              "color": "#C8D4E3"
             },
             "line": {
              "color": "white"
             }
            },
            "type": "table"
           }
          ]
         },
         "layout": {
          "annotationdefaults": {
           "arrowcolor": "#2a3f5f",
           "arrowhead": 0,
           "arrowwidth": 1
          },
          "autotypenumbers": "strict",
          "coloraxis": {
           "colorbar": {
            "outlinewidth": 0,
            "ticks": ""
           }
          },
          "colorscale": {
           "diverging": [
            [
             0,
             "#8e0152"
            ],
            [
             0.1,
             "#c51b7d"
            ],
            [
             0.2,
             "#de77ae"
            ],
            [
             0.3,
             "#f1b6da"
            ],
            [
             0.4,
             "#fde0ef"
            ],
            [
             0.5,
             "#f7f7f7"
            ],
            [
             0.6,
             "#e6f5d0"
            ],
            [
             0.7,
             "#b8e186"
            ],
            [
             0.8,
             "#7fbc41"
            ],
            [
             0.9,
             "#4d9221"
            ],
            [
             1,
             "#276419"
            ]
           ],
           "sequential": [
            [
             0,
             "#0d0887"
            ],
            [
             0.1111111111111111,
             "#46039f"
            ],
            [
             0.2222222222222222,
             "#7201a8"
            ],
            [
             0.3333333333333333,
             "#9c179e"
            ],
            [
             0.4444444444444444,
             "#bd3786"
            ],
            [
             0.5555555555555556,
             "#d8576b"
            ],
            [
             0.6666666666666666,
             "#ed7953"
            ],
            [
             0.7777777777777778,
             "#fb9f3a"
            ],
            [
             0.8888888888888888,
             "#fdca26"
            ],
            [
             1,
             "#f0f921"
            ]
           ],
           "sequentialminus": [
            [
             0,
             "#0d0887"
            ],
            [
             0.1111111111111111,
             "#46039f"
            ],
            [
             0.2222222222222222,
             "#7201a8"
            ],
            [
             0.3333333333333333,
             "#9c179e"
            ],
            [
             0.4444444444444444,
             "#bd3786"
            ],
            [
             0.5555555555555556,
             "#d8576b"
            ],
            [
             0.6666666666666666,
             "#ed7953"
            ],
            [
             0.7777777777777778,
             "#fb9f3a"
            ],
            [
             0.8888888888888888,
             "#fdca26"
            ],
            [
             1,
             "#f0f921"
            ]
           ]
          },
          "colorway": [
           "#636efa",
           "#EF553B",
           "#00cc96",
           "#ab63fa",
           "#FFA15A",
           "#19d3f3",
           "#FF6692",
           "#B6E880",
           "#FF97FF",
           "#FECB52"
          ],
          "font": {
           "color": "#2a3f5f"
          },
          "geo": {
           "bgcolor": "white",
           "lakecolor": "white",
           "landcolor": "white",
           "showlakes": true,
           "showland": true,
           "subunitcolor": "#C8D4E3"
          },
          "hoverlabel": {
           "align": "left"
          },
          "hovermode": "closest",
          "mapbox": {
           "style": "light"
          },
          "paper_bgcolor": "white",
          "plot_bgcolor": "white",
          "polar": {
           "angularaxis": {
            "gridcolor": "#EBF0F8",
            "linecolor": "#EBF0F8",
            "ticks": ""
           },
           "bgcolor": "white",
           "radialaxis": {
            "gridcolor": "#EBF0F8",
            "linecolor": "#EBF0F8",
            "ticks": ""
           }
          },
          "scene": {
           "xaxis": {
            "backgroundcolor": "white",
            "gridcolor": "#DFE8F3",
            "gridwidth": 2,
            "linecolor": "#EBF0F8",
            "showbackground": true,
            "ticks": "",
            "zerolinecolor": "#EBF0F8"
           },
           "yaxis": {
            "backgroundcolor": "white",
            "gridcolor": "#DFE8F3",
            "gridwidth": 2,
            "linecolor": "#EBF0F8",
            "showbackground": true,
            "ticks": "",
            "zerolinecolor": "#EBF0F8"
           },
           "zaxis": {
            "backgroundcolor": "white",
            "gridcolor": "#DFE8F3",
            "gridwidth": 2,
            "linecolor": "#EBF0F8",
            "showbackground": true,
            "ticks": "",
            "zerolinecolor": "#EBF0F8"
           }
          },
          "shapedefaults": {
           "line": {
            "color": "#2a3f5f"
           }
          },
          "ternary": {
           "aaxis": {
            "gridcolor": "#DFE8F3",
            "linecolor": "#A2B1C6",
            "ticks": ""
           },
           "baxis": {
            "gridcolor": "#DFE8F3",
            "linecolor": "#A2B1C6",
            "ticks": ""
           },
           "bgcolor": "white",
           "caxis": {
            "gridcolor": "#DFE8F3",
            "linecolor": "#A2B1C6",
            "ticks": ""
           }
          },
          "title": {
           "x": 0.05
          },
          "xaxis": {
           "automargin": true,
           "gridcolor": "#EBF0F8",
           "linecolor": "#EBF0F8",
           "ticks": "",
           "title": {
            "standoff": 15
           },
           "zerolinecolor": "#EBF0F8",
           "zerolinewidth": 2
          },
          "yaxis": {
           "automargin": true,
           "gridcolor": "#EBF0F8",
           "linecolor": "#EBF0F8",
           "ticks": "",
           "title": {
            "standoff": 15
           },
           "zerolinecolor": "#EBF0F8",
           "zerolinewidth": 2
          }
         }
        },
        "title": {
         "text": "Distribución de la Temperatura"
        },
        "xaxis": {
         "anchor": "y",
         "domain": [
          0,
          1
         ],
         "title": {
          "text": "Temperatura (°C)"
         }
        },
        "yaxis": {
         "anchor": "x",
         "domain": [
          0,
          1
         ],
         "title": {
          "text": "count"
         }
        }
       }
      }
     },
     "metadata": {},
     "output_type": "display_data"
    }
   ],
   "source": [
    "fig_temperatura = px.histogram(df, x=\"temperatura\", nbins=20, title=\"Distribución de la Temperatura\",\n",
    "                               labels={\"temperatura\": \"Temperatura (°C)\"}, template=\"plotly_white\")\n",
    "fig_temperatura.show()"
   ]
  },
  {
   "cell_type": "markdown",
   "metadata": {},
   "source": [
    "La distribución de la temperatura muestra una concentración principal entre **60°C y 90°C**, correspondiente a los niveles difusos \"Normal\" y \"Alta\". Aunque existen valores en los extremos más bajos (50°C) y altos (110°C), son significativamente menos frecuentes. La distribución tiene un **sesgo positivo leve**, con una cola extendida hacia valores altos, indicando la presencia de temperaturas elevadas poco comunes. La **curtosis** es mesocúrtica, con una dispersión equilibrada pero sin picos pronunciados. Esto sugiere que la temperatura generalmente se encuentra dentro de rangos aceptables, pero con algunos casos de riesgo en valores altos que deben monitorearse."
   ]
  },
  {
   "cell_type": "code",
   "execution_count": 12,
   "metadata": {},
   "outputs": [
    {
     "data": {
      "application/vnd.plotly.v1+json": {
       "config": {
        "plotlyServerURL": "https://plot.ly"
       },
       "data": [
        {
         "alignmentgroup": "True",
         "bingroup": "x",
         "hovertemplate": "Alineación=%{x}<br>count=%{y}<extra></extra>",
         "legendgroup": "",
         "marker": {
          "color": "#636efa",
          "pattern": {
           "shape": ""
          }
         },
         "name": "",
         "nbinsx": 20,
         "offsetgroup": "",
         "orientation": "v",
         "showlegend": false,
         "type": "histogram",
         "x": [
          94,
          97.2,
          92.8,
          85.1,
          98.2,
          95.3,
          86.7,
          86.4,
          97.2,
          90,
          94.6,
          86.9,
          92.6,
          90.1,
          89.5,
          91.8,
          98.7,
          85.6,
          99.7,
          92.8,
          85.7,
          95.4,
          96.8,
          88.4,
          93.4,
          87,
          93.2,
          89.9,
          85.8,
          96.5,
          90.1,
          95.5,
          98.6,
          98.8,
          88.2,
          87.3,
          88.1,
          98.6,
          91.2,
          96.6,
          98.8,
          91.6,
          99.4,
          89.6,
          97.3,
          88.1,
          87.2,
          97.6,
          86,
          99.4,
          90.8,
          94.8,
          90.9,
          89.7,
          87.2,
          86.3,
          90.5,
          91.8,
          91.6,
          88.3,
          93.3,
          88.2,
          85.4,
          93.3,
          93.8,
          86.9,
          92.9,
          98.1,
          90.3,
          97.7,
          88.9,
          98.5,
          99,
          94.9,
          92.9,
          96.7,
          89,
          89.3,
          88.1,
          96.8,
          90.6,
          93.6,
          88.3,
          85.9,
          95.3,
          89.3,
          99.2,
          95.9,
          99.2,
          89.1,
          92.6,
          92,
          89,
          85.8,
          94.3,
          92,
          88.6,
          88.5,
          99.3,
          97.8,
          99.8,
          99.8,
          89,
          88.8,
          99.7,
          99.1,
          95.8,
          91,
          89.4,
          88.9,
          85.1,
          91.2,
          88.1,
          92.4,
          95.4,
          86,
          89.2,
          94.4,
          96.7,
          94.7,
          85.6,
          89,
          91.1,
          93.5,
          89.1,
          86.2,
          94.7,
          97,
          86,
          99,
          87,
          91.4,
          99.9,
          93.6,
          96.6,
          97,
          96.3,
          86.3,
          99.4,
          94.3,
          90.2,
          89,
          86.7,
          97.1,
          87.4,
          85.7,
          95.5,
          92.5,
          95.8,
          89.3,
          91.8,
          98.3,
          99.7,
          99.4,
          90.8,
          85.9,
          97.6,
          93.8,
          96.3,
          96.7,
          93.9,
          96,
          90.2,
          98.7,
          89.6,
          91.7,
          96.8,
          91.3,
          90.5,
          88.6,
          99,
          90.1,
          85.2,
          97.2,
          89.2,
          85.6,
          86.6,
          87.4,
          96.6,
          89.1,
          99,
          98.6,
          95.5,
          89.9,
          91.9,
          94.1,
          85.2,
          85.1,
          85.7,
          88.7,
          91.9,
          99.3,
          85.3,
          99.9,
          90.4,
          86.5,
          89.5,
          89.4,
          88.3,
          96.4,
          87.7,
          92,
          90.3,
          95.6,
          85.6,
          88,
          85.5,
          87.5,
          88.7,
          91.5,
          99.7,
          93.5,
          98.9,
          98.2,
          94,
          92.8,
          89.1,
          92.3,
          97.5,
          90,
          91.8,
          85.7,
          90.9,
          93.4,
          89.5,
          99.2,
          85.7,
          95.7,
          88.3,
          85.9,
          93.6,
          92.5,
          91.6,
          94.2,
          90.6,
          97.9,
          90.2,
          91,
          99.6,
          99.8,
          92.4,
          85.7,
          95.3,
          85.1,
          98.7,
          93.5,
          93.7,
          96.7,
          91.7,
          96.7,
          95,
          80.4,
          79.8,
          76.1,
          76.9,
          78.4,
          86.9,
          86,
          78.1,
          76.1,
          76.8,
          83,
          82.6,
          75.5,
          82.1,
          76,
          77.6,
          82,
          76,
          77.7,
          81.1,
          79.5,
          78.3,
          79.3,
          84.4,
          80.7,
          79.4,
          80.2,
          85.6,
          78.1,
          75.1,
          77.7,
          86.8,
          86.4,
          79.6,
          80.6,
          78.6,
          81.6,
          75.7,
          83.4,
          84.6,
          75.8,
          79.8,
          78.7,
          81.5,
          81.7,
          81.1,
          79.1,
          75.7,
          76.4,
          87.4,
          76.5,
          86,
          81,
          78.3,
          85.1,
          85.8,
          85.7,
          76.8,
          81.1,
          79.6,
          88,
          87.6,
          84.7,
          75.1,
          77.5,
          83.8,
          78.6,
          85.4,
          83.1,
          87.1,
          79.2,
          76.7,
          87.3,
          86.2,
          78.1,
          86.7,
          85,
          80.6,
          87.4,
          86.9,
          87.3,
          81.5,
          75.7,
          79.9,
          83.4,
          83.8,
          81.9,
          82.4,
          82.4,
          80.3,
          82.6,
          81.8,
          82.7,
          77.2,
          87.7,
          78.7,
          75.2,
          79.2,
          84.3,
          78.6,
          86.5,
          81.1,
          85.1,
          86.2,
          76.2,
          86.8,
          83.5,
          75.4,
          81.1,
          87.5,
          80.6,
          83.2,
          87.2,
          81.3,
          79.1,
          86.4,
          82.6,
          79.6,
          75.7,
          87.5,
          76.8,
          79.1,
          82.6,
          81.4,
          85,
          80.9,
          78,
          85.5,
          83.8,
          78.4,
          79.5,
          78.1,
          81.2,
          14.7,
          72.2,
          7.7,
          46.8,
          20.8,
          42.2,
          3.7,
          27.7,
          54.8,
          26.5,
          55.3,
          64.8,
          58.1,
          23.5,
          57.7,
          68.6,
          57.3,
          49,
          1.9,
          64.6,
          56.1,
          71,
          52,
          21.4,
          24.7,
          9.9,
          37.1,
          54.1,
          30.7,
          55.1,
          29.5,
          1.6,
          35,
          18.9,
          5.8,
          25,
          34.8,
          74,
          61.8,
          59.3,
          5.1,
          15.2,
          38.6,
          6.2,
          45.8,
          57.1,
          16.7,
          64,
          65.7,
          69.7,
          16.8,
          25.9,
          33.4,
          30.5,
          10,
          33.3,
          46,
          51.3,
          41.9,
          20.1,
          0.9,
          47.4,
          3.4,
          54.6,
          63.9,
          70.4,
          16.4,
          59.3,
          70.7,
          51.6,
          1.3,
          73.4,
          28,
          26.8,
          57.8,
          60.6,
          61.2,
          65.5,
          33.8,
          8.7,
          17.1,
          60.6,
          67.3,
          12.8,
          27.4,
          70.8,
          52.1,
          28.2,
          59.4,
          57.5,
          31.7
         ],
         "xaxis": "x",
         "yaxis": "y"
        }
       ],
       "layout": {
        "barmode": "relative",
        "legend": {
         "tracegroupgap": 0
        },
        "template": {
         "data": {
          "bar": [
           {
            "error_x": {
             "color": "#2a3f5f"
            },
            "error_y": {
             "color": "#2a3f5f"
            },
            "marker": {
             "line": {
              "color": "white",
              "width": 0.5
             },
             "pattern": {
              "fillmode": "overlay",
              "size": 10,
              "solidity": 0.2
             }
            },
            "type": "bar"
           }
          ],
          "barpolar": [
           {
            "marker": {
             "line": {
              "color": "white",
              "width": 0.5
             },
             "pattern": {
              "fillmode": "overlay",
              "size": 10,
              "solidity": 0.2
             }
            },
            "type": "barpolar"
           }
          ],
          "carpet": [
           {
            "aaxis": {
             "endlinecolor": "#2a3f5f",
             "gridcolor": "#C8D4E3",
             "linecolor": "#C8D4E3",
             "minorgridcolor": "#C8D4E3",
             "startlinecolor": "#2a3f5f"
            },
            "baxis": {
             "endlinecolor": "#2a3f5f",
             "gridcolor": "#C8D4E3",
             "linecolor": "#C8D4E3",
             "minorgridcolor": "#C8D4E3",
             "startlinecolor": "#2a3f5f"
            },
            "type": "carpet"
           }
          ],
          "choropleth": [
           {
            "colorbar": {
             "outlinewidth": 0,
             "ticks": ""
            },
            "type": "choropleth"
           }
          ],
          "contour": [
           {
            "colorbar": {
             "outlinewidth": 0,
             "ticks": ""
            },
            "colorscale": [
             [
              0,
              "#0d0887"
             ],
             [
              0.1111111111111111,
              "#46039f"
             ],
             [
              0.2222222222222222,
              "#7201a8"
             ],
             [
              0.3333333333333333,
              "#9c179e"
             ],
             [
              0.4444444444444444,
              "#bd3786"
             ],
             [
              0.5555555555555556,
              "#d8576b"
             ],
             [
              0.6666666666666666,
              "#ed7953"
             ],
             [
              0.7777777777777778,
              "#fb9f3a"
             ],
             [
              0.8888888888888888,
              "#fdca26"
             ],
             [
              1,
              "#f0f921"
             ]
            ],
            "type": "contour"
           }
          ],
          "contourcarpet": [
           {
            "colorbar": {
             "outlinewidth": 0,
             "ticks": ""
            },
            "type": "contourcarpet"
           }
          ],
          "heatmap": [
           {
            "colorbar": {
             "outlinewidth": 0,
             "ticks": ""
            },
            "colorscale": [
             [
              0,
              "#0d0887"
             ],
             [
              0.1111111111111111,
              "#46039f"
             ],
             [
              0.2222222222222222,
              "#7201a8"
             ],
             [
              0.3333333333333333,
              "#9c179e"
             ],
             [
              0.4444444444444444,
              "#bd3786"
             ],
             [
              0.5555555555555556,
              "#d8576b"
             ],
             [
              0.6666666666666666,
              "#ed7953"
             ],
             [
              0.7777777777777778,
              "#fb9f3a"
             ],
             [
              0.8888888888888888,
              "#fdca26"
             ],
             [
              1,
              "#f0f921"
             ]
            ],
            "type": "heatmap"
           }
          ],
          "heatmapgl": [
           {
            "colorbar": {
             "outlinewidth": 0,
             "ticks": ""
            },
            "colorscale": [
             [
              0,
              "#0d0887"
             ],
             [
              0.1111111111111111,
              "#46039f"
             ],
             [
              0.2222222222222222,
              "#7201a8"
             ],
             [
              0.3333333333333333,
              "#9c179e"
             ],
             [
              0.4444444444444444,
              "#bd3786"
             ],
             [
              0.5555555555555556,
              "#d8576b"
             ],
             [
              0.6666666666666666,
              "#ed7953"
             ],
             [
              0.7777777777777778,
              "#fb9f3a"
             ],
             [
              0.8888888888888888,
              "#fdca26"
             ],
             [
              1,
              "#f0f921"
             ]
            ],
            "type": "heatmapgl"
           }
          ],
          "histogram": [
           {
            "marker": {
             "pattern": {
              "fillmode": "overlay",
              "size": 10,
              "solidity": 0.2
             }
            },
            "type": "histogram"
           }
          ],
          "histogram2d": [
           {
            "colorbar": {
             "outlinewidth": 0,
             "ticks": ""
            },
            "colorscale": [
             [
              0,
              "#0d0887"
             ],
             [
              0.1111111111111111,
              "#46039f"
             ],
             [
              0.2222222222222222,
              "#7201a8"
             ],
             [
              0.3333333333333333,
              "#9c179e"
             ],
             [
              0.4444444444444444,
              "#bd3786"
             ],
             [
              0.5555555555555556,
              "#d8576b"
             ],
             [
              0.6666666666666666,
              "#ed7953"
             ],
             [
              0.7777777777777778,
              "#fb9f3a"
             ],
             [
              0.8888888888888888,
              "#fdca26"
             ],
             [
              1,
              "#f0f921"
             ]
            ],
            "type": "histogram2d"
           }
          ],
          "histogram2dcontour": [
           {
            "colorbar": {
             "outlinewidth": 0,
             "ticks": ""
            },
            "colorscale": [
             [
              0,
              "#0d0887"
             ],
             [
              0.1111111111111111,
              "#46039f"
             ],
             [
              0.2222222222222222,
              "#7201a8"
             ],
             [
              0.3333333333333333,
              "#9c179e"
             ],
             [
              0.4444444444444444,
              "#bd3786"
             ],
             [
              0.5555555555555556,
              "#d8576b"
             ],
             [
              0.6666666666666666,
              "#ed7953"
             ],
             [
              0.7777777777777778,
              "#fb9f3a"
             ],
             [
              0.8888888888888888,
              "#fdca26"
             ],
             [
              1,
              "#f0f921"
             ]
            ],
            "type": "histogram2dcontour"
           }
          ],
          "mesh3d": [
           {
            "colorbar": {
             "outlinewidth": 0,
             "ticks": ""
            },
            "type": "mesh3d"
           }
          ],
          "parcoords": [
           {
            "line": {
             "colorbar": {
              "outlinewidth": 0,
              "ticks": ""
             }
            },
            "type": "parcoords"
           }
          ],
          "pie": [
           {
            "automargin": true,
            "type": "pie"
           }
          ],
          "scatter": [
           {
            "fillpattern": {
             "fillmode": "overlay",
             "size": 10,
             "solidity": 0.2
            },
            "type": "scatter"
           }
          ],
          "scatter3d": [
           {
            "line": {
             "colorbar": {
              "outlinewidth": 0,
              "ticks": ""
             }
            },
            "marker": {
             "colorbar": {
              "outlinewidth": 0,
              "ticks": ""
             }
            },
            "type": "scatter3d"
           }
          ],
          "scattercarpet": [
           {
            "marker": {
             "colorbar": {
              "outlinewidth": 0,
              "ticks": ""
             }
            },
            "type": "scattercarpet"
           }
          ],
          "scattergeo": [
           {
            "marker": {
             "colorbar": {
              "outlinewidth": 0,
              "ticks": ""
             }
            },
            "type": "scattergeo"
           }
          ],
          "scattergl": [
           {
            "marker": {
             "colorbar": {
              "outlinewidth": 0,
              "ticks": ""
             }
            },
            "type": "scattergl"
           }
          ],
          "scattermapbox": [
           {
            "marker": {
             "colorbar": {
              "outlinewidth": 0,
              "ticks": ""
             }
            },
            "type": "scattermapbox"
           }
          ],
          "scatterpolar": [
           {
            "marker": {
             "colorbar": {
              "outlinewidth": 0,
              "ticks": ""
             }
            },
            "type": "scatterpolar"
           }
          ],
          "scatterpolargl": [
           {
            "marker": {
             "colorbar": {
              "outlinewidth": 0,
              "ticks": ""
             }
            },
            "type": "scatterpolargl"
           }
          ],
          "scatterternary": [
           {
            "marker": {
             "colorbar": {
              "outlinewidth": 0,
              "ticks": ""
             }
            },
            "type": "scatterternary"
           }
          ],
          "surface": [
           {
            "colorbar": {
             "outlinewidth": 0,
             "ticks": ""
            },
            "colorscale": [
             [
              0,
              "#0d0887"
             ],
             [
              0.1111111111111111,
              "#46039f"
             ],
             [
              0.2222222222222222,
              "#7201a8"
             ],
             [
              0.3333333333333333,
              "#9c179e"
             ],
             [
              0.4444444444444444,
              "#bd3786"
             ],
             [
              0.5555555555555556,
              "#d8576b"
             ],
             [
              0.6666666666666666,
              "#ed7953"
             ],
             [
              0.7777777777777778,
              "#fb9f3a"
             ],
             [
              0.8888888888888888,
              "#fdca26"
             ],
             [
              1,
              "#f0f921"
             ]
            ],
            "type": "surface"
           }
          ],
          "table": [
           {
            "cells": {
             "fill": {
              "color": "#EBF0F8"
             },
             "line": {
              "color": "white"
             }
            },
            "header": {
             "fill": {
              "color": "#C8D4E3"
             },
             "line": {
              "color": "white"
             }
            },
            "type": "table"
           }
          ]
         },
         "layout": {
          "annotationdefaults": {
           "arrowcolor": "#2a3f5f",
           "arrowhead": 0,
           "arrowwidth": 1
          },
          "autotypenumbers": "strict",
          "coloraxis": {
           "colorbar": {
            "outlinewidth": 0,
            "ticks": ""
           }
          },
          "colorscale": {
           "diverging": [
            [
             0,
             "#8e0152"
            ],
            [
             0.1,
             "#c51b7d"
            ],
            [
             0.2,
             "#de77ae"
            ],
            [
             0.3,
             "#f1b6da"
            ],
            [
             0.4,
             "#fde0ef"
            ],
            [
             0.5,
             "#f7f7f7"
            ],
            [
             0.6,
             "#e6f5d0"
            ],
            [
             0.7,
             "#b8e186"
            ],
            [
             0.8,
             "#7fbc41"
            ],
            [
             0.9,
             "#4d9221"
            ],
            [
             1,
             "#276419"
            ]
           ],
           "sequential": [
            [
             0,
             "#0d0887"
            ],
            [
             0.1111111111111111,
             "#46039f"
            ],
            [
             0.2222222222222222,
             "#7201a8"
            ],
            [
             0.3333333333333333,
             "#9c179e"
            ],
            [
             0.4444444444444444,
             "#bd3786"
            ],
            [
             0.5555555555555556,
             "#d8576b"
            ],
            [
             0.6666666666666666,
             "#ed7953"
            ],
            [
             0.7777777777777778,
             "#fb9f3a"
            ],
            [
             0.8888888888888888,
             "#fdca26"
            ],
            [
             1,
             "#f0f921"
            ]
           ],
           "sequentialminus": [
            [
             0,
             "#0d0887"
            ],
            [
             0.1111111111111111,
             "#46039f"
            ],
            [
             0.2222222222222222,
             "#7201a8"
            ],
            [
             0.3333333333333333,
             "#9c179e"
            ],
            [
             0.4444444444444444,
             "#bd3786"
            ],
            [
             0.5555555555555556,
             "#d8576b"
            ],
            [
             0.6666666666666666,
             "#ed7953"
            ],
            [
             0.7777777777777778,
             "#fb9f3a"
            ],
            [
             0.8888888888888888,
             "#fdca26"
            ],
            [
             1,
             "#f0f921"
            ]
           ]
          },
          "colorway": [
           "#636efa",
           "#EF553B",
           "#00cc96",
           "#ab63fa",
           "#FFA15A",
           "#19d3f3",
           "#FF6692",
           "#B6E880",
           "#FF97FF",
           "#FECB52"
          ],
          "font": {
           "color": "#2a3f5f"
          },
          "geo": {
           "bgcolor": "white",
           "lakecolor": "white",
           "landcolor": "white",
           "showlakes": true,
           "showland": true,
           "subunitcolor": "#C8D4E3"
          },
          "hoverlabel": {
           "align": "left"
          },
          "hovermode": "closest",
          "mapbox": {
           "style": "light"
          },
          "paper_bgcolor": "white",
          "plot_bgcolor": "white",
          "polar": {
           "angularaxis": {
            "gridcolor": "#EBF0F8",
            "linecolor": "#EBF0F8",
            "ticks": ""
           },
           "bgcolor": "white",
           "radialaxis": {
            "gridcolor": "#EBF0F8",
            "linecolor": "#EBF0F8",
            "ticks": ""
           }
          },
          "scene": {
           "xaxis": {
            "backgroundcolor": "white",
            "gridcolor": "#DFE8F3",
            "gridwidth": 2,
            "linecolor": "#EBF0F8",
            "showbackground": true,
            "ticks": "",
            "zerolinecolor": "#EBF0F8"
           },
           "yaxis": {
            "backgroundcolor": "white",
            "gridcolor": "#DFE8F3",
            "gridwidth": 2,
            "linecolor": "#EBF0F8",
            "showbackground": true,
            "ticks": "",
            "zerolinecolor": "#EBF0F8"
           },
           "zaxis": {
            "backgroundcolor": "white",
            "gridcolor": "#DFE8F3",
            "gridwidth": 2,
            "linecolor": "#EBF0F8",
            "showbackground": true,
            "ticks": "",
            "zerolinecolor": "#EBF0F8"
           }
          },
          "shapedefaults": {
           "line": {
            "color": "#2a3f5f"
           }
          },
          "ternary": {
           "aaxis": {
            "gridcolor": "#DFE8F3",
            "linecolor": "#A2B1C6",
            "ticks": ""
           },
           "baxis": {
            "gridcolor": "#DFE8F3",
            "linecolor": "#A2B1C6",
            "ticks": ""
           },
           "bgcolor": "white",
           "caxis": {
            "gridcolor": "#DFE8F3",
            "linecolor": "#A2B1C6",
            "ticks": ""
           }
          },
          "title": {
           "x": 0.05
          },
          "xaxis": {
           "automargin": true,
           "gridcolor": "#EBF0F8",
           "linecolor": "#EBF0F8",
           "ticks": "",
           "title": {
            "standoff": 15
           },
           "zerolinecolor": "#EBF0F8",
           "zerolinewidth": 2
          },
          "yaxis": {
           "automargin": true,
           "gridcolor": "#EBF0F8",
           "linecolor": "#EBF0F8",
           "ticks": "",
           "title": {
            "standoff": 15
           },
           "zerolinecolor": "#EBF0F8",
           "zerolinewidth": 2
          }
         }
        },
        "title": {
         "text": "Distribución de la Alineación"
        },
        "xaxis": {
         "anchor": "y",
         "domain": [
          0,
          1
         ],
         "title": {
          "text": "Alineación"
         }
        },
        "yaxis": {
         "anchor": "x",
         "domain": [
          0,
          1
         ],
         "title": {
          "text": "count"
         }
        }
       }
      }
     },
     "metadata": {},
     "output_type": "display_data"
    }
   ],
   "source": [
    "fig_alineacion = px.histogram(df, x=\"alineacion\", nbins=20, title=\"Distribución de la Alineación\",\n",
    "                              labels={\"alineacion\": \"Alineación\"}, template=\"plotly_white\")\n",
    "fig_alineacion.show()"
   ]
  },
  {
   "cell_type": "markdown",
   "metadata": {},
   "source": [
    "La distribución de la alineación muestra una concentración clara en valores altos, entre **85 y 100**, que corresponden al nivel \"Ideal\". Sin embargo, hay una baja frecuencia de datos en rangos inferiores, especialmente por debajo de **75**, lo que indica que las condiciones de alineación \"Mala\" y \"Muy Mala\" son casos poco comunes. La distribución es **asimétrica negativa**, ya que la mayoría de los datos se agrupan hacia el extremo superior. La **curtosis** es leptocúrtica, ya que existe una alta concentración en un rango estrecho de valores altos."
   ]
  },
  {
   "cell_type": "code",
   "execution_count": 13,
   "metadata": {},
   "outputs": [
    {
     "data": {
      "application/vnd.plotly.v1+json": {
       "config": {
        "plotlyServerURL": "https://plot.ly"
       },
       "data": [
        {
         "alignmentgroup": "True",
         "bingroup": "x",
         "hovertemplate": "Estado del Equipo=%{x}<br>count=%{y}<extra></extra>",
         "legendgroup": "",
         "marker": {
          "color": "#636efa",
          "pattern": {
           "shape": ""
          }
         },
         "name": "",
         "nbinsx": 20,
         "offsetgroup": "",
         "orientation": "v",
         "showlegend": false,
         "type": "histogram",
         "x": [
          3,
          4,
          4,
          3,
          2,
          0,
          1,
          2,
          0,
          2,
          0,
          2,
          0,
          1,
          4,
          2,
          2,
          3,
          2,
          4,
          2,
          0,
          4,
          0,
          1,
          0,
          4,
          1,
          4,
          0,
          0,
          2,
          2,
          3,
          2,
          2,
          3,
          2,
          0,
          3,
          2,
          1,
          2,
          1,
          1,
          4,
          4,
          4,
          3,
          4,
          3,
          2,
          3,
          3,
          1,
          1,
          4,
          1,
          3,
          3,
          0,
          2,
          2,
          3,
          2,
          1,
          1,
          2,
          2,
          4,
          4,
          3,
          4,
          2,
          0,
          2,
          1,
          3,
          2,
          0,
          2,
          4,
          1,
          2,
          1,
          0,
          0,
          0,
          3,
          4,
          3,
          1,
          3,
          3,
          0,
          1,
          2,
          4,
          0,
          4,
          3,
          0,
          1,
          4,
          2,
          2,
          2,
          2,
          4,
          1,
          0,
          3,
          0,
          0,
          2,
          3,
          4,
          1,
          1,
          2,
          2,
          4,
          1,
          1,
          1,
          4,
          2,
          0,
          3,
          2,
          0,
          4,
          4,
          2,
          1,
          2,
          2,
          3,
          1,
          0,
          0,
          3,
          1,
          2,
          3,
          2,
          0,
          0,
          0,
          0,
          1,
          1,
          1,
          3,
          3,
          3,
          0,
          1,
          3,
          2,
          4,
          2,
          1,
          1,
          1,
          0,
          0,
          2,
          3,
          2,
          2,
          1,
          3,
          2,
          4,
          1,
          4,
          2,
          1,
          3,
          0,
          1,
          0,
          2,
          1,
          4,
          4,
          1,
          3,
          1,
          3,
          3,
          2,
          0,
          1,
          4,
          1,
          0,
          0,
          2,
          2,
          3,
          4,
          1,
          0,
          1,
          2,
          4,
          4,
          1,
          1,
          4,
          3,
          2,
          2,
          4,
          3,
          3,
          2,
          1,
          1,
          1,
          0,
          1,
          2,
          2,
          0,
          2,
          0,
          1,
          2,
          1,
          1,
          1,
          1,
          4,
          4,
          1,
          3,
          3,
          1,
          0,
          1,
          2,
          4,
          3,
          3,
          4,
          0,
          2,
          4,
          7,
          8,
          4,
          4,
          8,
          7,
          7,
          4,
          5,
          6,
          8,
          8,
          4,
          5,
          6,
          4,
          7,
          4,
          4,
          3,
          7,
          7,
          8,
          7,
          5,
          3,
          4,
          6,
          7,
          6,
          7,
          3,
          8,
          3,
          4,
          8,
          4,
          8,
          4,
          4,
          6,
          3,
          5,
          7,
          4,
          3,
          7,
          6,
          3,
          3,
          7,
          8,
          6,
          8,
          8,
          6,
          3,
          4,
          8,
          8,
          6,
          8,
          5,
          4,
          3,
          4,
          6,
          5,
          5,
          8,
          3,
          4,
          3,
          4,
          6,
          5,
          7,
          4,
          7,
          3,
          8,
          8,
          7,
          3,
          7,
          7,
          8,
          5,
          5,
          4,
          6,
          5,
          3,
          8,
          6,
          8,
          4,
          3,
          7,
          7,
          7,
          8,
          8,
          3,
          5,
          3,
          4,
          4,
          8,
          4,
          5,
          5,
          7,
          4,
          5,
          3,
          4,
          6,
          6,
          6,
          7,
          4,
          6,
          8,
          6,
          4,
          7,
          3,
          6,
          4,
          7,
          3,
          4,
          7,
          10,
          7,
          10,
          7,
          7,
          9,
          9,
          7,
          8,
          9,
          9,
          8,
          9,
          7,
          8,
          8,
          10,
          9,
          7,
          9,
          7,
          8,
          8,
          7,
          8,
          10,
          10,
          8,
          10,
          10,
          8,
          9,
          8,
          9,
          7,
          10,
          8,
          9,
          7,
          9,
          7,
          8,
          7,
          8,
          9,
          7,
          9,
          9,
          8,
          7,
          10,
          9,
          10,
          8,
          8,
          10,
          9,
          7,
          7,
          8,
          7,
          9,
          9,
          8,
          10,
          7,
          10,
          9,
          9,
          8,
          9,
          9,
          8,
          8,
          7,
          9,
          10,
          8,
          10,
          10,
          9,
          10,
          10,
          9,
          8,
          10,
          10,
          10,
          8,
          8
         ],
         "xaxis": "x",
         "yaxis": "y"
        }
       ],
       "layout": {
        "barmode": "relative",
        "legend": {
         "tracegroupgap": 0
        },
        "template": {
         "data": {
          "bar": [
           {
            "error_x": {
             "color": "#2a3f5f"
            },
            "error_y": {
             "color": "#2a3f5f"
            },
            "marker": {
             "line": {
              "color": "white",
              "width": 0.5
             },
             "pattern": {
              "fillmode": "overlay",
              "size": 10,
              "solidity": 0.2
             }
            },
            "type": "bar"
           }
          ],
          "barpolar": [
           {
            "marker": {
             "line": {
              "color": "white",
              "width": 0.5
             },
             "pattern": {
              "fillmode": "overlay",
              "size": 10,
              "solidity": 0.2
             }
            },
            "type": "barpolar"
           }
          ],
          "carpet": [
           {
            "aaxis": {
             "endlinecolor": "#2a3f5f",
             "gridcolor": "#C8D4E3",
             "linecolor": "#C8D4E3",
             "minorgridcolor": "#C8D4E3",
             "startlinecolor": "#2a3f5f"
            },
            "baxis": {
             "endlinecolor": "#2a3f5f",
             "gridcolor": "#C8D4E3",
             "linecolor": "#C8D4E3",
             "minorgridcolor": "#C8D4E3",
             "startlinecolor": "#2a3f5f"
            },
            "type": "carpet"
           }
          ],
          "choropleth": [
           {
            "colorbar": {
             "outlinewidth": 0,
             "ticks": ""
            },
            "type": "choropleth"
           }
          ],
          "contour": [
           {
            "colorbar": {
             "outlinewidth": 0,
             "ticks": ""
            },
            "colorscale": [
             [
              0,
              "#0d0887"
             ],
             [
              0.1111111111111111,
              "#46039f"
             ],
             [
              0.2222222222222222,
              "#7201a8"
             ],
             [
              0.3333333333333333,
              "#9c179e"
             ],
             [
              0.4444444444444444,
              "#bd3786"
             ],
             [
              0.5555555555555556,
              "#d8576b"
             ],
             [
              0.6666666666666666,
              "#ed7953"
             ],
             [
              0.7777777777777778,
              "#fb9f3a"
             ],
             [
              0.8888888888888888,
              "#fdca26"
             ],
             [
              1,
              "#f0f921"
             ]
            ],
            "type": "contour"
           }
          ],
          "contourcarpet": [
           {
            "colorbar": {
             "outlinewidth": 0,
             "ticks": ""
            },
            "type": "contourcarpet"
           }
          ],
          "heatmap": [
           {
            "colorbar": {
             "outlinewidth": 0,
             "ticks": ""
            },
            "colorscale": [
             [
              0,
              "#0d0887"
             ],
             [
              0.1111111111111111,
              "#46039f"
             ],
             [
              0.2222222222222222,
              "#7201a8"
             ],
             [
              0.3333333333333333,
              "#9c179e"
             ],
             [
              0.4444444444444444,
              "#bd3786"
             ],
             [
              0.5555555555555556,
              "#d8576b"
             ],
             [
              0.6666666666666666,
              "#ed7953"
             ],
             [
              0.7777777777777778,
              "#fb9f3a"
             ],
             [
              0.8888888888888888,
              "#fdca26"
             ],
             [
              1,
              "#f0f921"
             ]
            ],
            "type": "heatmap"
           }
          ],
          "heatmapgl": [
           {
            "colorbar": {
             "outlinewidth": 0,
             "ticks": ""
            },
            "colorscale": [
             [
              0,
              "#0d0887"
             ],
             [
              0.1111111111111111,
              "#46039f"
             ],
             [
              0.2222222222222222,
              "#7201a8"
             ],
             [
              0.3333333333333333,
              "#9c179e"
             ],
             [
              0.4444444444444444,
              "#bd3786"
             ],
             [
              0.5555555555555556,
              "#d8576b"
             ],
             [
              0.6666666666666666,
              "#ed7953"
             ],
             [
              0.7777777777777778,
              "#fb9f3a"
             ],
             [
              0.8888888888888888,
              "#fdca26"
             ],
             [
              1,
              "#f0f921"
             ]
            ],
            "type": "heatmapgl"
           }
          ],
          "histogram": [
           {
            "marker": {
             "pattern": {
              "fillmode": "overlay",
              "size": 10,
              "solidity": 0.2
             }
            },
            "type": "histogram"
           }
          ],
          "histogram2d": [
           {
            "colorbar": {
             "outlinewidth": 0,
             "ticks": ""
            },
            "colorscale": [
             [
              0,
              "#0d0887"
             ],
             [
              0.1111111111111111,
              "#46039f"
             ],
             [
              0.2222222222222222,
              "#7201a8"
             ],
             [
              0.3333333333333333,
              "#9c179e"
             ],
             [
              0.4444444444444444,
              "#bd3786"
             ],
             [
              0.5555555555555556,
              "#d8576b"
             ],
             [
              0.6666666666666666,
              "#ed7953"
             ],
             [
              0.7777777777777778,
              "#fb9f3a"
             ],
             [
              0.8888888888888888,
              "#fdca26"
             ],
             [
              1,
              "#f0f921"
             ]
            ],
            "type": "histogram2d"
           }
          ],
          "histogram2dcontour": [
           {
            "colorbar": {
             "outlinewidth": 0,
             "ticks": ""
            },
            "colorscale": [
             [
              0,
              "#0d0887"
             ],
             [
              0.1111111111111111,
              "#46039f"
             ],
             [
              0.2222222222222222,
              "#7201a8"
             ],
             [
              0.3333333333333333,
              "#9c179e"
             ],
             [
              0.4444444444444444,
              "#bd3786"
             ],
             [
              0.5555555555555556,
              "#d8576b"
             ],
             [
              0.6666666666666666,
              "#ed7953"
             ],
             [
              0.7777777777777778,
              "#fb9f3a"
             ],
             [
              0.8888888888888888,
              "#fdca26"
             ],
             [
              1,
              "#f0f921"
             ]
            ],
            "type": "histogram2dcontour"
           }
          ],
          "mesh3d": [
           {
            "colorbar": {
             "outlinewidth": 0,
             "ticks": ""
            },
            "type": "mesh3d"
           }
          ],
          "parcoords": [
           {
            "line": {
             "colorbar": {
              "outlinewidth": 0,
              "ticks": ""
             }
            },
            "type": "parcoords"
           }
          ],
          "pie": [
           {
            "automargin": true,
            "type": "pie"
           }
          ],
          "scatter": [
           {
            "fillpattern": {
             "fillmode": "overlay",
             "size": 10,
             "solidity": 0.2
            },
            "type": "scatter"
           }
          ],
          "scatter3d": [
           {
            "line": {
             "colorbar": {
              "outlinewidth": 0,
              "ticks": ""
             }
            },
            "marker": {
             "colorbar": {
              "outlinewidth": 0,
              "ticks": ""
             }
            },
            "type": "scatter3d"
           }
          ],
          "scattercarpet": [
           {
            "marker": {
             "colorbar": {
              "outlinewidth": 0,
              "ticks": ""
             }
            },
            "type": "scattercarpet"
           }
          ],
          "scattergeo": [
           {
            "marker": {
             "colorbar": {
              "outlinewidth": 0,
              "ticks": ""
             }
            },
            "type": "scattergeo"
           }
          ],
          "scattergl": [
           {
            "marker": {
             "colorbar": {
              "outlinewidth": 0,
              "ticks": ""
             }
            },
            "type": "scattergl"
           }
          ],
          "scattermapbox": [
           {
            "marker": {
             "colorbar": {
              "outlinewidth": 0,
              "ticks": ""
             }
            },
            "type": "scattermapbox"
           }
          ],
          "scatterpolar": [
           {
            "marker": {
             "colorbar": {
              "outlinewidth": 0,
              "ticks": ""
             }
            },
            "type": "scatterpolar"
           }
          ],
          "scatterpolargl": [
           {
            "marker": {
             "colorbar": {
              "outlinewidth": 0,
              "ticks": ""
             }
            },
            "type": "scatterpolargl"
           }
          ],
          "scatterternary": [
           {
            "marker": {
             "colorbar": {
              "outlinewidth": 0,
              "ticks": ""
             }
            },
            "type": "scatterternary"
           }
          ],
          "surface": [
           {
            "colorbar": {
             "outlinewidth": 0,
             "ticks": ""
            },
            "colorscale": [
             [
              0,
              "#0d0887"
             ],
             [
              0.1111111111111111,
              "#46039f"
             ],
             [
              0.2222222222222222,
              "#7201a8"
             ],
             [
              0.3333333333333333,
              "#9c179e"
             ],
             [
              0.4444444444444444,
              "#bd3786"
             ],
             [
              0.5555555555555556,
              "#d8576b"
             ],
             [
              0.6666666666666666,
              "#ed7953"
             ],
             [
              0.7777777777777778,
              "#fb9f3a"
             ],
             [
              0.8888888888888888,
              "#fdca26"
             ],
             [
              1,
              "#f0f921"
             ]
            ],
            "type": "surface"
           }
          ],
          "table": [
           {
            "cells": {
             "fill": {
              "color": "#EBF0F8"
             },
             "line": {
              "color": "white"
             }
            },
            "header": {
             "fill": {
              "color": "#C8D4E3"
             },
             "line": {
              "color": "white"
             }
            },
            "type": "table"
           }
          ]
         },
         "layout": {
          "annotationdefaults": {
           "arrowcolor": "#2a3f5f",
           "arrowhead": 0,
           "arrowwidth": 1
          },
          "autotypenumbers": "strict",
          "coloraxis": {
           "colorbar": {
            "outlinewidth": 0,
            "ticks": ""
           }
          },
          "colorscale": {
           "diverging": [
            [
             0,
             "#8e0152"
            ],
            [
             0.1,
             "#c51b7d"
            ],
            [
             0.2,
             "#de77ae"
            ],
            [
             0.3,
             "#f1b6da"
            ],
            [
             0.4,
             "#fde0ef"
            ],
            [
             0.5,
             "#f7f7f7"
            ],
            [
             0.6,
             "#e6f5d0"
            ],
            [
             0.7,
             "#b8e186"
            ],
            [
             0.8,
             "#7fbc41"
            ],
            [
             0.9,
             "#4d9221"
            ],
            [
             1,
             "#276419"
            ]
           ],
           "sequential": [
            [
             0,
             "#0d0887"
            ],
            [
             0.1111111111111111,
             "#46039f"
            ],
            [
             0.2222222222222222,
             "#7201a8"
            ],
            [
             0.3333333333333333,
             "#9c179e"
            ],
            [
             0.4444444444444444,
             "#bd3786"
            ],
            [
             0.5555555555555556,
             "#d8576b"
            ],
            [
             0.6666666666666666,
             "#ed7953"
            ],
            [
             0.7777777777777778,
             "#fb9f3a"
            ],
            [
             0.8888888888888888,
             "#fdca26"
            ],
            [
             1,
             "#f0f921"
            ]
           ],
           "sequentialminus": [
            [
             0,
             "#0d0887"
            ],
            [
             0.1111111111111111,
             "#46039f"
            ],
            [
             0.2222222222222222,
             "#7201a8"
            ],
            [
             0.3333333333333333,
             "#9c179e"
            ],
            [
             0.4444444444444444,
             "#bd3786"
            ],
            [
             0.5555555555555556,
             "#d8576b"
            ],
            [
             0.6666666666666666,
             "#ed7953"
            ],
            [
             0.7777777777777778,
             "#fb9f3a"
            ],
            [
             0.8888888888888888,
             "#fdca26"
            ],
            [
             1,
             "#f0f921"
            ]
           ]
          },
          "colorway": [
           "#636efa",
           "#EF553B",
           "#00cc96",
           "#ab63fa",
           "#FFA15A",
           "#19d3f3",
           "#FF6692",
           "#B6E880",
           "#FF97FF",
           "#FECB52"
          ],
          "font": {
           "color": "#2a3f5f"
          },
          "geo": {
           "bgcolor": "white",
           "lakecolor": "white",
           "landcolor": "white",
           "showlakes": true,
           "showland": true,
           "subunitcolor": "#C8D4E3"
          },
          "hoverlabel": {
           "align": "left"
          },
          "hovermode": "closest",
          "mapbox": {
           "style": "light"
          },
          "paper_bgcolor": "white",
          "plot_bgcolor": "white",
          "polar": {
           "angularaxis": {
            "gridcolor": "#EBF0F8",
            "linecolor": "#EBF0F8",
            "ticks": ""
           },
           "bgcolor": "white",
           "radialaxis": {
            "gridcolor": "#EBF0F8",
            "linecolor": "#EBF0F8",
            "ticks": ""
           }
          },
          "scene": {
           "xaxis": {
            "backgroundcolor": "white",
            "gridcolor": "#DFE8F3",
            "gridwidth": 2,
            "linecolor": "#EBF0F8",
            "showbackground": true,
            "ticks": "",
            "zerolinecolor": "#EBF0F8"
           },
           "yaxis": {
            "backgroundcolor": "white",
            "gridcolor": "#DFE8F3",
            "gridwidth": 2,
            "linecolor": "#EBF0F8",
            "showbackground": true,
            "ticks": "",
            "zerolinecolor": "#EBF0F8"
           },
           "zaxis": {
            "backgroundcolor": "white",
            "gridcolor": "#DFE8F3",
            "gridwidth": 2,
            "linecolor": "#EBF0F8",
            "showbackground": true,
            "ticks": "",
            "zerolinecolor": "#EBF0F8"
           }
          },
          "shapedefaults": {
           "line": {
            "color": "#2a3f5f"
           }
          },
          "ternary": {
           "aaxis": {
            "gridcolor": "#DFE8F3",
            "linecolor": "#A2B1C6",
            "ticks": ""
           },
           "baxis": {
            "gridcolor": "#DFE8F3",
            "linecolor": "#A2B1C6",
            "ticks": ""
           },
           "bgcolor": "white",
           "caxis": {
            "gridcolor": "#DFE8F3",
            "linecolor": "#A2B1C6",
            "ticks": ""
           }
          },
          "title": {
           "x": 0.05
          },
          "xaxis": {
           "automargin": true,
           "gridcolor": "#EBF0F8",
           "linecolor": "#EBF0F8",
           "ticks": "",
           "title": {
            "standoff": 15
           },
           "zerolinecolor": "#EBF0F8",
           "zerolinewidth": 2
          },
          "yaxis": {
           "automargin": true,
           "gridcolor": "#EBF0F8",
           "linecolor": "#EBF0F8",
           "ticks": "",
           "title": {
            "standoff": 15
           },
           "zerolinecolor": "#EBF0F8",
           "zerolinewidth": 2
          }
         }
        },
        "title": {
         "text": "Distribución del Estado del Equipo"
        },
        "xaxis": {
         "anchor": "y",
         "domain": [
          0,
          1
         ],
         "title": {
          "text": "Estado del Equipo"
         }
        },
        "yaxis": {
         "anchor": "x",
         "domain": [
          0,
          1
         ],
         "title": {
          "text": "count"
         }
        }
       }
      }
     },
     "metadata": {},
     "output_type": "display_data"
    }
   ],
   "source": [
    "fig_estado = px.histogram(df, x=\"estado\", nbins=20, title=\"Distribución del Estado del Equipo\",\n",
    "                          labels={\"estado\": \"Estado del Equipo\"}, template=\"plotly_white\")\n",
    "fig_estado.show()"
   ]
  },
  {
   "cell_type": "markdown",
   "metadata": {},
   "source": [
    "La distribución del estado del equipo muestra una tendencia **bimodal**, con una alta concentración en valores bajos (estado \"Normal\") y otra en valores altos (estado \"Crítico\"), mientras que los valores intermedios (estado \"Alerta\") son menos frecuentes. Esto indica que los equipos tienden a operar en condiciones óptimas o, en casos significativos, en condiciones críticas, con pocas transiciones en los estados de advertencia. Este comportamiento resalta la importancia de reglas difusas bien definidas para anticipar cambios hacia estados críticos y priorizar las acciones de mantenimiento."
   ]
  },
  {
   "cell_type": "code",
   "execution_count": 14,
   "metadata": {},
   "outputs": [
    {
     "data": {
      "image/png": "[encoded data removed]",
      "text/plain": [
       "<Figure size 1000x600 with 2 Axes>"
      ]
     },
     "metadata": {},
     "output_type": "display_data"
    }
   ],
   "source": [
    "correlation_matrix = df.corr()\n",
    "\n",
    "plt.figure(figsize=(10, 6))\n",
    "sns.heatmap(correlation_matrix, annot=True, cmap='coolwarm', fmt=\".2f\", linewidths=0.5)\n",
    "plt.title(\"Matriz de Correlación entre Variables\")\n",
    "plt.show()"
   ]
  },
  {
   "cell_type": "markdown",
   "metadata": {},
   "source": [
    "1. **Correlaciones Positivas Fuertes:**\n",
    "   - **Presión y Amperaje (0.79):** Existe una fuerte relación positiva entre estas variables, lo que indica que a medida que aumenta la presión, también lo hace el amperaje. Esto puede deberse a una mayor carga de trabajo del equipo.\n",
    "   - **Estado y Amperaje (0.78):** El estado del equipo tiende a deteriorarse a medida que aumenta el amperaje, lo que lo convierte en un indicador clave para el análisis de fallas.\n",
    "   - **Presión y Temperatura (0.76):** La presión y la temperatura están fuertemente relacionadas, lo cual es consistente con condiciones operativas intensas.\n",
    "\n",
    "2. **Correlaciones Negativas Fuertes:**\n",
    "   - **Alineación y Estado (-0.71):** Existe una relación inversa significativa entre la alineación y el estado, lo que indica que una mala alineación está directamente asociada a un peor estado del equipo.\n",
    "   - **Alineación y Amperaje (-0.75):** Una mala alineación se asocia a un mayor amperaje, probablemente debido a la fricción o desbalanceo, lo que aumenta el esfuerzo del sistema.\n",
    "\n",
    "\n",
    "- **Indicadores Clave:**  La alineación es un un factor críticos para mantener el estado del equipo en condiciones óptimas, ya que su correlacion negativas sugieren que afectan directamente la operación y desempeño.\n",
    "\n",
    "- **Priorización:** El enfoque debe estar en controlar alineación (sobre todo), así como las demas variables que igualmente tienen un valor alto de correlación, es decir que son fundamentales para controlar las condiciones críticas y prolongar la vida útil del equipo."
   ]
  },
  {
   "cell_type": "markdown",
   "metadata": {},
   "source": [
    "## ***Definición de funciones de petenencia***"
   ]
  },
  {
   "cell_type": "markdown",
   "metadata": {},
   "source": [
    "### ***Presión***"
   ]
  },
  {
   "cell_type": "code",
   "execution_count": 15,
   "metadata": {},
   "outputs": [
    {
     "name": "stderr",
     "output_type": "stream",
     "text": [
      "/Users/sergiosilveramurcia/Conda/miniconda3/envs/TimesSeries/lib/python3.9/site-packages/skfuzzy/control/fuzzyvariable.py:125: UserWarning:\n",
      "\n",
      "Matplotlib is currently using module://matplotlib_inline.backend_inline, which is a non-GUI backend, so cannot show the figure.\n",
      "\n"
     ]
    },
    {
     "data": {
      "image/png": "[encoded data removed]",
      "text/plain": [
       "<Figure size 640x480 with 1 Axes>"
      ]
     },
     "metadata": {},
     "output_type": "display_data"
    }
   ],
   "source": [
    "# Definir la variable difusa para Presión\n",
    "presion = ctrl.Antecedent(np.arange(9, 16, 0.1), 'presion')\n",
    "\n",
    "presion['normal'] = fuzz.trapmf(presion.universe, [9, 9, 10.5, 11])\n",
    "presion['alta'] = fuzz.trapmf(presion.universe, [10, 11, 12, 13])\n",
    "presion['muy_alta'] = fuzz.trapmf(presion.universe, [12.5, 13.5, 15, 15]) \n",
    "\n",
    "# Visualizar las funciones de pertenencia\n",
    "presion.view(title=\"Funciones de Pertenencia para Presión\")\n",
    "plt.show()\n"
   ]
  },
  {
   "cell_type": "markdown",
   "metadata": {},
   "source": [
    "$$\n",
    "\\mu_{\\text{Normal}}(x) =\n",
    "\\begin{cases} \n",
    "0, & x < 9 \\\\\n",
    "\\frac{x - 9}{1}, & 9 \\leq x \\leq 10 \\\\\n",
    "1, & 10 \\leq x \\leq 11 \\\\\n",
    "\\frac{11 - x}{1}, & 11 \\leq x \\leq 12 \\\\\n",
    "0, & x > 12\n",
    "\\end{cases}\n",
    "$$\n"
   ]
  },
  {
   "cell_type": "markdown",
   "metadata": {},
   "source": [
    "$$\n",
    "\\mu_{\\text{Alta}}(x) =\n",
    "\\begin{cases} \n",
    "0, & x < 10 \\\\\n",
    "\\frac{x - 10}{1}, & 10 \\leq x \\leq 11 \\\\\n",
    "1, & 11 \\leq x \\leq 12 \\\\\n",
    "\\frac{13 - x}{1}, & 12 \\leq x \\leq 13 \\\\\n",
    "0, & x > 13\n",
    "\\end{cases}\n",
    "$$\n"
   ]
  },
  {
   "cell_type": "markdown",
   "metadata": {},
   "source": [
    "$$\n",
    "\\mu_{\\text{Muy Alta}}(x) =\n",
    "\\begin{cases} \n",
    "0, & x < 12 \\\\\n",
    "\\frac{x - 12}{1}, & 12 \\leq x \\leq 13 \\\\\n",
    "1, & 13 \\leq x \\leq 15 \\\\\n",
    "0, & x > 15\n",
    "\\end{cases}\n",
    "$$\n"
   ]
  },
  {
   "cell_type": "markdown",
   "metadata": {},
   "source": [
    "***Justificación:***\n",
    "1. **Trapezoidal:**\n",
    "   - Se selecciona una función trapezoidal porque los límites del rango son claros y queremos una representación estable dentro del rango central."
   ]
  },
  {
   "cell_type": "markdown",
   "metadata": {},
   "source": [
    "### ***Amperaje***"
   ]
  },
  {
   "cell_type": "code",
   "execution_count": 16,
   "metadata": {},
   "outputs": [
    {
     "data": {
      "image/png": "[encoded data removed]",
      "text/plain": [
       "<Figure size 640x480 with 1 Axes>"
      ]
     },
     "metadata": {},
     "output_type": "display_data"
    }
   ],
   "source": [
    "# Definir la variable difusa para Amperaje\n",
    "amperaje = ctrl.Antecedent(np.arange(15, 29, 0.1), 'amperaje')\n",
    "\n",
    "# Definir las funciones de pertenencia (todas triangulares)\n",
    "amperaje['normal'] = fuzz.trimf(amperaje.universe, [15, 17.5, 20])    # Triangular para rango bajo\n",
    "amperaje['alto'] = fuzz.trimf(amperaje.universe, [18, 21.5, 25])      # Triangular para transición\n",
    "amperaje['muy_alto'] = fuzz.trimf(amperaje.universe, [24, 26, 28])    # Triangular para rango alto\n",
    "\n",
    "# Visualizar las funciones de pertenencia\n",
    "amperaje.view(title=\"Funciones de Pertenencia para Amperaje\")\n",
    "plt.show()\n"
   ]
  },
  {
   "cell_type": "markdown",
   "metadata": {},
   "source": [
    "$$\n",
    "\\mu_{\\text{Normal}}(x) =\n",
    "\\begin{cases} \n",
    "0 & \\text{si } x \\leq 15 \\text{ o } x \\geq 20 \\\\\n",
    "\\frac{x - 15}{2.5} & \\text{si } 15 < x \\leq 17.5 \\\\\n",
    "\\frac{20 - x}{2.5} & \\text{si } 17.5 < x < 20\n",
    "\\end{cases}\n",
    "$$\n"
   ]
  },
  {
   "cell_type": "markdown",
   "metadata": {},
   "source": [
    "$$\n",
    "\\mu_{\\text{Alto}}(x) =\n",
    "\\begin{cases} \n",
    "0 & \\text{si } x \\leq 18 \\text{ o } x \\geq 25 \\\\\n",
    "\\frac{x - 18}{3.5} & \\text{si } 18 < x \\leq 21.5 \\\\\n",
    "\\frac{25 - x}{3.5} & \\text{si } 21.5 < x < 25\n",
    "\\end{cases}\n",
    "$$\n"
   ]
  },
  {
   "cell_type": "markdown",
   "metadata": {},
   "source": [
    "$$\n",
    "\\mu_{\\text{Muy Alto}}(x) =\n",
    "\\begin{cases} \n",
    "0 & \\text{si } x \\leq 24 \\text{ o } x \\geq 28 \\\\\n",
    "\\frac{x - 24}{2} & \\text{si } 24 < x \\leq 26 \\\\\n",
    "\\frac{28 - x}{2} & \\text{si } 26 < x < 28\n",
    "\\end{cases}\n",
    "$$\n"
   ]
  },
  {
   "cell_type": "markdown",
   "metadata": {},
   "source": [
    "### ***Vibraciones***"
   ]
  },
  {
   "cell_type": "code",
   "execution_count": 17,
   "metadata": {},
   "outputs": [
    {
     "data": {
      "image/png": "[encoded data removed]",
      "text/plain": [
       "<Figure size 640x480 with 1 Axes>"
      ]
     },
     "metadata": {},
     "output_type": "display_data"
    }
   ],
   "source": [
    "# Definir la variable difusa para Vibraciones\n",
    "vibraciones = ctrl.Antecedent(np.arange(0.1, 0.6, 0.01), 'vibraciones')\n",
    "\n",
    "# Definir las funciones de pertenencia (gaussianas)\n",
    "vibraciones['normales'] = fuzz.gaussmf(vibraciones.universe, mean=0.2, sigma=0.05)   # Gaussiana centrada en 0.2\n",
    "vibraciones['altas'] = fuzz.gaussmf(vibraciones.universe, mean=0.35, sigma=0.05)     # Gaussiana centrada en 0.35\n",
    "vibraciones['muy_altas'] = fuzz.gaussmf(vibraciones.universe, mean=0.45, sigma=0.05) # Gaussiana centrada en 0.45\n",
    "\n",
    "# Visualizar las funciones de pertenencia\n",
    "vibraciones.view(title=\"Funciones de Pertenencia para Vibraciones (Gaussianas)\")\n",
    "plt.show()\n"
   ]
  },
  {
   "cell_type": "markdown",
   "metadata": {},
   "source": [
    "$$\n",
    "\\mu_{\\text{Normales}}(x) =\n",
    "\\begin{cases} \n",
    "0, & x < 0.1 \\\\\n",
    "e^{-\\frac{(x - 0.2)^2}{2 \\cdot (0.05)^2}}, & 0.1 \\leq x \\leq 0.35 \\\\\n",
    "0, & x > 0.35\n",
    "\\end{cases}\n",
    "$$\n"
   ]
  },
  {
   "cell_type": "markdown",
   "metadata": {},
   "source": [
    "$$\n",
    "\\mu_{\\text{Altas}}(x) =\n",
    "\\begin{cases} \n",
    "0, & x < 0.2 \\\\\n",
    "e^{-\\frac{(x - 0.35)^2}{2 \\cdot (0.05)^2}}, & 0.2 \\leq x \\leq 0.42 \\\\\n",
    "0, & x > 0.42\n",
    "\\end{cases}\n",
    "$$"
   ]
  },
  {
   "cell_type": "markdown",
   "metadata": {},
   "source": [
    "$$\n",
    "\\mu_{\\text{Muy Altas}}(x) =\n",
    "\\begin{cases} \n",
    "0, & x < 0.35 \\\\\n",
    "e^{-\\frac{(x - 0.45)^2}{2 \\cdot (0.05)^2}}, & 0.35 \\leq x \\leq 0.5 \\\\\n",
    "0, & x > 0.5\n",
    "\\end{cases}\n",
    "$$\n"
   ]
  },
  {
   "cell_type": "markdown",
   "metadata": {},
   "source": [
    "***Justificación***\n",
    "\n",
    "Para la variable **Vibraciones**, se seleccionaron funciones gaussianas para capturar la variabilidad y transición suave entre los niveles difusos. El conjunto **Normales** utiliza una función gaussiana centrada en **0.2** con una desviación estándar pequeña (**0.05**), lo que representa vibraciones bajas características de un equipo en condiciones normales. El conjunto **Altas** está centrado en **0.35** con la misma desviación estándar (**0.05**) para reflejar el rango típico de una operación con un aumento leve de vibraciones, permitiendo capturar transiciones hacia niveles críticos. Por último, el conjunto **Muy Altas** emplea una función gaussiana centrada en **0.45**, también con una desviación estándar de **0.05**, lo que caracteriza estados de alta vibración que podrían indicar problemas significativos en el equipo. Las funciones gaussianas se seleccionaron para esta variable debido a que las vibraciones suelen cambiar de manera gradual, lo que hace que esta forma sea adecuada para representar transiciones suaves y realistas entre los niveles."
   ]
  },
  {
   "cell_type": "markdown",
   "metadata": {},
   "source": [
    "### ***Temperatura***"
   ]
  },
  {
   "cell_type": "code",
   "execution_count": 18,
   "metadata": {},
   "outputs": [
    {
     "data": {
      "image/png": "[encoded data removed]",
      "text/plain": [
       "<Figure size 640x480 with 1 Axes>"
      ]
     },
     "metadata": {},
     "output_type": "display_data"
    }
   ],
   "source": [
    "# Definir la variable difusa para Temperatura\n",
    "temperatura = ctrl.Antecedent(np.arange(50, 111, 1), 'temperatura')\n",
    "\n",
    "# Funciones de pertenencia (todas trapezoidales)\n",
    "temperatura['normal'] = fuzz.trapmf(temperatura.universe, [50, 50, 70, 80])      # Trapezoidal para Normal\n",
    "temperatura['alta'] = fuzz.trapmf(temperatura.universe, [77, 80, 85, 90])        # Trapezoidal para Alta\n",
    "temperatura['muy_alta'] = fuzz.trapmf(temperatura.universe, [85, 95, 110, 110])  # Trapezoidal para Muy Alta\n",
    "\n",
    "# Visualización\n",
    "temperatura.view(title=\"Funciones de Pertenencia para Temperatura (Trapezoidales)\")\n",
    "plt.show()\n"
   ]
  },
  {
   "cell_type": "markdown",
   "metadata": {},
   "source": [
    "$$\n",
    "\\mu_{\\text{Normal}}(x) =\n",
    "\\begin{cases} \n",
    "0, & x < 50 \\\\\n",
    "\\frac{x - 50}{20}, & 50 \\leq x \\leq 70 \\\\\n",
    "1, & 70 \\leq x \\leq 80 \\\\\n",
    "\\frac{80 - x}{10}, & 80 \\leq x \\leq 90 \\\\\n",
    "0, & x > 90\n",
    "\\end{cases}\n",
    "$$\n"
   ]
  },
  {
   "cell_type": "markdown",
   "metadata": {},
   "source": [
    "$$\n",
    "\\mu_{\\text{Alta}}(x) =\n",
    "\\begin{cases} \n",
    "0, & x < 77 \\\\\n",
    "\\frac{x - 77}{3}, & 77 \\leq x \\leq 80 \\\\\n",
    "1, & 80 \\leq x \\leq 85 \\\\\n",
    "\\frac{90 - x}{5}, & 85 \\leq x \\leq 90 \\\\\n",
    "0, & x > 90\n",
    "\\end{cases}\n",
    "$$\n"
   ]
  },
  {
   "cell_type": "markdown",
   "metadata": {},
   "source": [
    "$$\n",
    "\\mu_{\\text{Muy Alta}}(x) =\n",
    "\\begin{cases} \n",
    "0, & x < 85 \\\\\n",
    "\\frac{x - 85}{10}, & 85 \\leq x \\leq 95 \\\\\n",
    "1, & 95 \\leq x \\leq 110 \\\\\n",
    "0, & x > 110\n",
    "\\end{cases}\n",
    "$$\n"
   ]
  },
  {
   "cell_type": "markdown",
   "metadata": {},
   "source": [
    "### ***Alineación***"
   ]
  },
  {
   "cell_type": "code",
   "execution_count": 19,
   "metadata": {},
   "outputs": [
    {
     "data": {
      "image/png": "[encoded data removed]",
      "text/plain": [
       "<Figure size 640x480 with 1 Axes>"
      ]
     },
     "metadata": {},
     "output_type": "display_data"
    }
   ],
   "source": [
    "# Definir la variable difusa para Alineación\n",
    "alineacion = ctrl.Antecedent(np.arange(0, 101, 1), 'alineacion')\n",
    "\n",
    "# Funciones de pertenencia (todas trapezoidales)\n",
    "alineacion['ideal'] = fuzz.trapmf(alineacion.universe, [85, 90, 100, 100])      # Trapezoidal para Ideal\n",
    "alineacion['mala'] = fuzz.trapmf(alineacion.universe, [75, 80, 85, 88])         # Trapezoidal para Mala\n",
    "alineacion['muy_mala'] = fuzz.trapmf(alineacion.universe, [0, 0, 70, 78])       # Trapezoidal para Muy Mala\n",
    "\n",
    "# Visualización\n",
    "alineacion.view(title=\"Funciones de Pertenencia para Alineación (Trapezoidales)\")\n",
    "plt.show()\n"
   ]
  },
  {
   "cell_type": "markdown",
   "metadata": {},
   "source": [
    "Para la variable **Alineación**, se seleccionaron funciones trapezoidales debido a que esta variable presenta rangos bien definidos con estabilidad en los extremos. El nivel **Ideal** (85-100) refleja una condición óptima del equipo, con estabilidad dentro del rango superior. El nivel **Mala** (75-88) captura la transición entre alineación adecuada e inadecuada, permitiendo representar condiciones de deterioro gradual. Finalmente, el nivel **Muy Mala** (0-78) modela alineaciones severamente desviadas del estándar, con estabilidad en valores críticos. Las funciones trapezoidales fueron elegidas porque las transiciones en la alineación son graduales y los valores tienden a concentrarse en los extremos, lo que hace que esta forma sea adecuada para capturar tanto la estabilidad como las transiciones suaves."
   ]
  },
  {
   "cell_type": "markdown",
   "metadata": {},
   "source": [
    "$$\n",
    "\\mu_{\\text{ideal}}(x) =\n",
    "\\begin{cases} \n",
    "0, & x < 85 \\\\\n",
    "\\frac{x - 85}{5}, & 85 \\leq x < 90 \\\\\n",
    "1, & 90 \\leq x \\leq 100 \\\\\n",
    "0, & x > 100\n",
    "\\end{cases}\n",
    "$$"
   ]
  },
  {
   "cell_type": "markdown",
   "metadata": {},
   "source": [
    "$$\n",
    "\\mu_{\\text{mala}}(x) =\n",
    "\\begin{cases} \n",
    "0, & x < 75 \\\\\n",
    "\\frac{x - 75}{5}, & 75 \\leq x < 80 \\\\\n",
    "1, & 80 \\leq x \\leq 85 \\\\\n",
    "\\frac{88 - x}{3}, & 85 < x \\leq 88 \\\\\n",
    "0, & x > 88\n",
    "\\end{cases}\n",
    "$$"
   ]
  },
  {
   "cell_type": "markdown",
   "metadata": {},
   "source": [
    "$$\n",
    "\\mu_{\\text{muy\\_mala}}(x) =\n",
    "\\begin{cases} \n",
    "1, & x \\leq 70 \\\\\n",
    "\\frac{78 - x}{8}, & 70 < x \\leq 78 \\\\\n",
    "0, & x > 78\n",
    "\\end{cases}\n",
    "$$"
   ]
  },
  {
   "cell_type": "markdown",
   "metadata": {},
   "source": [
    "### ***Estado***"
   ]
  },
  {
   "cell_type": "code",
   "execution_count": 20,
   "metadata": {},
   "outputs": [
    {
     "data": {
      "image/png": "[encoded data removed]",
      "text/plain": [
       "<Figure size 640x480 with 1 Axes>"
      ]
     },
     "metadata": {},
     "output_type": "display_data"
    }
   ],
   "source": [
    "# Definir la variable difusa para Estado del Equipo\n",
    "#estado = ctrl.Consequent(np.arange(0, 11, 1), 'estado')\n",
    "estado = ctrl.Consequent(np.linspace(0, 10, 100), 'estado')\n",
    "\n",
    "# Funciones de pertenencia (trapezoidales para consistencia)\n",
    "estado['normal'] = fuzz.trapmf(estado.universe, [0, 0, 2, 4])      # Trapezoidal para Normal\n",
    "estado['alerta'] = fuzz.trapmf(estado.universe, [3, 5, 6, 8])      # Trapezoidal para Alerta\n",
    "estado['critico'] = fuzz.trapmf(estado.universe, [7, 8, 10, 10])   # Trapezoidal para Crítico\n",
    "\n",
    "# Visualización\n",
    "estado.view(title=\"Funciones de Pertenencia para Estado del Equipo\")\n",
    "plt.show()\n"
   ]
  },
  {
   "cell_type": "markdown",
   "metadata": {},
   "source": [
    "$$\n",
    "\\mu_{\\text{Normal}}(x) =\n",
    "\\begin{cases} \n",
    "0, & x < 0 \\\\\n",
    "1, & 0 \\leq x \\leq 2 \\\\\n",
    "\\frac{4 - x}{2}, & 2 \\leq x \\leq 4 \\\\\n",
    "0, & x > 4\n",
    "\\end{cases}\n",
    "$$\n"
   ]
  },
  {
   "cell_type": "markdown",
   "metadata": {},
   "source": [
    "$$\n",
    "\\mu_{\\text{Alerta}}(x) =\n",
    "\\begin{cases} \n",
    "0, & x < 3 \\\\\n",
    "\\frac{x - 3}{2}, & 3 \\leq x \\leq 5 \\\\\n",
    "1, & 5 \\leq x \\leq 6 \\\\\n",
    "\\frac{8 - x}{2}, & 6 \\leq x \\leq 8 \\\\\n",
    "0, & x > 8\n",
    "\\end{cases}\n",
    "$$\n"
   ]
  },
  {
   "cell_type": "markdown",
   "metadata": {},
   "source": [
    "$$\n",
    "\\mu_{\\text{Crítico}}(x) =\n",
    "\\begin{cases} \n",
    "0, & x < 7 \\\\\n",
    "\\frac{x - 7}{1}, & 7 \\leq x \\leq 8 \\\\\n",
    "1, & 8 \\leq x \\leq 10 \\\\\n",
    "0, & x > 10\n",
    "\\end{cases}\n",
    "$$\n"
   ]
  },
  {
   "cell_type": "markdown",
   "metadata": {},
   "source": [
    "***Justificación:***\n",
    "\n",
    "Para la variable objetivo **Estado del Equipo**, se definieron tres niveles lingüísticos: **Normal**, **Alerta**, y **Crítico**, utilizando funciones trapezoidales. El nivel **Normal** representa un estado óptimo del equipo, con estabilidad en valores bajos (0-4). El nivel **Alerta** modela una transición intermedia (3-8), reflejando condiciones donde el equipo muestra señales de deterioro. Finalmente, el nivel **Crítico** captura estados de operación inaceptables (7-10), indicando riesgos significativos de falla. Las funciones trapezoidales permiten transiciones graduales entre estos niveles, reflejando la naturaleza progresiva de los estados del equipo. "
   ]
  },
  {
   "cell_type": "markdown",
   "metadata": {},
   "source": [
    "## ***Definición de Reglas***"
   ]
  },
  {
   "cell_type": "markdown",
   "metadata": {},
   "source": [
    "### ***Rules***"
   ]
  },
  {
   "cell_type": "code",
   "execution_count": 21,
   "metadata": {},
   "outputs": [],
   "source": [
    "rules = [\n",
    "    ctrl.Rule(presion['normal'] & amperaje['normal'] & vibraciones['normales'], estado['normal']),\n",
    "    ctrl.Rule(presion['alta'] & amperaje['alto'] & vibraciones['altas'], estado['alerta']),\n",
    "    ctrl.Rule(presion['muy_alta'] | amperaje['muy_alto'] | vibraciones['muy_altas'], estado['critico']),\n",
    "    ctrl.Rule(temperatura['normal'] & alineacion['ideal'], estado['normal']),\n",
    "    ctrl.Rule(temperatura['alta'] & alineacion['mala'], estado['alerta']),\n",
    "    ctrl.Rule(temperatura['muy_alta'] & alineacion['muy_mala'], estado['critico']),\n",
    "    ctrl.Rule(presion['alta'] & vibraciones['altas'], estado['alerta']),\n",
    "    ctrl.Rule(presion['muy_alta'] & temperatura['muy_alta'], estado['critico']),\n",
    "    ctrl.Rule(amperaje['normal'] & alineacion['ideal'], estado['normal']),\n",
    "    ctrl.Rule(amperaje['alto'] & alineacion['mala'], estado['alerta']),\n",
    "    ctrl.Rule(amperaje['muy_alto'] & alineacion['muy_mala'], estado['critico']),\n",
    "    ctrl.Rule(vibraciones['normales'] & alineacion['ideal'], estado['normal']),\n",
    "    ctrl.Rule(vibraciones['altas'] & alineacion['mala'], estado['alerta']),\n",
    "    ctrl.Rule(vibraciones['muy_altas'] & alineacion['muy_mala'], estado['critico']),\n",
    "    ctrl.Rule(presion['normal'] & temperatura['normal'], estado['normal']),\n",
    "    ctrl.Rule(presion['alta'] & temperatura['alta'], estado['alerta']),\n",
    "    ctrl.Rule(presion['muy_alta'] & temperatura['muy_alta'], estado['critico']),\n",
    "    ctrl.Rule(amperaje['normal'] & temperatura['normal'], estado['normal']),\n",
    "    ctrl.Rule(amperaje['alto'] & temperatura['alta'], estado['alerta']),\n",
    "    ctrl.Rule(amperaje['muy_alto'] & temperatura['muy_alta'], estado['critico']),\n",
    "    ctrl.Rule(presion['normal'] & amperaje['normal'] & temperatura['normal'], estado['normal']),\n",
    "    ctrl.Rule(presion['alta'] & vibraciones['altas'] & alineacion['mala'], estado['alerta']),\n",
    "    ctrl.Rule(presion['muy_alta'] & amperaje['muy_alto'] & temperatura['muy_alta'], estado['critico']),\n",
    "    ctrl.Rule(amperaje['normal'] & temperatura['normal'] & alineacion['ideal'], estado['normal']),\n",
    "    ctrl.Rule(amperaje['alto'] & vibraciones['altas'] & alineacion['mala'], estado['alerta']),\n",
    "    ctrl.Rule(amperaje['muy_alto'] & alineacion['muy_mala'] & temperatura['muy_alta'], estado['critico']),\n",
    "    ctrl.Rule(vibraciones['normales'] & temperatura['normal'] & alineacion['ideal'], estado['normal']),\n",
    "    ctrl.Rule(vibraciones['altas'] & temperatura['alta'] & alineacion['mala'], estado['alerta']),\n",
    "    ctrl.Rule(vibraciones['muy_altas'] & alineacion['muy_mala'] & temperatura['muy_alta'], estado['critico']),\n",
    "    ctrl.Rule(presion['alta'] & amperaje['alto'] & vibraciones['altas'], estado['alerta']),\n",
    "    ctrl.Rule(presion['muy_alta'] & amperaje['muy_alto'] & alineacion['muy_mala'], estado['critico']),\n",
    "    ctrl.Rule(temperatura['normal'] & alineacion['ideal'] & presion['normal'], estado['normal']),\n",
    "    ctrl.Rule(temperatura['alta'] & alineacion['mala'] & amperaje['alto'], estado['alerta']),\n",
    "    ctrl.Rule(temperatura['muy_alta'] & alineacion['muy_mala'] & vibraciones['muy_altas'], estado['critico']),\n",
    "    ctrl.Rule(presion['normal'] & vibraciones['normales'] & temperatura['normal'], estado['normal']),\n",
    "    ctrl.Rule(presion['alta'] & vibraciones['altas'] & temperatura['alta'], estado['alerta']),\n",
    "    ctrl.Rule(presion['muy_alta'] & vibraciones['muy_altas'] & temperatura['muy_alta'], estado['critico']),\n",
    "    ctrl.Rule(amperaje['normal'] & vibraciones['normales'] & alineacion['ideal'], estado['normal']),\n",
    "    ctrl.Rule(amperaje['alto'] & vibraciones['altas'] & alineacion['mala'], estado['alerta']),\n",
    "    ctrl.Rule(amperaje['muy_alto'] & vibraciones['muy_altas'] & alineacion['muy_mala'], estado['critico']),\n",
    "]\n",
    "\n",
    "# Crear el sistema de control\n",
    "sistema_control = ctrl.ControlSystem(rules)\n",
    "simulador = ctrl.ControlSystemSimulation(sistema_control)"
   ]
  },
  {
   "cell_type": "markdown",
   "metadata": {},
   "source": [
    "En este sistema, se definieron **40 reglas difusas** que relacionan los distintos niveles de las variables de entrada con el estado del equipo. Estas reglas se diseñaron cuidadosamente para capturar la lógica del dominio, evitando una **combinatoria completa** de los niveles de las variables.\n",
    "\n",
    "* **¿Por qué no se utilizó una combinatoria completa?**\n",
    "\n",
    "   1. **Redundancia:**\n",
    "      - Algunas combinaciones de niveles resultan en reglas redundantes, ya que describen situaciones que ya están capturadas por otras reglas similares.\n",
    "\n",
    "   2. **Falta de Sentido:**\n",
    "      - Otras combinaciones, aunque técnicamente posibles, no tienen sentido desde el punto de vista lógico o del dominio. Por ejemplo:\n",
    "      - Una regla que combine un nivel extremo de vibraciones (`Muy Altas`) con un nivel ideal de alineación podría no tener significado físico.\n",
    "\n",
    "   3. **Eficiencia del Sistema:**\n",
    "      - Reducir el número de reglas evita complicar innecesariamente el sistema, mejorando su interpretabilidad y eficiencia computacional.\n",
    "\n",
    "* **Diseño de las Reglas**\n",
    "   - Las reglas fueron seleccionadas para representar **escenarios realistas** que ocurren en el estado del equipo:\n",
    "   - Por ejemplo, niveles **altos de vibración** y **alta temperatura** podrían sugerir un estado de **alerta**.\n",
    "   - Por otro lado, una **presión normal** combinada con una **alineación ideal** indicaría un estado **normal**.\n",
    "   \n",
    "* **Ejemplo de Reglas Definidas**\n",
    "   1. **Estado Normal:**\n",
    "      - Si la presión es **normal** y la alineación es **ideal**, entonces el estado del equipo es **normal**.\n",
    "      - Si la temperatura es **normal** y las vibraciones son **normales**, entonces el estado del equipo es **normal**.\n",
    "\n",
    "   2. **Estado de Alerta:**\n",
    "      - Si la presión es **alta** y las vibraciones son **altas**, entonces el estado del equipo es **alerta**.\n",
    "      - Si la temperatura es **alta** y la alineación es **mala**, entonces el estado del equipo es **alerta**.\n",
    "\n",
    "   3. **Estado Crítico:**\n",
    "      - Si la presión es **muy alta** y las vibraciones son **muy altas**, entonces el estado del equipo es **crítico**.\n",
    "      - Si la temperatura es **muy alta** y la alineación es **muy mala**, entonces el estado del equipo es **crítico**."
   ]
  },
  {
   "cell_type": "markdown",
   "metadata": {},
   "source": [
    "## ***Desfuzificación***"
   ]
  },
  {
   "cell_type": "markdown",
   "metadata": {},
   "source": [
    "Para la ***desfuzificación*** se empleo el metodo del ***centroide***, a continuación se muestra un ejemplo de interacción con el sistema inteligente:"
   ]
  },
  {
   "cell_type": "code",
   "execution_count": 22,
   "metadata": {},
   "outputs": [
    {
     "name": "stdout",
     "output_type": "stream",
     "text": [
      "Valor Crisp Desfuzzificado: 1.5560213330108459\n",
      "Grados de Pertenencia: {'normal': 1.0, 'alerta': 0.0, 'critico': 0.0}\n",
      "Estado del Motor: normal\n"
     ]
    }
   ],
   "source": [
    "simulador.input['presion'] = 9  # Ejemplo: Presión Normal\n",
    "simulador.input['amperaje'] = 15  # Ejemplo: Amperaje Normal\n",
    "simulador.input['vibraciones'] = 0.2  # Ejemplo: Vibraciones Normal\n",
    "simulador.input['temperatura'] = 77  # Ejemplo: Temperatura Normal/alta\n",
    "simulador.input['alineacion'] = 90  # Ejemplo: Alineación Ideal\n",
    "\n",
    "# Computar el resultado\n",
    "simulador.compute()\n",
    "\n",
    "# Valor nítido del motor obtenido por desfuzzificación\n",
    "valor_crisp = simulador.output['estado']\n",
    "\n",
    "# Calcular el grado de pertenencia para cada nivel lingüístico\n",
    "grados_pertenencia = {}\n",
    "for label, membership_function in estado.terms.items():\n",
    "    grados_pertenencia[label] = fuzz.interp_membership(estado.universe, membership_function.mf, valor_crisp)\n",
    "\n",
    "# Determinar el nivel lingüístico con mayor grado de pertenencia\n",
    "estado_motor = max(grados_pertenencia, key=grados_pertenencia.get)\n",
    "\n",
    "# Mostrar resultados\n",
    "print(\"Valor Crisp Desfuzzificado:\", valor_crisp)\n",
    "print(\"Grados de Pertenencia:\", grados_pertenencia)\n",
    "print(\"Estado del Motor:\", estado_motor)"
   ]
  },
  {
   "cell_type": "markdown",
   "metadata": {},
   "source": [
    "El metodo de ***defuzificación*** lo podemos validar con la siguiente línea de `código`"
   ]
  },
  {
   "cell_type": "code",
   "execution_count": 23,
   "metadata": {},
   "outputs": [
    {
     "data": {
      "text/plain": [
       "'centroid'"
      ]
     },
     "execution_count": 23,
     "metadata": {},
     "output_type": "execute_result"
    }
   ],
   "source": [
    "estado.defuzzify_method\n"
   ]
  },
  {
   "cell_type": "markdown",
   "metadata": {},
   "source": [
    "Podemos realizar el mismo procedimiento para diferentes valores de cada variables y obtener una ***visualización gráfica*** así:"
   ]
  },
  {
   "cell_type": "code",
   "execution_count": 24,
   "metadata": {},
   "outputs": [
    {
     "data": {
      "text/plain": [
       "<Figure size 800x600 with 0 Axes>"
      ]
     },
     "metadata": {},
     "output_type": "display_data"
    },
    {
     "data": {
      "image/png": "[encoded data removed]",
      "text/plain": [
       "<Figure size 640x480 with 1 Axes>"
      ]
     },
     "metadata": {},
     "output_type": "display_data"
    },
    {
     "data": {
      "text/plain": [
       "<Figure size 800x600 with 0 Axes>"
      ]
     },
     "metadata": {},
     "output_type": "display_data"
    },
    {
     "data": {
      "image/png": "[encoded data removed]",
      "text/plain": [
       "<Figure size 640x480 with 1 Axes>"
      ]
     },
     "metadata": {},
     "output_type": "display_data"
    },
    {
     "data": {
      "text/plain": [
       "<Figure size 800x600 with 0 Axes>"
      ]
     },
     "metadata": {},
     "output_type": "display_data"
    },
    {
     "data": {
      "image/png": "[encoded data removed]",
      "text/plain": [
       "<Figure size 640x480 with 1 Axes>"
      ]
     },
     "metadata": {},
     "output_type": "display_data"
    },
    {
     "data": {
      "text/plain": [
       "<Figure size 800x600 with 0 Axes>"
      ]
     },
     "metadata": {},
     "output_type": "display_data"
    },
    {
     "data": {
      "image/png": "[encoded data removed]",
      "text/plain": [
       "<Figure size 640x480 with 1 Axes>"
      ]
     },
     "metadata": {},
     "output_type": "display_data"
    },
    {
     "name": "stdout",
     "output_type": "stream",
     "text": [
      "Tabla de Resultados:\n",
      "Muestra 1: Estado del Motor = 1.56\n",
      "Muestra 2: Estado del Motor = 5.53\n",
      "Muestra 3: Estado del Motor = 6.58\n",
      "Muestra 4: Estado del Motor = 8.73\n"
     ]
    }
   ],
   "source": [
    "# Definir las muestras de entrada\n",
    "muestras = [\n",
    "    {'presion': 10, 'amperaje': 20, 'vibraciones': 0.2, 'temperatura': 70, 'alineacion': 90},\n",
    "    {'presion': 11, 'amperaje': 22, 'vibraciones': 0.3, 'temperatura': 75, 'alineacion': 85},\n",
    "    {'presion': 12, 'amperaje': 24, 'vibraciones': 0.4, 'temperatura': 85, 'alineacion': 75},\n",
    "    {'presion': 13, 'amperaje': 26, 'vibraciones': 0.5, 'temperatura': 90, 'alineacion': 70}\n",
    "]\n",
    "\n",
    "# Iterar sobre las muestras y generar gráficas\n",
    "for i, muestra in enumerate(muestras):\n",
    "    # Asignar valores de entrada\n",
    "    simulador.input['presion'] = muestra['presion']\n",
    "    simulador.input['amperaje'] = muestra['amperaje']\n",
    "    simulador.input['vibraciones'] = muestra['vibraciones']\n",
    "    simulador.input['temperatura'] = muestra['temperatura']\n",
    "    simulador.input['alineacion'] = muestra['alineacion']\n",
    "    \n",
    "    # Computar el resultado\n",
    "    simulador.compute()\n",
    "    \n",
    "    plt.figure(figsize=(8, 6))\n",
    "    estado.view(sim=simulador) \n",
    "    plt.title(f\"Muestra {i + 1}: Estado del Motor\")\n",
    "    plt.show()\n",
    "\n",
    "# Mostrar tabla de resultados\n",
    "print(\"Tabla de Resultados:\")\n",
    "for i, muestra in enumerate(muestras):\n",
    "    simulador.input['presion'] = muestra['presion']\n",
    "    simulador.input['amperaje'] = muestra['amperaje']\n",
    "    simulador.input['vibraciones'] = muestra['vibraciones']\n",
    "    simulador.input['temperatura'] = muestra['temperatura']\n",
    "    simulador.input['alineacion'] = muestra['alineacion']\n",
    "    simulador.compute()\n",
    "    valor_crisp = simulador.output['estado']\n",
    "    print(f\"Muestra {i + 1}: Estado del Motor = {valor_crisp:.2f}\")"
   ]
  },
  {
   "cell_type": "markdown",
   "metadata": {},
   "source": [
    "## ***Evaluación del Sistema***"
   ]
  },
  {
   "cell_type": "code",
   "execution_count": 27,
   "metadata": {},
   "outputs": [
    {
     "data": {
      "text/plain": [
       "'Matriz de Confusión:'"
      ]
     },
     "metadata": {},
     "output_type": "display_data"
    },
    {
     "data": {
      "text/html": [
       "<div>\n",
       "<style scoped>\n",
       "    .dataframe tbody tr th:only-of-type {\n",
       "        vertical-align: middle;\n",
       "    }\n",
       "\n",
       "    .dataframe tbody tr th {\n",
       "        vertical-align: top;\n",
       "    }\n",
       "\n",
       "    .dataframe thead th {\n",
       "        text-align: right;\n",
       "    }\n",
       "</style>\n",
       "<table border=\"1\" class=\"dataframe\">\n",
       "  <thead>\n",
       "    <tr style=\"text-align: right;\">\n",
       "      <th></th>\n",
       "      <th>normal</th>\n",
       "      <th>alerta</th>\n",
       "      <th>critico</th>\n",
       "    </tr>\n",
       "  </thead>\n",
       "  <tbody>\n",
       "    <tr>\n",
       "      <th>normal</th>\n",
       "      <td>242</td>\n",
       "      <td>60</td>\n",
       "      <td>0</td>\n",
       "    </tr>\n",
       "    <tr>\n",
       "      <th>alerta</th>\n",
       "      <td>0</td>\n",
       "      <td>94</td>\n",
       "      <td>33</td>\n",
       "    </tr>\n",
       "    <tr>\n",
       "      <th>critico</th>\n",
       "      <td>0</td>\n",
       "      <td>6</td>\n",
       "      <td>40</td>\n",
       "    </tr>\n",
       "  </tbody>\n",
       "</table>\n",
       "</div>"
      ],
      "text/plain": [
       "         normal  alerta  critico\n",
       "normal      242      60        0\n",
       "alerta        0      94       33\n",
       "critico       0       6       40"
      ]
     },
     "metadata": {},
     "output_type": "display_data"
    },
    {
     "data": {
      "application/vnd.plotly.v1+json": {
       "config": {
        "plotlyServerURL": "https://plot.ly"
       },
       "data": [
        {
         "colorscale": [
          [
           0,
           "rgb(255, 255, 255)"
          ],
          [
           0.2,
           "rgb(200, 230, 255)"
          ],
          [
           0.4,
           "rgb(150, 200, 255)"
          ],
          [
           0.6,
           "rgb(100, 170, 255)"
          ],
          [
           0.8,
           "rgb(50, 140, 255)"
          ],
          [
           1,
           "rgb(0, 100, 255)"
          ]
         ],
         "text": [
          [
           242,
           60,
           0
          ],
          [
           0,
           94,
           33
          ],
          [
           0,
           6,
           40
          ]
         ],
         "textfont": {
          "size": 14
         },
         "texttemplate": "%{text}",
         "type": "heatmap",
         "x": [
          "normal",
          "alerta",
          "critico"
         ],
         "y": [
          "normal",
          "alerta",
          "critico"
         ],
         "z": [
          [
           242,
           60,
           0
          ],
          [
           0,
           94,
           33
          ],
          [
           0,
           6,
           40
          ]
         ]
        }
       ],
       "layout": {
        "font": {
         "size": 16
        },
        "template": {
         "data": {
          "bar": [
           {
            "error_x": {
             "color": "#2a3f5f"
            },
            "error_y": {
             "color": "#2a3f5f"
            },
            "marker": {
             "line": {
              "color": "#E5ECF6",
              "width": 0.5
             },
             "pattern": {
              "fillmode": "overlay",
              "size": 10,
              "solidity": 0.2
             }
            },
            "type": "bar"
           }
          ],
          "barpolar": [
           {
            "marker": {
             "line": {
              "color": "#E5ECF6",
              "width": 0.5
             },
             "pattern": {
              "fillmode": "overlay",
              "size": 10,
              "solidity": 0.2
             }
            },
            "type": "barpolar"
           }
          ],
          "carpet": [
           {
            "aaxis": {
             "endlinecolor": "#2a3f5f",
             "gridcolor": "white",
             "linecolor": "white",
             "minorgridcolor": "white",
             "startlinecolor": "#2a3f5f"
            },
            "baxis": {
             "endlinecolor": "#2a3f5f",
             "gridcolor": "white",
             "linecolor": "white",
             "minorgridcolor": "white",
             "startlinecolor": "#2a3f5f"
            },
            "type": "carpet"
           }
          ],
          "choropleth": [
           {
            "colorbar": {
             "outlinewidth": 0,
             "ticks": ""
            },
            "type": "choropleth"
           }
          ],
          "contour": [
           {
            "colorbar": {
             "outlinewidth": 0,
             "ticks": ""
            },
            "colorscale": [
             [
              0,
              "#0d0887"
             ],
             [
              0.1111111111111111,
              "#46039f"
             ],
             [
              0.2222222222222222,
              "#7201a8"
             ],
             [
              0.3333333333333333,
              "#9c179e"
             ],
             [
              0.4444444444444444,
              "#bd3786"
             ],
             [
              0.5555555555555556,
              "#d8576b"
             ],
             [
              0.6666666666666666,
              "#ed7953"
             ],
             [
              0.7777777777777778,
              "#fb9f3a"
             ],
             [
              0.8888888888888888,
              "#fdca26"
             ],
             [
              1,
              "#f0f921"
             ]
            ],
            "type": "contour"
           }
          ],
          "contourcarpet": [
           {
            "colorbar": {
             "outlinewidth": 0,
             "ticks": ""
            },
            "type": "contourcarpet"
           }
          ],
          "heatmap": [
           {
            "colorbar": {
             "outlinewidth": 0,
             "ticks": ""
            },
            "colorscale": [
             [
              0,
              "#0d0887"
             ],
             [
              0.1111111111111111,
              "#46039f"
             ],
             [
              0.2222222222222222,
              "#7201a8"
             ],
             [
              0.3333333333333333,
              "#9c179e"
             ],
             [
              0.4444444444444444,
              "#bd3786"
             ],
             [
              0.5555555555555556,
              "#d8576b"
             ],
             [
              0.6666666666666666,
              "#ed7953"
             ],
             [
              0.7777777777777778,
              "#fb9f3a"
             ],
             [
              0.8888888888888888,
              "#fdca26"
             ],
             [
              1,
              "#f0f921"
             ]
            ],
            "type": "heatmap"
           }
          ],
          "heatmapgl": [
           {
            "colorbar": {
             "outlinewidth": 0,
             "ticks": ""
            },
            "colorscale": [
             [
              0,
              "#0d0887"
             ],
             [
              0.1111111111111111,
              "#46039f"
             ],
             [
              0.2222222222222222,
              "#7201a8"
             ],
             [
              0.3333333333333333,
              "#9c179e"
             ],
             [
              0.4444444444444444,
              "#bd3786"
             ],
             [
              0.5555555555555556,
              "#d8576b"
             ],
             [
              0.6666666666666666,
              "#ed7953"
             ],
             [
              0.7777777777777778,
              "#fb9f3a"
             ],
             [
              0.8888888888888888,
              "#fdca26"
             ],
             [
              1,
              "#f0f921"
             ]
            ],
            "type": "heatmapgl"
           }
          ],
          "histogram": [
           {
            "marker": {
             "pattern": {
              "fillmode": "overlay",
              "size": 10,
              "solidity": 0.2
             }
            },
            "type": "histogram"
           }
          ],
          "histogram2d": [
           {
            "colorbar": {
             "outlinewidth": 0,
             "ticks": ""
            },
            "colorscale": [
             [
              0,
              "#0d0887"
             ],
             [
              0.1111111111111111,
              "#46039f"
             ],
             [
              0.2222222222222222,
              "#7201a8"
             ],
             [
              0.3333333333333333,
              "#9c179e"
             ],
             [
              0.4444444444444444,
              "#bd3786"
             ],
             [
              0.5555555555555556,
              "#d8576b"
             ],
             [
              0.6666666666666666,
              "#ed7953"
             ],
             [
              0.7777777777777778,
              "#fb9f3a"
             ],
             [
              0.8888888888888888,
              "#fdca26"
             ],
             [
              1,
              "#f0f921"
             ]
            ],
            "type": "histogram2d"
           }
          ],
          "histogram2dcontour": [
           {
            "colorbar": {
             "outlinewidth": 0,
             "ticks": ""
            },
            "colorscale": [
             [
              0,
              "#0d0887"
             ],
             [
              0.1111111111111111,
              "#46039f"
             ],
             [
              0.2222222222222222,
              "#7201a8"
             ],
             [
              0.3333333333333333,
              "#9c179e"
             ],
             [
              0.4444444444444444,
              "#bd3786"
             ],
             [
              0.5555555555555556,
              "#d8576b"
             ],
             [
              0.6666666666666666,
              "#ed7953"
             ],
             [
              0.7777777777777778,
              "#fb9f3a"
             ],
             [
              0.8888888888888888,
              "#fdca26"
             ],
             [
              1,
              "#f0f921"
             ]
            ],
            "type": "histogram2dcontour"
           }
          ],
          "mesh3d": [
           {
            "colorbar": {
             "outlinewidth": 0,
             "ticks": ""
            },
            "type": "mesh3d"
           }
          ],
          "parcoords": [
           {
            "line": {
             "colorbar": {
              "outlinewidth": 0,
              "ticks": ""
             }
            },
            "type": "parcoords"
           }
          ],
          "pie": [
           {
            "automargin": true,
            "type": "pie"
           }
          ],
          "scatter": [
           {
            "fillpattern": {
             "fillmode": "overlay",
             "size": 10,
             "solidity": 0.2
            },
            "type": "scatter"
           }
          ],
          "scatter3d": [
           {
            "line": {
             "colorbar": {
              "outlinewidth": 0,
              "ticks": ""
             }
            },
            "marker": {
             "colorbar": {
              "outlinewidth": 0,
              "ticks": ""
             }
            },
            "type": "scatter3d"
           }
          ],
          "scattercarpet": [
           {
            "marker": {
             "colorbar": {
              "outlinewidth": 0,
              "ticks": ""
             }
            },
            "type": "scattercarpet"
           }
          ],
          "scattergeo": [
           {
            "marker": {
             "colorbar": {
              "outlinewidth": 0,
              "ticks": ""
             }
            },
            "type": "scattergeo"
           }
          ],
          "scattergl": [
           {
            "marker": {
             "colorbar": {
              "outlinewidth": 0,
              "ticks": ""
             }
            },
            "type": "scattergl"
           }
          ],
          "scattermapbox": [
           {
            "marker": {
             "colorbar": {
              "outlinewidth": 0,
              "ticks": ""
             }
            },
            "type": "scattermapbox"
           }
          ],
          "scatterpolar": [
           {
            "marker": {
             "colorbar": {
              "outlinewidth": 0,
              "ticks": ""
             }
            },
            "type": "scatterpolar"
           }
          ],
          "scatterpolargl": [
           {
            "marker": {
             "colorbar": {
              "outlinewidth": 0,
              "ticks": ""
             }
            },
            "type": "scatterpolargl"
           }
          ],
          "scatterternary": [
           {
            "marker": {
             "colorbar": {
              "outlinewidth": 0,
              "ticks": ""
             }
            },
            "type": "scatterternary"
           }
          ],
          "surface": [
           {
            "colorbar": {
             "outlinewidth": 0,
             "ticks": ""
            },
            "colorscale": [
             [
              0,
              "#0d0887"
             ],
             [
              0.1111111111111111,
              "#46039f"
             ],
             [
              0.2222222222222222,
              "#7201a8"
             ],
             [
              0.3333333333333333,
              "#9c179e"
             ],
             [
              0.4444444444444444,
              "#bd3786"
             ],
             [
              0.5555555555555556,
              "#d8576b"
             ],
             [
              0.6666666666666666,
              "#ed7953"
             ],
             [
              0.7777777777777778,
              "#fb9f3a"
             ],
             [
              0.8888888888888888,
              "#fdca26"
             ],
             [
              1,
              "#f0f921"
             ]
            ],
            "type": "surface"
           }
          ],
          "table": [
           {
            "cells": {
             "fill": {
              "color": "#EBF0F8"
             },
             "line": {
              "color": "white"
             }
            },
            "header": {
             "fill": {
              "color": "#C8D4E3"
             },
             "line": {
              "color": "white"
             }
            },
            "type": "table"
           }
          ]
         },
         "layout": {
          "annotationdefaults": {
           "arrowcolor": "#2a3f5f",
           "arrowhead": 0,
           "arrowwidth": 1
          },
          "autotypenumbers": "strict",
          "coloraxis": {
           "colorbar": {
            "outlinewidth": 0,
            "ticks": ""
           }
          },
          "colorscale": {
           "diverging": [
            [
             0,
             "#8e0152"
            ],
            [
             0.1,
             "#c51b7d"
            ],
            [
             0.2,
             "#de77ae"
            ],
            [
             0.3,
             "#f1b6da"
            ],
            [
             0.4,
             "#fde0ef"
            ],
            [
             0.5,
             "#f7f7f7"
            ],
            [
             0.6,
             "#e6f5d0"
            ],
            [
             0.7,
             "#b8e186"
            ],
            [
             0.8,
             "#7fbc41"
            ],
            [
             0.9,
             "#4d9221"
            ],
            [
             1,
             "#276419"
            ]
           ],
           "sequential": [
            [
             0,
             "#0d0887"
            ],
            [
             0.1111111111111111,
             "#46039f"
            ],
            [
             0.2222222222222222,
             "#7201a8"
            ],
            [
             0.3333333333333333,
             "#9c179e"
            ],
            [
             0.4444444444444444,
             "#bd3786"
            ],
            [
             0.5555555555555556,
             "#d8576b"
            ],
            [
             0.6666666666666666,
             "#ed7953"
            ],
            [
             0.7777777777777778,
             "#fb9f3a"
            ],
            [
             0.8888888888888888,
             "#fdca26"
            ],
            [
             1,
             "#f0f921"
            ]
           ],
           "sequentialminus": [
            [
             0,
             "#0d0887"
            ],
            [
             0.1111111111111111,
             "#46039f"
            ],
            [
             0.2222222222222222,
             "#7201a8"
            ],
            [
             0.3333333333333333,
             "#9c179e"
            ],
            [
             0.4444444444444444,
             "#bd3786"
            ],
            [
             0.5555555555555556,
             "#d8576b"
            ],
            [
             0.6666666666666666,
             "#ed7953"
            ],
            [
             0.7777777777777778,
             "#fb9f3a"
            ],
            [
             0.8888888888888888,
             "#fdca26"
            ],
            [
             1,
             "#f0f921"
            ]
           ]
          },
          "colorway": [
           "#636efa",
           "#EF553B",
           "#00cc96",
           "#ab63fa",
           "#FFA15A",
           "#19d3f3",
           "#FF6692",
           "#B6E880",
           "#FF97FF",
           "#FECB52"
          ],
          "font": {
           "color": "#2a3f5f"
          },
          "geo": {
           "bgcolor": "white",
           "lakecolor": "white",
           "landcolor": "#E5ECF6",
           "showlakes": true,
           "showland": true,
           "subunitcolor": "white"
          },
          "hoverlabel": {
           "align": "left"
          },
          "hovermode": "closest",
          "mapbox": {
           "style": "light"
          },
          "paper_bgcolor": "white",
          "plot_bgcolor": "#E5ECF6",
          "polar": {
           "angularaxis": {
            "gridcolor": "white",
            "linecolor": "white",
            "ticks": ""
           },
           "bgcolor": "#E5ECF6",
           "radialaxis": {
            "gridcolor": "white",
            "linecolor": "white",
            "ticks": ""
           }
          },
          "scene": {
           "xaxis": {
            "backgroundcolor": "#E5ECF6",
            "gridcolor": "white",
            "gridwidth": 2,
            "linecolor": "white",
            "showbackground": true,
            "ticks": "",
            "zerolinecolor": "white"
           },
           "yaxis": {
            "backgroundcolor": "#E5ECF6",
            "gridcolor": "white",
            "gridwidth": 2,
            "linecolor": "white",
            "showbackground": true,
            "ticks": "",
            "zerolinecolor": "white"
           },
           "zaxis": {
            "backgroundcolor": "#E5ECF6",
            "gridcolor": "white",
            "gridwidth": 2,
            "linecolor": "white",
            "showbackground": true,
            "ticks": "",
            "zerolinecolor": "white"
           }
          },
          "shapedefaults": {
           "line": {
            "color": "#2a3f5f"
           }
          },
          "ternary": {
           "aaxis": {
            "gridcolor": "white",
            "linecolor": "white",
            "ticks": ""
           },
           "baxis": {
            "gridcolor": "white",
            "linecolor": "white",
            "ticks": ""
           },
           "bgcolor": "#E5ECF6",
           "caxis": {
            "gridcolor": "white",
            "linecolor": "white",
            "ticks": ""
           }
          },
          "title": {
           "x": 0.05
          },
          "xaxis": {
           "automargin": true,
           "gridcolor": "white",
           "linecolor": "white",
           "ticks": "",
           "title": {
            "standoff": 15
           },
           "zerolinecolor": "white",
           "zerolinewidth": 2
          },
          "yaxis": {
           "automargin": true,
           "gridcolor": "white",
           "linecolor": "white",
           "ticks": "",
           "title": {
            "standoff": 15
           },
           "zerolinecolor": "white",
           "zerolinewidth": 2
          }
         }
        },
        "title": {
         "text": "Matriz de Confusión"
        },
        "xaxis": {
         "title": {
          "text": "Predicciones"
         }
        },
        "yaxis": {
         "title": {
          "text": "Reales"
         }
        }
       }
      }
     },
     "metadata": {},
     "output_type": "display_data"
    }
   ],
   "source": [
    "# Definir los niveles y los rangos para mapeo de predicciones crisp y etiquetas reales\n",
    "def mapear_estado(valor_crisp):\n",
    "    if 0 <= valor_crisp <= 4:\n",
    "        return \"normal\"\n",
    "    elif 4 < valor_crisp <= 8:\n",
    "        return \"alerta\"\n",
    "    elif 8 < valor_crisp <= 10:\n",
    "        return \"critico\"\n",
    "    else:\n",
    "        return \"desconocido\"\n",
    "\n",
    "# Mapear las etiquetas reales en el DataFrame\n",
    "df['estado_mapeado'] = df['estado'].apply(mapear_estado)\n",
    "\n",
    "# Crear listas de las entradas y la salida real desde el DataFrame\n",
    "inputs_presion = df['presion'].tolist()\n",
    "inputs_amperaje = df['amperaje'].tolist()\n",
    "inputs_vibraciones = df['vibraciones'].tolist()\n",
    "inputs_temperatura = df['temperatura'].tolist()\n",
    "inputs_alineacion = df['alineacion'].tolist()\n",
    "y_true = df['estado_mapeado'].tolist()  # Etiquetas reales mapeadas\n",
    "\n",
    "# Crear una lista para almacenar las predicciones del sistema difuso\n",
    "y_pred = []\n",
    "\n",
    "# Realizar inferencia para todas las muestras\n",
    "for i in range(len(df)):\n",
    "    try:\n",
    "        # Asignar entradas al sistema difuso\n",
    "        simulador.input['presion'] = inputs_presion[i]\n",
    "        simulador.input['amperaje'] = inputs_amperaje[i]\n",
    "        simulador.input['vibraciones'] = inputs_vibraciones[i]\n",
    "        simulador.input['temperatura'] = inputs_temperatura[i]\n",
    "        simulador.input['alineacion'] = inputs_alineacion[i]\n",
    "        \n",
    "        # Realizar inferencia\n",
    "        simulador.compute()\n",
    "        valor_crisp = simulador.output[\"estado\"]\n",
    "        \n",
    "        # Mapear el valor crisp a un nivel lingüístico\n",
    "        estado_predicho = mapear_estado(valor_crisp)\n",
    "        y_pred.append(estado_predicho)\n",
    "    except Exception as e:\n",
    "        print(f\"Error en la fila {i}: {e}\")\n",
    "        y_pred.append(\"desconocido\")  # Etiqueta para errores\n",
    "\n",
    "# Asegurarse de que ambas listas (y_true, y_pred) sean consistentes\n",
    "if len(y_true) != len(y_pred):\n",
    "    print(\"Error: Las listas de etiquetas reales y predichas tienen tamaños diferentes.\")\n",
    "\n",
    "# Calcular la matriz de confusión\n",
    "etiquetas = [\"normal\", \"alerta\", \"critico\"] \n",
    "matriz_confusion = confusion_matrix(y_true, y_pred, labels=etiquetas)\n",
    "\n",
    "# Crear un DataFrame para la matriz de confusión\n",
    "df_confusion = pd.DataFrame(matriz_confusion, index=etiquetas, columns=etiquetas)\n",
    "\n",
    "\n",
    "display(\"Matriz de Confusión:\")\n",
    "display(df_confusion)\n",
    "\n",
    "\n",
    "custom_colorscale = [\n",
    "    [0.0, 'rgb(255, 255, 255)'],  # Blanco para valores bajos\n",
    "    [0.2, 'rgb(200, 230, 255)'],  # Azul claro\n",
    "    [0.4, 'rgb(150, 200, 255)'],  # Azul medio\n",
    "    [0.6, 'rgb(100, 170, 255)'],  # Azul más fuerte\n",
    "    [0.8, 'rgb(50, 140, 255)'],   # Azul intenso\n",
    "    [1.0, 'rgb(0, 100, 255)']     # Azul oscuro para valores altos\n",
    "]\n",
    "\n",
    "\n",
    "# Visualizar gráficamente la matriz de confusión con los nuevos colores\n",
    "fig = go.Figure(data=go.Heatmap(\n",
    "    z=matriz_confusion,\n",
    "    x=etiquetas,\n",
    "    y=etiquetas,\n",
    "    colorscale=custom_colorscale,  \n",
    "    text=matriz_confusion, \n",
    "    texttemplate=\"%{text}\",\n",
    "    textfont={\"size\": 14}\n",
    "))\n",
    "fig.update_layout(\n",
    "    title='Matriz de Confusión',\n",
    "    xaxis_title='Predicciones',\n",
    "    yaxis_title='Reales',\n",
    "    font=dict(size=16)\n",
    ")\n",
    "fig.show()"
   ]
  },
  {
   "cell_type": "markdown",
   "metadata": {},
   "source": [
    "* **Interpretación General**\n",
    "\n",
    "    1. **Diagonal Principal:**\n",
    "    - La diagonal principal representa las predicciones correctas:\n",
    "        - **242 casos correctamente clasificados como \"normal\".**\n",
    "        - **94 casos correctamente clasificados como \"alerta\".**\n",
    "        - **40 casos correctamente clasificados como \"crítico\".**\n",
    "\n",
    "    2. **Errores de Clasificación:**\n",
    "        - **60 casos clasificados incorrectamente como \"alerta\" en lugar de \"normal\".**\n",
    "        - **33 casos clasificados incorrectamente como \"crítico\" en lugar de \"alerta\".**\n",
    "        - **6 casos clasificados incorrectamente como \"alerta\" en lugar de \"crítico\".**</p>\n",
    "\n",
    "* **Interpretación por Categoría**\n",
    "\n",
    "    1. **Estado \"Normal\":**\n",
    "        - El sistema tuvo un buen desempeño al identificar estados normales, con **242 clasificaciones correctas**.\n",
    "        - Sin embargo, **60 estados normales** fueron clasificados erróneamente como \"alerta\", lo que podría indicar una sensibilidad hacia cambios leves en las variables.\n",
    "\n",
    "    2. **Estado \"Alerta\":**\n",
    "     - Aunque se lograron **94 clasificaciones correctas**, hubo errores significativos:\n",
    "        - **33 estados de alerta** fueron clasificados como \"crítico\".\n",
    "        - Esto podría reflejar un límite difuso entre \"alerta\" y \"crítico\" en las reglas definidas.\n",
    "\n",
    "    3. **Estado \"Crítico\":**\n",
    "    - El sistema clasificó correctamente **40 casos críticos**, pero tuvo problemas al confundir estados:\n",
    "        - **6 estados críticos** fueron clasificados como \"alerta\".\n",
    "        - Esto indica una subestimación de la gravedad en ciertas combinaciones de entrada."
   ]
  },
  {
   "cell_type": "code",
   "execution_count": 30,
   "metadata": {},
   "outputs": [
    {
     "data": {
      "text/html": [
       "<div>\n",
       "<style scoped>\n",
       "    .dataframe tbody tr th:only-of-type {\n",
       "        vertical-align: middle;\n",
       "    }\n",
       "\n",
       "    .dataframe tbody tr th {\n",
       "        vertical-align: top;\n",
       "    }\n",
       "\n",
       "    .dataframe thead th {\n",
       "        text-align: right;\n",
       "    }\n",
       "</style>\n",
       "<table border=\"1\" class=\"dataframe\">\n",
       "  <thead>\n",
       "    <tr style=\"text-align: right;\">\n",
       "      <th></th>\n",
       "      <th>precision</th>\n",
       "      <th>recall</th>\n",
       "      <th>f1-score</th>\n",
       "      <th>support</th>\n",
       "    </tr>\n",
       "  </thead>\n",
       "  <tbody>\n",
       "    <tr>\n",
       "      <th>normal</th>\n",
       "      <td>0.587500</td>\n",
       "      <td>0.740157</td>\n",
       "      <td>0.655052</td>\n",
       "      <td>127.000000</td>\n",
       "    </tr>\n",
       "    <tr>\n",
       "      <th>alerta</th>\n",
       "      <td>0.547945</td>\n",
       "      <td>0.869565</td>\n",
       "      <td>0.672269</td>\n",
       "      <td>46.000000</td>\n",
       "    </tr>\n",
       "    <tr>\n",
       "      <th>critico</th>\n",
       "      <td>1.000000</td>\n",
       "      <td>0.801325</td>\n",
       "      <td>0.889706</td>\n",
       "      <td>302.000000</td>\n",
       "    </tr>\n",
       "    <tr>\n",
       "      <th>accuracy</th>\n",
       "      <td>0.791579</td>\n",
       "      <td>0.791579</td>\n",
       "      <td>0.791579</td>\n",
       "      <td>0.791579</td>\n",
       "    </tr>\n",
       "    <tr>\n",
       "      <th>macro avg</th>\n",
       "      <td>0.711815</td>\n",
       "      <td>0.803682</td>\n",
       "      <td>0.739009</td>\n",
       "      <td>475.000000</td>\n",
       "    </tr>\n",
       "    <tr>\n",
       "      <th>weighted avg</th>\n",
       "      <td>0.845933</td>\n",
       "      <td>0.791579</td>\n",
       "      <td>0.805910</td>\n",
       "      <td>475.000000</td>\n",
       "    </tr>\n",
       "  </tbody>\n",
       "</table>\n",
       "</div>"
      ],
      "text/plain": [
       "              precision    recall  f1-score     support\n",
       "normal         0.587500  0.740157  0.655052  127.000000\n",
       "alerta         0.547945  0.869565  0.672269   46.000000\n",
       "critico        1.000000  0.801325  0.889706  302.000000\n",
       "accuracy       0.791579  0.791579  0.791579    0.791579\n",
       "macro avg      0.711815  0.803682  0.739009  475.000000\n",
       "weighted avg   0.845933  0.791579  0.805910  475.000000"
      ]
     },
     "metadata": {},
     "output_type": "display_data"
    }
   ],
   "source": [
    "# Calcular métricas de clasificación\n",
    "reporte = classification_report(y_true, y_pred, target_names=etiquetas, output_dict=True)\n",
    "\n",
    "# Crear un DataFrame para las métricas\n",
    "df_metricas = pd.DataFrame(reporte).transpose()\n",
    "\n",
    "display(df_metricas)\n"
   ]
  },
  {
   "cell_type": "markdown",
   "metadata": {},
   "source": [
    "* **Interpretación por Categoría**\n",
    "\n",
    "    1. **Estado Normal:**\n",
    "    - **Precisión:** 0.5875\n",
    "        - Más del 58% de las predicciones de \"normal\" fueron correctas, pero este valor es relativamente bajo, indicando un alto número de falsos positivos.\n",
    "    - **Recall:** 0.7401\n",
    "        - El modelo identificó correctamente el 74% de los casos reales de \"normal\".\n",
    "    - **F1-Score:** 0.6550\n",
    "        - Esto indica un balance moderado entre precisión y recall.\n",
    "\n",
    "    2. **Estado Alerta:**\n",
    "    - **Precisión:** 0.5479\n",
    "        - Solo el 54% de las predicciones de \"alerta\" fueron correctas.\n",
    "    - **Recall:** 0.8696\n",
    "        - El modelo identificó correctamente el 87% de los casos reales de \"alerta\".\n",
    "    - **F1-Score:** 0.6723\n",
    "        - Similar al estado \"normal\", hay un balance moderado, pero la baja precisión sugiere falsos positivos significativos.\n",
    "\n",
    "    3. **Estado Crítico:**\n",
    "    - **Precisión:** 1.0000\n",
    "        - Todas las predicciones de \"crítico\" fueron correctas, lo que muestra que el modelo no tuvo falsos positivos en esta categoría.\n",
    "    - **Recall:** 0.8013\n",
    "        - El modelo identificó correctamente el 80% de los casos reales de \"crítico\".\n",
    "    - **F1-Score:** 0.8897\n",
    "        - Esta es la categoría más sólida, mostrando un buen balance y una excelente capacidad predictiva.\n",
    "\n",
    "\n",
    "* **Métricas Globales**\n",
    "\n",
    "    1. **Accuracy:** 0.7916\n",
    "    - El modelo tiene una precisión general del 79%, lo que es razonable pero podría mejorar, especialmente en las categorías \"normal\" y \"alerta\".\n",
    "\n",
    "    2. **Macro Average:**\n",
    "    - **Precision (0.7118):**\n",
    "        - La precisión promedio por categoría indica que hay margen de mejora en \"normal\" y \"alerta\".\n",
    "    - **Recall (0.8037):**\n",
    "        - El modelo tiene un buen desempeño en términos de recall, identificando correctamente la mayoría de los casos en cada categoría.\n",
    "    - **F1-Score (0.7390):**\n",
    "        - El balance general entre precisión y recall es moderado.\n",
    "\n",
    "* **Posibles Mejoras**\n",
    "\n",
    "    1. **Afinar las Reglas Difusas:**\n",
    "        - Revisar las reglas que asignan \"normal\" y \"alerta\" para reducir la confusión entre estas categorías.\n",
    "        - Incrementar la sensibilidad de las reglas relacionadas con \"normal\" y \"alerta\".\n",
    "\n",
    "    2. **Revisión de Funciones de Pertenencia:**\n",
    "        - Evaluar si los límites actuales de las funciones de pertenencia están correctamente definidos, especialmente en los conjuntos difusos de las variables asociadas con \"normal\" y \"alerta\".\n",
    "\n",
    "    3. **Equilibrio de Datos:**\n",
    "        - Si hay un desequilibrio en las etiquetas, aumentar la cantidad de ejemplos en las categorías \"alerta\" y \"normal\" podría mejorar la precisión.\n",
    "\n",
    "    4. **Evaluación de Otros Métodos de Desfuzzificación:**\n",
    "        - Probar métodos como el \"Mean of Maximum (MoM)\" o \"Smallest of Maximum (SoM)\" para ver si mejoran la clasificación de casos límite.\n",
    "\n",
    "    5. **Optimización del Umbral:**\n",
    "        - Ajustar los valores de salida crisp en los niveles \"normal\" y \"alerta\" para minimizar los falsos positivos.\n",
    "\n",
    "    6. **Uso de Validación Cruzada:**\n",
    "        - Implementar validación cruzada para garantizar que el modelo esté generalizando bien y no esté ajustado a un subconjunto específico de datos.\n",
    "\n",
    "* **Conclusión**\n",
    "    El sistema muestra un buen desempeño en la categoría \"crítico\", pero tiene margen de mejora en \"normal\" y \"alerta\". El enfoque debe centrarse en ajustar las reglas y funciones de pertenencia para minimizar los falsos positivos entre estas categorías, lo que aumentará la precisión global y mejorará el F1-score. "
   ]
  }
 ],
 "metadata": {
  "colab": {
   "provenance": []
  },
  "kernelspec": {
   "display_name": "TimesSeries",
   "language": "python",
   "name": "python3"
  },
  "language_info": {
   "codemirror_mode": {
    "name": "ipython",
    "version": 3
   },
   "file_extension": ".py",
   "mimetype": "text/x-python",
   "name": "python",
   "nbconvert_exporter": "python",
   "pygments_lexer": "ipython3",
   "version": "3.9.16"
  }
 },
 "nbformat": 4,
 "nbformat_minor": 0
}
